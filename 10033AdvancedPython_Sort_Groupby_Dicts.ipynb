{
  "nbformat": 4,
  "nbformat_minor": 0,
  "metadata": {
    "colab": {
      "name": "10033AdvancedPython_Sort_Groupby_Dicts.ipynb",
      "provenance": [],
      "collapsed_sections": [],
      "authorship_tag": "ABX9TyOh7iTUwpWa/U/IxtT/NKwh",
      "include_colab_link": true
    },
    "kernelspec": {
      "name": "python3",
      "display_name": "Python 3"
    },
    "language_info": {
      "name": "python"
    }
  },
  "cells": [
    {
      "cell_type": "markdown",
      "metadata": {
        "id": "view-in-github",
        "colab_type": "text"
      },
      "source": [
        "<a href=\"https://colab.research.google.com/github/Shivaram17/100DaysOfAdvancedPythonCoding/blob/main/10033AdvancedPython_Sort_Groupby_Dicts.ipynb\" target=\"_parent\"><img src=\"https://colab.research.google.com/assets/colab-badge.svg\" alt=\"Open In Colab\"/></a>"
      ]
    },
    {
      "cell_type": "code",
      "source": [
        "#sorting multiple dictionaries in a list\n",
        "from operator import itemgetter\n",
        "from itertools import groupby\n",
        "rows = [\n",
        "{'address': '5412 N CLARK', 'date': '07/01/2012'},\n",
        "{'address': '5148 N CLARK', 'date': '07/04/2012'},\n",
        "{'address': '5800 E 58TH', 'date': '07/02/2012'},\n",
        "{'address': '2122 N CLARK', 'date': '07/03/2012'},\n",
        "{'address': '5645 N RAVENSWOOD', 'date': '07/02/2012'},\n",
        "{'address': '1060 W ADDISON', 'date': '07/02/2012'},\n",
        "{'address': '4801 N BROADWAY', 'date': '07/01/2012'},\n",
        "{'address': '1039 W GRANVILLE', 'date': '07/04/2012'},\n",
        "]\n",
        "# sort rows dict by date key\n",
        "rows.sort(key = itemgetter('date'))\n",
        "\n",
        "# itertools groupby\n",
        "for date, items in groupby(rows, key = itemgetter('date')):\n",
        "  print(date)\n",
        "  for i in items:\n",
        "    print('   ', i)"
      ],
      "metadata": {
        "colab": {
          "base_uri": "https://localhost:8080/"
        },
        "id": "4L8W7KiONDKw",
        "outputId": "026a7d4b-5458-4d4e-e71f-615b8242a3f0"
      },
      "execution_count": 5,
      "outputs": [
        {
          "output_type": "stream",
          "name": "stdout",
          "text": [
            "07/01/2012\n",
            "    {'address': '5412 N CLARK', 'date': '07/01/2012'}\n",
            "    {'address': '4801 N BROADWAY', 'date': '07/01/2012'}\n",
            "07/02/2012\n",
            "    {'address': '5800 E 58TH', 'date': '07/02/2012'}\n",
            "    {'address': '5645 N RAVENSWOOD', 'date': '07/02/2012'}\n",
            "    {'address': '1060 W ADDISON', 'date': '07/02/2012'}\n",
            "07/03/2012\n",
            "    {'address': '2122 N CLARK', 'date': '07/03/2012'}\n",
            "07/04/2012\n",
            "    {'address': '5148 N CLARK', 'date': '07/04/2012'}\n",
            "    {'address': '1039 W GRANVILLE', 'date': '07/04/2012'}\n"
          ]
        }
      ]
    },
    {
      "cell_type": "code",
      "source": [
        ""
      ],
      "metadata": {
        "id": "rOai3rJxRNon"
      },
      "execution_count": null,
      "outputs": []
    }
  ]
}