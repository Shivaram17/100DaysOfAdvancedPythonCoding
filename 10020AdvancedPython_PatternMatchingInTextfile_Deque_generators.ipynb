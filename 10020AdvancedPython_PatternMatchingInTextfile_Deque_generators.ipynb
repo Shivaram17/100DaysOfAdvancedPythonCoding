{
  "nbformat": 4,
  "nbformat_minor": 0,
  "metadata": {
    "colab": {
      "name": "10020AdvancedPython_PatternMatchingInTextfile_Deque_generators.ipynb",
      "provenance": [],
      "collapsed_sections": [],
      "authorship_tag": "ABX9TyPdTzr1gBKhRwZrZc6K3K5J",
      "include_colab_link": true
    },
    "kernelspec": {
      "name": "python3",
      "display_name": "Python 3"
    },
    "language_info": {
      "name": "python"
    }
  },
  "cells": [
    {
      "cell_type": "markdown",
      "metadata": {
        "id": "view-in-github",
        "colab_type": "text"
      },
      "source": [
        "<a href=\"https://colab.research.google.com/github/Shivaram17/100DaysOfAdvancedPythonCoding/blob/main/10020AdvancedPython_PatternMatchingInTextfile_Deque_generators.ipynb\" target=\"_parent\"><img src=\"https://colab.research.google.com/assets/colab-badge.svg\" alt=\"Open In Colab\"/></a>"
      ]
    },
    {
      "cell_type": "markdown",
      "source": [
        "# Generator in Python"
      ],
      "metadata": {
        "id": "hP835Txn_yva"
      }
    },
    {
      "cell_type": "code",
      "source": [
        "#Pattern matching in a text file using generators and deque \n",
        "from collections import deque\n",
        "def search(lines, pattern, history = 5):\n",
        "  previous_lines = deque(maxlen = history)\n",
        "  for line in lines:\n",
        "    if pattern in line:\n",
        "      # generator\n",
        "      yield line, previous_lines\n",
        "    previous_lines.append(line)\n",
        "    print(previous_lines)\n",
        "\n",
        "# example of file reading\n",
        "if __name__ == '__main__':\n",
        "  with open('sometext.txt') as f:\n",
        "    for line, prevlines in search(f, 'coding',3):\n",
        "      for pline in line: \n",
        "        print(pline, end='')\n",
        "      print(line, end='')\n",
        "      print(' '*45, '*'*20, \"End\",'*'*20)\n"
      ],
      "metadata": {
        "id": "K_rZ5TWe__kK",
        "colab": {
          "base_uri": "https://localhost:8080/"
        },
        "outputId": "0dc713b4-2adc-40ef-dac8-d296db69d077"
      },
      "execution_count": 30,
      "outputs": [
        {
          "output_type": "stream",
          "name": "stdout",
          "text": [
            "I love coding in python and I am consistently coding for more than 100 days. I know being consistent helps me to get better at what I am doing.\n",
            "I love coding in python and I am consistently coding for more than 100 days. I know being consistent helps me to get better at what I am doing.\n",
            "                                              ******************** End ********************\n",
            "deque(['I love coding in python and I am consistently coding for more than 100 days. I know being consistent helps me to get better at what I am doing.\\n'], maxlen=3)\n",
            "deque(['I love coding in python and I am consistently coding for more than 100 days. I know being consistent helps me to get better at what I am doing.\\n', 'Consistency combined with compounding gives us enormous returns in our life.\\n'], maxlen=3)\n",
            "deque(['I love coding in python and I am consistently coding for more than 100 days. I know being consistent helps me to get better at what I am doing.\\n', 'Consistency combined with compounding gives us enormous returns in our life.\\n', 'Regards\\n'], maxlen=3)\n",
            "deque(['Consistency combined with compounding gives us enormous returns in our life.\\n', 'Regards\\n', 'Shivaram'], maxlen=3)\n"
          ]
        }
      ]
    },
    {
      "cell_type": "code",
      "source": [
        ""
      ],
      "metadata": {
        "id": "78QIHYvFDuxX"
      },
      "execution_count": null,
      "outputs": []
    }
  ]
}