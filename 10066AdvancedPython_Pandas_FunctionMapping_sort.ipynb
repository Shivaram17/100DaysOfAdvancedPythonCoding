{
  "nbformat": 4,
  "nbformat_minor": 0,
  "metadata": {
    "colab": {
      "name": "10066AdvancedPython_Pandas_FunctionMapping_sort.ipynb",
      "provenance": [],
      "collapsed_sections": [],
      "authorship_tag": "ABX9TyMKHi6PCWI5s/XJuOPdZcLc",
      "include_colab_link": true
    },
    "kernelspec": {
      "name": "python3",
      "display_name": "Python 3"
    },
    "language_info": {
      "name": "python"
    }
  },
  "cells": [
    {
      "cell_type": "markdown",
      "metadata": {
        "id": "view-in-github",
        "colab_type": "text"
      },
      "source": [
        "<a href=\"https://colab.research.google.com/github/Shivaram17/100DaysOfAdvancedPythonCoding/blob/main/10066AdvancedPython_Pandas_FunctionMapping_sort.ipynb\" target=\"_parent\"><img src=\"https://colab.research.google.com/assets/colab-badge.svg\" alt=\"Open In Colab\"/></a>"
      ]
    },
    {
      "cell_type": "code",
      "source": [
        "# function application and mapping\n",
        "import pandas as pd\n",
        "import numpy as np\n",
        "frame = pd.DataFrame(np.random.rand(4,4), columns = list('abcd'),\n",
        "                     index = ['Bas', 'Chin', 'San', 'Sai'])\n",
        "frame\n",
        "# apply func\n",
        "f = lambda x: x.max() - x.min()\n",
        "frame.apply(f, axis = 'columns')\n",
        "# applymap for formating elementwise operations\n",
        "format = lambda x: '%.2f' % x\n",
        "frame.applymap(format)\n",
        "# series \n",
        "frame['c'].map(format)"
      ],
      "metadata": {
        "id": "K3jrRAS8idaU",
        "colab": {
          "base_uri": "https://localhost:8080/"
        },
        "outputId": "cc3ff26e-4d4b-454e-8b0f-326d7af2437c"
      },
      "execution_count": 10,
      "outputs": [
        {
          "output_type": "execute_result",
          "data": {
            "text/plain": [
              "Bas     0.66\n",
              "Chin    0.88\n",
              "San     0.17\n",
              "Sai     0.34\n",
              "Name: c, dtype: object"
            ]
          },
          "metadata": {},
          "execution_count": 10
        }
      ]
    },
    {
      "cell_type": "code",
      "source": [
        "# sorting columns by sort_ index\n",
        "frame = pd.DataFrame(np.arange(8).reshape(2,4),\n",
        "                    index = ['three', 'one'],\n",
        "                     columns = list('dbca'))\n",
        "frame.sort_index()\n",
        "# desc\n",
        "frame.sort_index(axis =1, ascending= False)\n",
        "# to sort a series by its values, use its sort_values method\n",
        "obj = pd.Series([4,5,-7,6])\n",
        "obj.sort_values()\n",
        "# any missing values are sorted to the end of the series by default\n",
        "obj1 = pd.Series([4,np.nan,8,-9,np.nan,6])\n",
        "obj1.sort_values()"
      ],
      "metadata": {
        "colab": {
          "base_uri": "https://localhost:8080/"
        },
        "id": "XfjXLcM6OSGo",
        "outputId": "4a4d220a-68ea-438f-cea6-f5ac8cc6c983"
      },
      "execution_count": 18,
      "outputs": [
        {
          "output_type": "execute_result",
          "data": {
            "text/plain": [
              "3   -9.0\n",
              "0    4.0\n",
              "5    6.0\n",
              "2    8.0\n",
              "1    NaN\n",
              "4    NaN\n",
              "dtype: float64"
            ]
          },
          "metadata": {},
          "execution_count": 18
        }
      ]
    },
    {
      "cell_type": "code",
      "source": [
        ""
      ],
      "metadata": {
        "id": "vxal64AMWKLf"
      },
      "execution_count": null,
      "outputs": []
    }
  ]
}