{
  "nbformat": 4,
  "nbformat_minor": 0,
  "metadata": {
    "colab": {
      "name": "10011AdvancedPython_MultithreadingCalCubeSquare.ipynb",
      "provenance": [],
      "collapsed_sections": [],
      "authorship_tag": "ABX9TyOTH76IWJueKgEy0laxi+l0",
      "include_colab_link": true
    },
    "kernelspec": {
      "name": "python3",
      "display_name": "Python 3"
    },
    "language_info": {
      "name": "python"
    }
  },
  "cells": [
    {
      "cell_type": "markdown",
      "metadata": {
        "id": "view-in-github",
        "colab_type": "text"
      },
      "source": [
        "<a href=\"https://colab.research.google.com/github/Shivaram17/100DaysOfAdvancedPythonCoding/blob/main/10011AdvancedPython_MultithreadingCalCubeSquare.ipynb\" target=\"_parent\"><img src=\"https://colab.research.google.com/assets/colab-badge.svg\" alt=\"Open In Colab\"/></a>"
      ]
    },
    {
      "cell_type": "code",
      "source": [
        "# Decorators and its use case\n",
        "import time\n",
        "def time_it(func):\n",
        "  def wrapper(*args,**kwargs):\n",
        "    start = time.time()\n",
        "    result = func(*args, **kwargs)\n",
        "    end = time.time()\n",
        "    print(func.__name__ + ' took ' + str((end-start)*1000) + 'milliseconds')\n",
        "    return result\n",
        "  return wrapper\n",
        "# use  decorator here\n",
        "@time_it\n",
        "def calc_square(numbers):\n",
        "  result = []\n",
        "  for i in numbers:\n",
        "    result.append(i*i)\n",
        "@time_it    \n",
        "def calc_cube(numbers):\n",
        "  result = []\n",
        "  for i in numbers:\n",
        "    result.append(i*i*i)\n",
        "  return result\n",
        "\n",
        "array = range(1,1000)\n",
        "calc_cube(array)\n",
        "calc_square(array)"
      ],
      "metadata": {
        "id": "1z2lanNsiGWw",
        "colab": {
          "base_uri": "https://localhost:8080/"
        },
        "outputId": "3130c4e5-70b7-4db8-afc8-517f6934ee25"
      },
      "execution_count": null,
      "outputs": [
        {
          "output_type": "stream",
          "name": "stdout",
          "text": [
            "calc_cube took 0.2655982971191406milliseconds\n",
            "calc_square took 0.14257431030273438milliseconds\n"
          ]
        }
      ]
    },
    {
      "cell_type": "code",
      "source": [
        "# Multithreading \n",
        "import time \n",
        "import threading\n",
        "\n",
        "def calc_sq(n):\n",
        "  result = []\n",
        "  for i in n:\n",
        "    time.sleep(0.2)\n",
        "    result.append(i*i)\n",
        "    print(i*i)\n",
        "  return result\n",
        "\n",
        "def calc_cu(n):\n",
        "  result = []\n",
        "  for i in n:\n",
        "    time.sleep(0.2)\n",
        "    result.append(i*i*i)\n",
        "    print(i*i*i)\n",
        "  return result\n",
        "\n",
        "array = [1,2,3,4,5]\n",
        "t = time.time()\n",
        "t1 = threading.Thread(target = calc_sq, args=(array,))\n",
        "t2 = threading.Thread(target = calc_cu, args = (array,))\n",
        "\n",
        "#start threads\n",
        "t1.start()\n",
        "t2.start()\n",
        "\n",
        "#join\n",
        "t1.join()\n",
        "t2.join()\n",
        "print(\"total time: \", (time.time() - t ))\n",
        "print(\"Hey, I am done with the code for today, I have learned multithreading today\")"
      ],
      "metadata": {
        "colab": {
          "base_uri": "https://localhost:8080/"
        },
        "id": "-i0PazbkQ1_8",
        "outputId": "22630890-76fb-4a31-c120-e6c4d27dcd3d"
      },
      "execution_count": 7,
      "outputs": [
        {
          "output_type": "stream",
          "name": "stdout",
          "text": [
            "1\n",
            "1\n",
            "4\n",
            "8\n",
            "9\n",
            "27\n",
            "16\n",
            "64\n",
            "25\n",
            "125\n",
            "total time:  1.006397008895874\n",
            "Hey, I am done with the code for today, I have learned multithreading today\n"
          ]
        }
      ]
    },
    {
      "cell_type": "code",
      "source": [
        " "
      ],
      "metadata": {
        "id": "y9JkZD-e-dTG"
      },
      "execution_count": 6,
      "outputs": []
    },
    {
      "cell_type": "code",
      "source": [
        ""
      ],
      "metadata": {
        "id": "5MZOPmLo9csG"
      },
      "execution_count": null,
      "outputs": []
    }
  ]
}