{
  "nbformat": 4,
  "nbformat_minor": 0,
  "metadata": {
    "colab": {
      "name": "10029AdvancedPython_RemoveDupMaintainingOrder.ipynb",
      "provenance": [],
      "collapsed_sections": [],
      "authorship_tag": "ABX9TyNZ12Zy+lYrwUWoihkFF9RD",
      "include_colab_link": true
    },
    "kernelspec": {
      "name": "python3",
      "display_name": "Python 3"
    },
    "language_info": {
      "name": "python"
    }
  },
  "cells": [
    {
      "cell_type": "markdown",
      "metadata": {
        "id": "view-in-github",
        "colab_type": "text"
      },
      "source": [
        "<a href=\"https://colab.research.google.com/github/Shivaram17/100DaysOfAdvancedPythonCoding/blob/main/10029AdvancedPython_RemoveDupMaintainingOrder.ipynb\" target=\"_parent\"><img src=\"https://colab.research.google.com/assets/colab-badge.svg\" alt=\"Open In Colab\"/></a>"
      ]
    },
    {
      "cell_type": "code",
      "source": [
        "# Eliminate duplicate values in a sequence\n",
        "def dedupe(items):\n",
        "  seen = set()\n",
        "  for item in items:\n",
        "    if item not in seen:\n",
        "      yield item\n",
        "      seen.add(item)\n",
        "  return seen\n",
        "a = [1,2,3,4,5,6,7,7,8]\n",
        "acc = list(dedupe(a))\n",
        "acc\n"
      ],
      "metadata": {
        "id": "my_yKjI4Ykfx",
        "colab": {
          "base_uri": "https://localhost:8080/"
        },
        "outputId": "27f9851a-8a2a-4d10-aac2-1712e784efca"
      },
      "execution_count": 1,
      "outputs": [
        {
          "output_type": "execute_result",
          "data": {
            "text/plain": [
              "[1, 2, 3, 4, 5, 6, 7, 8]"
            ]
          },
          "metadata": {},
          "execution_count": 1
        }
      ]
    },
    {
      "cell_type": "code",
      "source": [
        ""
      ],
      "metadata": {
        "id": "BjukQalAx-3t"
      },
      "execution_count": null,
      "outputs": []
    }
  ]
}