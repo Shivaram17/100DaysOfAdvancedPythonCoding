{
  "nbformat": 4,
  "nbformat_minor": 0,
  "metadata": {
    "colab": {
      "name": "10019AdvancedPython_RecursiveUnpacking.ipynb",
      "provenance": [],
      "collapsed_sections": [],
      "authorship_tag": "ABX9TyO+wC1xWpVkmwpSL8gN+dVl",
      "include_colab_link": true
    },
    "kernelspec": {
      "name": "python3",
      "display_name": "Python 3"
    },
    "language_info": {
      "name": "python"
    }
  },
  "cells": [
    {
      "cell_type": "markdown",
      "metadata": {
        "id": "view-in-github",
        "colab_type": "text"
      },
      "source": [
        "<a href=\"https://colab.research.google.com/github/Shivaram17/100DaysOfAdvancedPythonCoding/blob/main/10019AdvancedPython_RecursiveUnpacking.ipynb\" target=\"_parent\"><img src=\"https://colab.research.google.com/assets/colab-badge.svg\" alt=\"Open In Colab\"/></a>"
      ]
    },
    {
      "cell_type": "code",
      "source": [
        "#extended iterable unpacking\n",
        "def do_foo(x,y):\n",
        "  print('foo',x,y)\n",
        "\n",
        "def do_bar(s):\n",
        "  print('bar',s)\n",
        "\n",
        "records = [('foo',10,12), \n",
        "           ('bar','hello'),\n",
        "           ('foo', 123,124)]\n",
        "\n",
        "for tag, *args in records:\n",
        "  if tag == 'foo':\n",
        "    do_foo(*args)\n",
        "  elif tag == 'bar':\n",
        "    do_bar(*args)\n"
      ],
      "metadata": {
        "colab": {
          "base_uri": "https://localhost:8080/"
        },
        "id": "yXSU2BHw5Z7b",
        "outputId": "9b173ea1-2800-4831-9988-484157bc8296"
      },
      "execution_count": 4,
      "outputs": [
        {
          "output_type": "stream",
          "name": "stdout",
          "text": [
            "foo 10 12\n",
            "bar hello\n",
            "foo 123 124\n"
          ]
        }
      ]
    },
    {
      "cell_type": "code",
      "source": [
        "#recursive unpacking\n",
        "def sum(items):\n",
        "  head, *tail = items\n",
        "  return head + sum(tail) if tail else head\n",
        "\n",
        "items = [1,10,2,22,31,32,13,84]\n",
        "sum(items)"
      ],
      "metadata": {
        "colab": {
          "base_uri": "https://localhost:8080/"
        },
        "id": "18JEELTK8mMi",
        "outputId": "d08f8df4-c310-4f6b-e6ce-5e5c0224bb36"
      },
      "execution_count": 6,
      "outputs": [
        {
          "output_type": "execute_result",
          "data": {
            "text/plain": [
              "195"
            ]
          },
          "metadata": {},
          "execution_count": 6
        }
      ]
    },
    {
      "cell_type": "code",
      "source": [
        ""
      ],
      "metadata": {
        "id": "yP4eTy-J-Dyt"
      },
      "execution_count": null,
      "outputs": []
    }
  ]
}