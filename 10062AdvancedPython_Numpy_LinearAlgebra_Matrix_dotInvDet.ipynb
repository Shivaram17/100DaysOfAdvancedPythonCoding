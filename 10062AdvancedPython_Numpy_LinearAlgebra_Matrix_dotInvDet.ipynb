{
  "nbformat": 4,
  "nbformat_minor": 0,
  "metadata": {
    "colab": {
      "name": "10062AdvancedPython_Numpy_LinearAlgebra_Matrix_dotInvDet.ipynb",
      "provenance": [],
      "collapsed_sections": [],
      "authorship_tag": "ABX9TyO7TLyvDCuaE8lJFKi+wQSw",
      "include_colab_link": true
    },
    "kernelspec": {
      "name": "python3",
      "display_name": "Python 3"
    },
    "language_info": {
      "name": "python"
    }
  },
  "cells": [
    {
      "cell_type": "markdown",
      "metadata": {
        "id": "view-in-github",
        "colab_type": "text"
      },
      "source": [
        "<a href=\"https://colab.research.google.com/github/Shivaram17/100DaysOfAdvancedPythonCoding/blob/main/10062AdvancedPython_Numpy_LinearAlgebra_Matrix_dotInvDet.ipynb\" target=\"_parent\"><img src=\"https://colab.research.google.com/assets/colab-badge.svg\" alt=\"Open In Colab\"/></a>"
      ]
    },
    {
      "cell_type": "code",
      "source": [
        "# numpy arr sorting\n",
        "import numpy as np\n",
        "arr = np.random.randn(100)\n",
        "arr.sort()\n",
        "\n",
        "#np unique\n",
        "names = np.array(['Joe', 'Bob', 'Right', 'Bob', 'Joe'])\n",
        "np.unique(names)"
      ],
      "metadata": {
        "colab": {
          "base_uri": "https://localhost:8080/"
        },
        "id": "6ritId_mzX99",
        "outputId": "ad278e36-4706-44be-ad93-53aedc18ab16"
      },
      "execution_count": null,
      "outputs": [
        {
          "output_type": "execute_result",
          "data": {
            "text/plain": [
              "array(['Bob', 'Joe', 'Right'], dtype='<U5')"
            ]
          },
          "metadata": {},
          "execution_count": 24
        }
      ]
    },
    {
      "cell_type": "code",
      "source": [
        " # Linear algebra numpy \n",
        " import numpy as np\n",
        " x = np.array([[1,2,3], [4,5,6]])\n",
        " y = np.array([[5,10], [4,8], [2,6]])\n",
        " \n",
        " # np.dot 2,3 dot 3,2 = 2,2\n",
        " np.dot(x,y)\n",
        " y.dot(x)\n",
        "\n",
        " from numpy.linalg import inv, qr\n",
        " arr = np.random.rand(5,4)\n",
        " # The expression X.T.dot(X) computes the dot product of X with its transpose X.T. transpose and inverse\n",
        " mat = arr.T.dot(arr)\n",
        " \n",
        " # inverse\n",
        " inv(mat)\n",
        " # determinat of a matrix\n",
        " np.linalg.det(mat)"
      ],
      "metadata": {
        "id": "meOCuxdlOQGt",
        "colab": {
          "base_uri": "https://localhost:8080/"
        },
        "outputId": "d6f8ecb0-370a-4494-91e9-9556387ac464"
      },
      "execution_count": 16,
      "outputs": [
        {
          "output_type": "execute_result",
          "data": {
            "text/plain": [
              "0.00763676228238611"
            ]
          },
          "metadata": {},
          "execution_count": 16
        }
      ]
    },
    {
      "cell_type": "code",
      "source": [
        ""
      ],
      "metadata": {
        "id": "r8nb1OWhHmVa"
      },
      "execution_count": null,
      "outputs": []
    }
  ]
}