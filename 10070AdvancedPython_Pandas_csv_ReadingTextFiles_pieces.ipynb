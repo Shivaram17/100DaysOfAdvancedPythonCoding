{
  "nbformat": 4,
  "nbformat_minor": 0,
  "metadata": {
    "colab": {
      "name": "10070AdvancedPython_Pandas_csv_ReadingTextFiles_pieces.ipynb",
      "provenance": [],
      "collapsed_sections": [],
      "authorship_tag": "ABX9TyP+6VMalwfVoafncmi1Aszr",
      "include_colab_link": true
    },
    "kernelspec": {
      "name": "python3",
      "display_name": "Python 3"
    },
    "language_info": {
      "name": "python"
    }
  },
  "cells": [
    {
      "cell_type": "markdown",
      "metadata": {
        "id": "view-in-github",
        "colab_type": "text"
      },
      "source": [
        "<a href=\"https://colab.research.google.com/github/Shivaram17/100DaysOfAdvancedPythonCoding/blob/main/10070AdvancedPython_Pandas_csv_ReadingTextFiles_pieces.ipynb\" target=\"_parent\"><img src=\"https://colab.research.google.com/assets/colab-badge.svg\" alt=\"Open In Colab\"/></a>"
      ]
    },
    {
      "cell_type": "code",
      "source": [
        "# read csv files selecting only 5 rows out of whole dataset for easy verification and also splitting into chunks\n",
        "import pandas as pd\n",
        "result = pd.read_csv('annual-enterprise-survey-2020-financial-year-provisional-csv.csv', nrows = 5)\n",
        "result\n",
        "# to read a file in pieces define chunk size\n",
        "result1 = pd.read_csv('annual-enterprise-survey-2020-financial-year-provisional-csv.csv', chunksize = 1000)\n",
        "# \n",
        "tot = pd.Series([])\n",
        "for piece in result1:\n",
        "  tot = tot.add(piece['Year'].value_counts(), fill_value = 0)\n",
        "tot = tot.sort_values(ascending = True) \n",
        "tot"
      ],
      "metadata": {
        "colab": {
          "base_uri": "https://localhost:8080/"
        },
        "id": "wnjjzLODNlGF",
        "outputId": "927102f1-0624-499f-d7cc-f813b409f97b"
      },
      "execution_count": 9,
      "outputs": [
        {
          "output_type": "stream",
          "name": "stderr",
          "text": [
            "/usr/local/lib/python3.7/dist-packages/ipykernel_launcher.py:8: DeprecationWarning: The default dtype for empty Series will be 'object' instead of 'float64' in a future version. Specify a dtype explicitly to silence this warning.\n",
            "  \n"
          ]
        },
        {
          "output_type": "execute_result",
          "data": {
            "text/plain": [
              "2013    4635.0\n",
              "2014    4635.0\n",
              "2015    4635.0\n",
              "2016    4635.0\n",
              "2017    4635.0\n",
              "2018    4635.0\n",
              "2019    4635.0\n",
              "2020    4635.0\n",
              "dtype: float64"
            ]
          },
          "metadata": {},
          "execution_count": 9
        }
      ]
    },
    {
      "cell_type": "code",
      "source": [
        ""
      ],
      "metadata": {
        "id": "Ff583e6MXHPm"
      },
      "execution_count": null,
      "outputs": []
    }
  ]
}