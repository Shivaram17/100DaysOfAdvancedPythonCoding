{
  "nbformat": 4,
  "nbformat_minor": 0,
  "metadata": {
    "colab": {
      "name": "10025AdvancedPython_HeapqPriority_queueFunc.ipynb",
      "provenance": [],
      "collapsed_sections": [],
      "authorship_tag": "ABX9TyNHJGvfGAY1igTDNKKdgaa/",
      "include_colab_link": true
    },
    "kernelspec": {
      "name": "python3",
      "display_name": "Python 3"
    },
    "language_info": {
      "name": "python"
    }
  },
  "cells": [
    {
      "cell_type": "markdown",
      "metadata": {
        "id": "view-in-github",
        "colab_type": "text"
      },
      "source": [
        "<a href=\"https://colab.research.google.com/github/Shivaram17/100DaysOfAdvancedPythonCoding/blob/main/10025AdvancedPython_HeapqPriority_queueFunc.ipynb\" target=\"_parent\"><img src=\"https://colab.research.google.com/assets/colab-badge.svg\" alt=\"Open In Colab\"/></a>"
      ]
    },
    {
      "cell_type": "code",
      "source": [
        "# heapq priority queue\n",
        "import heapq\n",
        "\n",
        "class PriorityQueue:\n",
        "  def __init__(self):\n",
        "    self._queue = []\n",
        "    self._index = 0\n",
        "\n",
        "  def push(self, item, priority):\n",
        "    heapq.heappush(self._queue, (-priority, self._index, item))\n",
        "    self._index +=1\n",
        "  \n",
        "  def pop(self):\n",
        "    heapq.heappop(self._queue)[-1]\n",
        "\n",
        "# call the object of the class \n",
        "class Item:\n",
        "  def __init__(self,name):\n",
        "    self.name = name\n",
        "  def __repr__(self):\n",
        "    return 'Item({!r})'.format(self.name)\n",
        "\n",
        "q = PriorityQueue()\n",
        "q.push(Item('foo'),1)\n",
        "q.push(Item('harsha'),5)\n",
        "q.push(Item('Balu'),6)\n",
        "q.push(Item('Rahul'),2)\n",
        "q.pop()\n",
        "\n",
        "\n"
      ],
      "metadata": {
        "id": "sGYZPccytsx8"
      },
      "execution_count": 10,
      "outputs": []
    },
    {
      "cell_type": "code",
      "source": [
        ""
      ],
      "metadata": {
        "id": "4wuyV6c2ug4n"
      },
      "execution_count": null,
      "outputs": []
    }
  ]
}