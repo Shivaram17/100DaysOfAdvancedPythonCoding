{
  "nbformat": 4,
  "nbformat_minor": 0,
  "metadata": {
    "colab": {
      "name": "10058AdvancedPython_CustomizingStringFormating.ipynb",
      "provenance": [],
      "collapsed_sections": [],
      "authorship_tag": "ABX9TyPF5r6/nQUBblpqNfzLaEla",
      "include_colab_link": true
    },
    "kernelspec": {
      "name": "python3",
      "display_name": "Python 3"
    },
    "language_info": {
      "name": "python"
    }
  },
  "cells": [
    {
      "cell_type": "markdown",
      "metadata": {
        "id": "view-in-github",
        "colab_type": "text"
      },
      "source": [
        "<a href=\"https://colab.research.google.com/github/Shivaram17/100DaysOfAdvancedPythonCoding/blob/main/10058AdvancedPython_CustomizingStringFormating.ipynb\" target=\"_parent\"><img src=\"https://colab.research.google.com/assets/colab-badge.svg\" alt=\"Open In Colab\"/></a>"
      ]
    },
    {
      "cell_type": "code",
      "source": [
        "class Pair:\n",
        "  def __init__(self, x, y):\n",
        "    self.x = x\n",
        "    self.y = y\n",
        "\n",
        "  def __repr__(self):\n",
        "    return 'Pair ({0.x!r}, {0.y!r})'.format(self)\n",
        "  \n",
        "  def __str__(self):\n",
        "    return '({0.x!s}, {0.y!s})'.format(self)\n",
        "\n",
        "# calling the class\n",
        "p = Pair(3,5)\n",
        "p.__repr__() # p is in repr form\n",
        "print(p) # p is in str form"
      ],
      "metadata": {
        "id": "_3X7BQEigYBE",
        "colab": {
          "base_uri": "https://localhost:8080/"
        },
        "outputId": "e6559386-ee24-4c4c-f1c0-97f492983404"
      },
      "execution_count": 4,
      "outputs": [
        {
          "output_type": "stream",
          "name": "stdout",
          "text": [
            "(3, 5)\n"
          ]
        }
      ]
    },
    {
      "cell_type": "code",
      "source": [
        "# Customizi{ng String format\n",
        "_formats = {\n",
        "    'ymd': '{d.year}-{d.month}-{d.day}',\n",
        "    'mdy': '{d.month}-{d.day}-{d.year}',\n",
        "    'dmy': '{d.day}-{d.month}-{d.year}'\n",
        "}\n",
        "\n",
        "class Date:\n",
        "  def __init__(self, year, day, month):\n",
        "    self.year = year\n",
        "    self.day = day\n",
        "    self.month = month\n",
        "\n",
        "  def __format__(self, code):\n",
        "    if code == \"\":\n",
        "      code = 'dmy'\n",
        "\n",
        "    fmt = _formats[code]\n",
        "    return fmt.format(d=self) \n",
        "\n",
        "# instantiating an object\n",
        "d = Date(2022,27,3)\n",
        "format(d)\n",
        "format(d, 'mdy')\n",
        "      "
      ],
      "metadata": {
        "colab": {
          "base_uri": "https://localhost:8080/",
          "height": 35
        },
        "id": "IWmUx4B8P2MJ",
        "outputId": "c8304072-b1ce-4e5b-e6de-f40342e1d5d0"
      },
      "execution_count": 11,
      "outputs": [
        {
          "output_type": "execute_result",
          "data": {
            "text/plain": [
              "'3-27-2022'"
            ],
            "application/vnd.google.colaboratory.intrinsic+json": {
              "type": "string"
            }
          },
          "metadata": {},
          "execution_count": 11
        }
      ]
    },
    {
      "cell_type": "code",
      "source": [
        ""
      ],
      "metadata": {
        "id": "RgQvgOp6TxS9"
      },
      "execution_count": null,
      "outputs": []
    }
  ]
}