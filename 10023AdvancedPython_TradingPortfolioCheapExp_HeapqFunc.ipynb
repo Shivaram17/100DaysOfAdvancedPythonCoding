{
  "nbformat": 4,
  "nbformat_minor": 0,
  "metadata": {
    "colab": {
      "name": "10023AdvancedPython_TradingPortfolioCheapExp_HeapqFunc.ipynb",
      "provenance": [],
      "collapsed_sections": [],
      "authorship_tag": "ABX9TyOKHObH1O1t2qQNQRaWYRLy",
      "include_colab_link": true
    },
    "kernelspec": {
      "name": "python3",
      "display_name": "Python 3"
    },
    "language_info": {
      "name": "python"
    }
  },
  "cells": [
    {
      "cell_type": "markdown",
      "metadata": {
        "id": "view-in-github",
        "colab_type": "text"
      },
      "source": [
        "<a href=\"https://colab.research.google.com/github/Shivaram17/100DaysOfAdvancedPythonCoding/blob/main/10023AdvancedPython_TradingPortfolioCheapExp_HeapqFunc.ipynb\" target=\"_parent\"><img src=\"https://colab.research.google.com/assets/colab-badge.svg\" alt=\"Open In Colab\"/></a>"
      ]
    },
    {
      "cell_type": "code",
      "source": [
        "# Finding N largest numbers\n",
        "import heapq\n",
        "portfolio = [\n",
        "             {'name': 'IBM', 'shares': 100, 'price':91.1},\n",
        "             {'name': 'Apple', 'shares': 50, 'price':111},\n",
        "             {'name': 'Tesla', 'shares': 120, 'price':911},\n",
        "             {'name': 'Phonpe', 'shares': 1000, 'price':9},\n",
        "             {'name': 'Paytm', 'shares': 1500, 'price':91}\n",
        "]\n",
        "\n",
        "cheap = heapq.nsmallest(3, portfolio, key = lambda s: s['price'])\n",
        "expensive = heapq.nlargest(3, portfolio, key = lambda s: s['price'])\n",
        "print(cheap)\n",
        "print(expensive)"
      ],
      "metadata": {
        "colab": {
          "base_uri": "https://localhost:8080/"
        },
        "id": "jqM1_QaZ4Q1J",
        "outputId": "a1de1f27-247e-4387-f64a-74cfe399cb23"
      },
      "execution_count": 5,
      "outputs": [
        {
          "output_type": "stream",
          "name": "stdout",
          "text": [
            "[{'name': 'Phonpe', 'shares': 1000, 'price': 9}, {'name': 'Paytm', 'shares': 1500, 'price': 91}, {'name': 'IBM', 'shares': 100, 'price': 91.1}]\n",
            "[{'name': 'Tesla', 'shares': 120, 'price': 911}, {'name': 'Apple', 'shares': 50, 'price': 111}, {'name': 'IBM', 'shares': 100, 'price': 91.1}]\n"
          ]
        }
      ]
    },
    {
      "cell_type": "code",
      "source": [
        "s"
      ],
      "metadata": {
        "id": "88TEBwG1gUzI"
      },
      "execution_count": null,
      "outputs": []
    }
  ]
}