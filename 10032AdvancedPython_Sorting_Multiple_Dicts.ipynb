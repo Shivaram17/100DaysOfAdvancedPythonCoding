{
  "nbformat": 4,
  "nbformat_minor": 0,
  "metadata": {
    "colab": {
      "name": "10032AdvancedPython_Sorting_Multiple_Dicts.ipynb",
      "provenance": [],
      "collapsed_sections": [],
      "authorship_tag": "ABX9TyMIpYCVd8U1Wiqy99E/oDpB",
      "include_colab_link": true
    },
    "kernelspec": {
      "name": "python3",
      "display_name": "Python 3"
    },
    "language_info": {
      "name": "python"
    }
  },
  "cells": [
    {
      "cell_type": "markdown",
      "metadata": {
        "id": "view-in-github",
        "colab_type": "text"
      },
      "source": [
        "<a href=\"https://colab.research.google.com/github/Shivaram17/100DaysOfAdvancedPythonCoding/blob/main/10032AdvancedPython_Sorting_Multiple_Dicts.ipynb\" target=\"_parent\"><img src=\"https://colab.research.google.com/assets/colab-badge.svg\" alt=\"Open In Colab\"/></a>"
      ]
    },
    {
      "cell_type": "code",
      "source": [
        "# Word counter\n",
        "from collections import Counter\n",
        "words = [\n",
        "         'look', 'into', 'my', 'eyes', 'look', 'into', 'my', 'eyes',\n",
        "'the', 'eyes', 'the', 'eyes', 'the', 'eyes', 'not', 'around', 'the',\n",
        "'eyes', \"don't\", 'look', 'around', 'the', 'eyes', 'look', 'into',\n",
        "'my', 'eyes', \"you're\", 'under'\n",
        "]\n",
        "\n",
        "word_counts = Counter(words)\n",
        "top_three_words = word_counts.most_common(3)\n",
        "print(top_three_words)"
      ],
      "metadata": {
        "colab": {
          "base_uri": "https://localhost:8080/"
        },
        "id": "eAxJsnd_q9hi",
        "outputId": "1fe0ea09-1c9a-4164-ad72-a614aa401bc7"
      },
      "execution_count": 2,
      "outputs": [
        {
          "output_type": "stream",
          "name": "stdout",
          "text": [
            "[('eyes', 8), ('the', 5), ('look', 4)]\n"
          ]
        }
      ]
    },
    {
      "cell_type": "code",
      "source": [
        "#sorting multiple dictionaries in a list\n",
        "from operator import itemgetter\n",
        "rows = [{'fname': 'Brian', 'lname': 'Jones', 'uid': 1003},\n",
        "{'fname': 'David', 'lname': 'Beazley', 'uid': 1002},\n",
        "{'fname': 'John', 'lname': 'Cleese', 'uid': 1001},\n",
        "{'fname': 'Big', 'lname': 'Jones', 'uid': 1004}]\n",
        "\n",
        "rows_by_fname = sorted(rows, key = itemgetter('fname'))\n",
        "print(rows_by_fname)\n"
      ],
      "metadata": {
        "colab": {
          "base_uri": "https://localhost:8080/"
        },
        "id": "4L8W7KiONDKw",
        "outputId": "5cff1809-99ec-4f25-fec8-a31a5226cd53"
      },
      "execution_count": 3,
      "outputs": [
        {
          "output_type": "stream",
          "name": "stdout",
          "text": [
            "[{'fname': 'Big', 'lname': 'Jones', 'uid': 1004}, {'fname': 'Brian', 'lname': 'Jones', 'uid': 1003}, {'fname': 'David', 'lname': 'Beazley', 'uid': 1002}, {'fname': 'John', 'lname': 'Cleese', 'uid': 1001}]\n"
          ]
        }
      ]
    },
    {
      "cell_type": "code",
      "source": [
        ""
      ],
      "metadata": {
        "id": "rOai3rJxRNon"
      },
      "execution_count": null,
      "outputs": []
    }
  ]
}