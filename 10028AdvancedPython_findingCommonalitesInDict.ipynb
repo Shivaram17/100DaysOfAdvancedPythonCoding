{
  "nbformat": 4,
  "nbformat_minor": 0,
  "metadata": {
    "colab": {
      "name": "10028AdvancedPython_findingCommonalitesInDict.ipynb",
      "provenance": [],
      "collapsed_sections": [],
      "authorship_tag": "ABX9TyOiU9/2ia0xY9KNxBYnPH2L",
      "include_colab_link": true
    },
    "kernelspec": {
      "name": "python3",
      "display_name": "Python 3"
    },
    "language_info": {
      "name": "python"
    }
  },
  "cells": [
    {
      "cell_type": "markdown",
      "metadata": {
        "id": "view-in-github",
        "colab_type": "text"
      },
      "source": [
        "<a href=\"https://colab.research.google.com/github/Shivaram17/100DaysOfAdvancedPythonCoding/blob/main/10028AdvancedPython_findingCommonalitesInDict.ipynb\" target=\"_parent\"><img src=\"https://colab.research.google.com/assets/colab-badge.svg\" alt=\"Open In Colab\"/></a>"
      ]
    },
    {
      "cell_type": "code",
      "source": [
        "#finding commonalities in Two dict\n",
        "a = {\n",
        "    'x':1,\n",
        "    'y':2,\n",
        "    'z':3\n",
        "}\n",
        "\n",
        "b = {\n",
        "    'x': 12,\n",
        "    'w': 1,\n",
        "    'y': 2\n",
        "}\n",
        "# find keys in common\n",
        "c = (a.keys() & b.keys())\n",
        "\n",
        "# find keys in a that are not in b\n",
        "d = (a.keys() - b.keys())\n",
        "\n",
        "# find (key, value) pairs in common\n",
        "e = a.items() & b.items()\n",
        "# make a new dictionary with certain keys removed\n",
        "f = {key: a[key] for key in a.keys() - {'z','w'}}\n",
        "\n",
        "print(f)"
      ],
      "metadata": {
        "colab": {
          "base_uri": "https://localhost:8080/"
        },
        "id": "CFRdc6NNJzzM",
        "outputId": "116a4437-9feb-42fd-9124-7ee11043aa9b"
      },
      "execution_count": 11,
      "outputs": [
        {
          "output_type": "stream",
          "name": "stdout",
          "text": [
            "{'y': 2, 'x': 1}\n"
          ]
        }
      ]
    },
    {
      "cell_type": "code",
      "source": [
        ""
      ],
      "metadata": {
        "id": "my_yKjI4Ykfx"
      },
      "execution_count": null,
      "outputs": []
    }
  ]
}