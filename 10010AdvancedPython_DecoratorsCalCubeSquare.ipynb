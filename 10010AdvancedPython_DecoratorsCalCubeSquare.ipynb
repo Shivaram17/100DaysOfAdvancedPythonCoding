{
  "nbformat": 4,
  "nbformat_minor": 0,
  "metadata": {
    "colab": {
      "name": "10010AdvancedPython_DecoratorsCalCubeSquare.ipynb",
      "provenance": [],
      "collapsed_sections": [],
      "authorship_tag": "ABX9TyMucbtOGJv2jlSDZn/uXA92",
      "include_colab_link": true
    },
    "kernelspec": {
      "name": "python3",
      "display_name": "Python 3"
    },
    "language_info": {
      "name": "python"
    }
  },
  "cells": [
    {
      "cell_type": "markdown",
      "metadata": {
        "id": "view-in-github",
        "colab_type": "text"
      },
      "source": [
        "<a href=\"https://colab.research.google.com/github/Shivaram17/100DaysOfAdvancedPythonCoding/blob/main/10010AdvancedPython_DecoratorsCalCubeSquare.ipynb\" target=\"_parent\"><img src=\"https://colab.research.google.com/assets/colab-badge.svg\" alt=\"Open In Colab\"/></a>"
      ]
    },
    {
      "cell_type": "code",
      "source": [
        "# Decorators and its use case\n",
        "import time\n",
        "def time_it(func):\n",
        "  def wrapper(*args,**kwargs):\n",
        "    start = time.time()\n",
        "    result = func(*args, **kwargs)\n",
        "    end = time.time()\n",
        "    print(func.__name__ + ' took ' + str((end-start)*1000) + 'milliseconds')\n",
        "    return result\n",
        "  return wrapper\n",
        "# use  decorator here\n",
        "@time_it\n",
        "def calc_square(numbers):\n",
        "  result = []\n",
        "  for i in numbers:\n",
        "    result.append(i*i)\n",
        "@time_it    \n",
        "def calc_cube(numbers):\n",
        "  result = []\n",
        "  for i in numbers:\n",
        "    result.append(i*i*i)\n",
        "  return result\n",
        "\n",
        "array = range(1,1000)\n",
        "calc_cube(array)\n",
        "calc_square(array)"
      ],
      "metadata": {
        "id": "1z2lanNsiGWw",
        "colab": {
          "base_uri": "https://localhost:8080/"
        },
        "outputId": "3130c4e5-70b7-4db8-afc8-517f6934ee25"
      },
      "execution_count": 7,
      "outputs": [
        {
          "output_type": "stream",
          "name": "stdout",
          "text": [
            "calc_cube took 0.2655982971191406milliseconds\n",
            "calc_square took 0.14257431030273438milliseconds\n"
          ]
        }
      ]
    },
    {
      "cell_type": "code",
      "source": [
        ""
      ],
      "metadata": {
        "id": "-i0PazbkQ1_8"
      },
      "execution_count": null,
      "outputs": []
    }
  ]
}