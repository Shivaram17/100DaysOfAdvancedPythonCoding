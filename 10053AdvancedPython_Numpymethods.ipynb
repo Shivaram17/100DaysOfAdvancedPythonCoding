{
  "nbformat": 4,
  "nbformat_minor": 0,
  "metadata": {
    "colab": {
      "name": "10053AdvancedPython_Numpymethods.ipynb",
      "provenance": [],
      "collapsed_sections": [],
      "authorship_tag": "ABX9TyOGPmJORbKNJ9SOYDQk26FP",
      "include_colab_link": true
    },
    "kernelspec": {
      "name": "python3",
      "display_name": "Python 3"
    },
    "language_info": {
      "name": "python"
    }
  },
  "cells": [
    {
      "cell_type": "markdown",
      "metadata": {
        "id": "view-in-github",
        "colab_type": "text"
      },
      "source": [
        "<a href=\"https://colab.research.google.com/github/Shivaram17/100DaysOfAdvancedPythonCoding/blob/main/10053AdvancedPython_Numpymethods.ipynb\" target=\"_parent\"><img src=\"https://colab.research.google.com/assets/colab-badge.svg\" alt=\"Open In Colab\"/></a>"
      ]
    },
    {
      "cell_type": "code",
      "source": [
        "# Numpy list to numpy array\n",
        "import numpy as np\n",
        "data1 = [1,3,4,5,6]\n",
        "data2 = np.array(data1)\n",
        "data2\n",
        "# nested seq to multidimensional array\n",
        "data3 = [[1,3,4,5,5], [5,3,1,2,4]]\n",
        "data4 = np.array(data3)\n",
        "data4\n",
        "# np.dim\n",
        "data4.ndim\n",
        "data4.shape\n",
        "# dtype\n",
        "data4.dtype\n",
        "n = np.zeros((3,4,3))\n",
        "k = np.empty((3,2,1))\n",
        "arr = np.arange(10)\n",
        "arr"
      ],
      "metadata": {
        "id": "AHQ1gA2jMHDz",
        "colab": {
          "base_uri": "https://localhost:8080/"
        },
        "outputId": "9be391eb-2c91-4042-d2b3-4ce553de5ec1"
      },
      "execution_count": 14,
      "outputs": [
        {
          "output_type": "execute_result",
          "data": {
            "text/plain": [
              "array([0, 1, 2, 3, 4, 5, 6, 7, 8, 9])"
            ]
          },
          "metadata": {},
          "execution_count": 14
        }
      ]
    },
    {
      "cell_type": "code",
      "source": [
        ""
      ],
      "metadata": {
        "id": "nNgtWuaH_-0L"
      },
      "execution_count": null,
      "outputs": []
    }
  ]
}