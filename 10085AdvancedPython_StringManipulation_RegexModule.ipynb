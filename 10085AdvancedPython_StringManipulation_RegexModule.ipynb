{
  "nbformat": 4,
  "nbformat_minor": 0,
  "metadata": {
    "colab": {
      "name": "10085AdvancedPython_StringManipulation_RegexModule.ipynb",
      "provenance": [],
      "collapsed_sections": [],
      "authorship_tag": "ABX9TyNNkesa9ooUp1Fb/5bCsxTs",
      "include_colab_link": true
    },
    "kernelspec": {
      "name": "python3",
      "display_name": "Python 3"
    },
    "language_info": {
      "name": "python"
    }
  },
  "cells": [
    {
      "cell_type": "markdown",
      "metadata": {
        "id": "view-in-github",
        "colab_type": "text"
      },
      "source": [
        "<a href=\"https://colab.research.google.com/github/Shivaram17/100DaysOfAdvancedPythonCoding/blob/main/10085AdvancedPython_StringManipulation_RegexModule.ipynb\" target=\"_parent\"><img src=\"https://colab.research.google.com/assets/colab-badge.svg\" alt=\"Open In Colab\"/></a>"
      ]
    },
    {
      "cell_type": "code",
      "source": [
        "# Regex\n",
        "import re\n",
        "text = 'foo  bar\\t baz    \\tdillu'\n",
        "re.split('\\s+', text)\n",
        "# or\n",
        "regex = re.compile('\\s+')\n",
        "regex.split(text)\n",
        "# find all list of patterns\n",
        "regex.findall(text)\n",
        "#Creating a regex object with re.compile is highly recommended if you intend to\n",
        "# apply the same expression to many strings; doing so will save CPU cycles. "
      ],
      "metadata": {
        "colab": {
          "base_uri": "https://localhost:8080/"
        },
        "id": "fjNVReSHlJSO",
        "outputId": "e4fe4d0c-bcbd-4045-edbb-5dcf73824e23"
      },
      "execution_count": 3,
      "outputs": [
        {
          "output_type": "execute_result",
          "data": {
            "text/plain": [
              "['  ', '\\t ', '    \\t']"
            ]
          },
          "metadata": {},
          "execution_count": 3
        }
      ]
    },
    {
      "cell_type": "code",
      "source": [
        ""
      ],
      "metadata": {
        "id": "pm0cjtRElJus"
      },
      "execution_count": null,
      "outputs": []
    }
  ]
}