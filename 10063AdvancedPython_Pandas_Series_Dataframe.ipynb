{
  "nbformat": 4,
  "nbformat_minor": 0,
  "metadata": {
    "colab": {
      "name": "10063AdvancedPython_Pandas_Series_Dataframe.ipynb",
      "provenance": [],
      "collapsed_sections": [],
      "authorship_tag": "ABX9TyO0CcupNcdAtmvx56elr5gR",
      "include_colab_link": true
    },
    "kernelspec": {
      "name": "python3",
      "display_name": "Python 3"
    },
    "language_info": {
      "name": "python"
    }
  },
  "cells": [
    {
      "cell_type": "markdown",
      "metadata": {
        "id": "view-in-github",
        "colab_type": "text"
      },
      "source": [
        "<a href=\"https://colab.research.google.com/github/Shivaram17/100DaysOfAdvancedPythonCoding/blob/main/10063AdvancedPython_Pandas_Series_Dataframe.ipynb\" target=\"_parent\"><img src=\"https://colab.research.google.com/assets/colab-badge.svg\" alt=\"Open In Colab\"/></a>"
      ]
    },
    {
      "cell_type": "code",
      "source": [
        " # Linear algebra numpy \n",
        " import numpy as np\n",
        " x = np.array([[1,2,3], [4,5,6]])\n",
        " y = np.array([[5,10], [4,8], [2,6]])\n",
        " \n",
        " # np.dot 2,3 dot 3,2 = 2,2\n",
        " np.dot(x,y)\n",
        " y.dot(x)\n",
        "\n",
        " from numpy.linalg import inv, qr\n",
        " arr = np.random.rand(5,4)\n",
        " # The expression X.T.dot(X) computes the dot product of X with its transpose X.T. transpose and inverse\n",
        " mat = arr.T.dot(arr)\n",
        " \n",
        " # inverse\n",
        " inv(mat)\n",
        " # determinat of a matrix\n",
        " np.linalg.det(mat)"
      ],
      "metadata": {
        "id": "meOCuxdlOQGt",
        "colab": {
          "base_uri": "https://localhost:8080/"
        },
        "outputId": "d6f8ecb0-370a-4494-91e9-9556387ac464"
      },
      "execution_count": null,
      "outputs": [
        {
          "output_type": "execute_result",
          "data": {
            "text/plain": [
              "0.00763676228238611"
            ]
          },
          "metadata": {},
          "execution_count": 16
        }
      ]
    },
    {
      "cell_type": "code",
      "source": [
        "# pandas series isnull and notnull\n",
        "import pandas as pd\n",
        "\n",
        "sdata = {'Ohio':3500, 'Texas': 5000, \"Delhi\": 2000, 'Hyderabad': 4000}\n",
        "obj = pd.Series(sdata)\n",
        "\n",
        "states = ['Chennai', 'Texas', 'Delhi', 'Hyderabad', 'Ontario']\n",
        "\n",
        "obj2 = pd.Series(sdata, index = states)\n",
        "pd.isnull(obj2)\n",
        "pd.notnull(obj2)"
      ],
      "metadata": {
        "id": "r8nb1OWhHmVa",
        "colab": {
          "base_uri": "https://localhost:8080/"
        },
        "outputId": "2c2f25a2-4854-46b7-cd05-c874f3bfbe7c"
      },
      "execution_count": 6,
      "outputs": [
        {
          "output_type": "execute_result",
          "data": {
            "text/plain": [
              "Chennai      False\n",
              "Texas         True\n",
              "Delhi         True\n",
              "Hyderabad     True\n",
              "Ontario      False\n",
              "dtype: bool"
            ]
          },
          "metadata": {},
          "execution_count": 6
        }
      ]
    },
    {
      "cell_type": "code",
      "source": [
        "import pandas as pd\n",
        "data = {'State': ['Chennai', 'Texas', 'Delhi', 'Hyderabad', 'Ontario'],\n",
        "        'Year': [2000, 2001, 2002, 2003, 2004],\n",
        "        'pop': [1,2,3,4,5]\n",
        "        }\n",
        "\n",
        "frame = pd.DataFrame(data)\n",
        "frame.loc[1]\n",
        "\n",
        "# add new column\n",
        "frame2 = pd.DataFrame(data, columns = ['State', 'Year', 'pop', 'Accounting'],\n",
        "                      index = ['one', 'two', 'three', 'four', 'five'])\n",
        "frame2['debt'] = 'Citi Bank'\n",
        "frame2\n"
      ],
      "metadata": {
        "colab": {
          "base_uri": "https://localhost:8080/",
          "height": 206
        },
        "id": "ZO6fHXFQH43s",
        "outputId": "8af0d0f6-6e5b-4c15-be6c-b458ca441b31"
      },
      "execution_count": 24,
      "outputs": [
        {
          "output_type": "execute_result",
          "data": {
            "text/plain": [
              "           State  Year  pop Accounting       debt\n",
              "one      Chennai  2000    1        NaN  Citi Bank\n",
              "two        Texas  2001    2        NaN  Citi Bank\n",
              "three      Delhi  2002    3        NaN  Citi Bank\n",
              "four   Hyderabad  2003    4        NaN  Citi Bank\n",
              "five     Ontario  2004    5        NaN  Citi Bank"
            ],
            "text/html": [
              "\n",
              "  <div id=\"df-73c3dbf5-18eb-43a7-99bc-88d3027da054\">\n",
              "    <div class=\"colab-df-container\">\n",
              "      <div>\n",
              "<style scoped>\n",
              "    .dataframe tbody tr th:only-of-type {\n",
              "        vertical-align: middle;\n",
              "    }\n",
              "\n",
              "    .dataframe tbody tr th {\n",
              "        vertical-align: top;\n",
              "    }\n",
              "\n",
              "    .dataframe thead th {\n",
              "        text-align: right;\n",
              "    }\n",
              "</style>\n",
              "<table border=\"1\" class=\"dataframe\">\n",
              "  <thead>\n",
              "    <tr style=\"text-align: right;\">\n",
              "      <th></th>\n",
              "      <th>State</th>\n",
              "      <th>Year</th>\n",
              "      <th>pop</th>\n",
              "      <th>Accounting</th>\n",
              "      <th>debt</th>\n",
              "    </tr>\n",
              "  </thead>\n",
              "  <tbody>\n",
              "    <tr>\n",
              "      <th>one</th>\n",
              "      <td>Chennai</td>\n",
              "      <td>2000</td>\n",
              "      <td>1</td>\n",
              "      <td>NaN</td>\n",
              "      <td>Citi Bank</td>\n",
              "    </tr>\n",
              "    <tr>\n",
              "      <th>two</th>\n",
              "      <td>Texas</td>\n",
              "      <td>2001</td>\n",
              "      <td>2</td>\n",
              "      <td>NaN</td>\n",
              "      <td>Citi Bank</td>\n",
              "    </tr>\n",
              "    <tr>\n",
              "      <th>three</th>\n",
              "      <td>Delhi</td>\n",
              "      <td>2002</td>\n",
              "      <td>3</td>\n",
              "      <td>NaN</td>\n",
              "      <td>Citi Bank</td>\n",
              "    </tr>\n",
              "    <tr>\n",
              "      <th>four</th>\n",
              "      <td>Hyderabad</td>\n",
              "      <td>2003</td>\n",
              "      <td>4</td>\n",
              "      <td>NaN</td>\n",
              "      <td>Citi Bank</td>\n",
              "    </tr>\n",
              "    <tr>\n",
              "      <th>five</th>\n",
              "      <td>Ontario</td>\n",
              "      <td>2004</td>\n",
              "      <td>5</td>\n",
              "      <td>NaN</td>\n",
              "      <td>Citi Bank</td>\n",
              "    </tr>\n",
              "  </tbody>\n",
              "</table>\n",
              "</div>\n",
              "      <button class=\"colab-df-convert\" onclick=\"convertToInteractive('df-73c3dbf5-18eb-43a7-99bc-88d3027da054')\"\n",
              "              title=\"Convert this dataframe to an interactive table.\"\n",
              "              style=\"display:none;\">\n",
              "        \n",
              "  <svg xmlns=\"http://www.w3.org/2000/svg\" height=\"24px\"viewBox=\"0 0 24 24\"\n",
              "       width=\"24px\">\n",
              "    <path d=\"M0 0h24v24H0V0z\" fill=\"none\"/>\n",
              "    <path d=\"M18.56 5.44l.94 2.06.94-2.06 2.06-.94-2.06-.94-.94-2.06-.94 2.06-2.06.94zm-11 1L8.5 8.5l.94-2.06 2.06-.94-2.06-.94L8.5 2.5l-.94 2.06-2.06.94zm10 10l.94 2.06.94-2.06 2.06-.94-2.06-.94-.94-2.06-.94 2.06-2.06.94z\"/><path d=\"M17.41 7.96l-1.37-1.37c-.4-.4-.92-.59-1.43-.59-.52 0-1.04.2-1.43.59L10.3 9.45l-7.72 7.72c-.78.78-.78 2.05 0 2.83L4 21.41c.39.39.9.59 1.41.59.51 0 1.02-.2 1.41-.59l7.78-7.78 2.81-2.81c.8-.78.8-2.07 0-2.86zM5.41 20L4 18.59l7.72-7.72 1.47 1.35L5.41 20z\"/>\n",
              "  </svg>\n",
              "      </button>\n",
              "      \n",
              "  <style>\n",
              "    .colab-df-container {\n",
              "      display:flex;\n",
              "      flex-wrap:wrap;\n",
              "      gap: 12px;\n",
              "    }\n",
              "\n",
              "    .colab-df-convert {\n",
              "      background-color: #E8F0FE;\n",
              "      border: none;\n",
              "      border-radius: 50%;\n",
              "      cursor: pointer;\n",
              "      display: none;\n",
              "      fill: #1967D2;\n",
              "      height: 32px;\n",
              "      padding: 0 0 0 0;\n",
              "      width: 32px;\n",
              "    }\n",
              "\n",
              "    .colab-df-convert:hover {\n",
              "      background-color: #E2EBFA;\n",
              "      box-shadow: 0px 1px 2px rgba(60, 64, 67, 0.3), 0px 1px 3px 1px rgba(60, 64, 67, 0.15);\n",
              "      fill: #174EA6;\n",
              "    }\n",
              "\n",
              "    [theme=dark] .colab-df-convert {\n",
              "      background-color: #3B4455;\n",
              "      fill: #D2E3FC;\n",
              "    }\n",
              "\n",
              "    [theme=dark] .colab-df-convert:hover {\n",
              "      background-color: #434B5C;\n",
              "      box-shadow: 0px 1px 3px 1px rgba(0, 0, 0, 0.15);\n",
              "      filter: drop-shadow(0px 1px 2px rgba(0, 0, 0, 0.3));\n",
              "      fill: #FFFFFF;\n",
              "    }\n",
              "  </style>\n",
              "\n",
              "      <script>\n",
              "        const buttonEl =\n",
              "          document.querySelector('#df-73c3dbf5-18eb-43a7-99bc-88d3027da054 button.colab-df-convert');\n",
              "        buttonEl.style.display =\n",
              "          google.colab.kernel.accessAllowed ? 'block' : 'none';\n",
              "\n",
              "        async function convertToInteractive(key) {\n",
              "          const element = document.querySelector('#df-73c3dbf5-18eb-43a7-99bc-88d3027da054');\n",
              "          const dataTable =\n",
              "            await google.colab.kernel.invokeFunction('convertToInteractive',\n",
              "                                                     [key], {});\n",
              "          if (!dataTable) return;\n",
              "\n",
              "          const docLinkHtml = 'Like what you see? Visit the ' +\n",
              "            '<a target=\"_blank\" href=https://colab.research.google.com/notebooks/data_table.ipynb>data table notebook</a>'\n",
              "            + ' to learn more about interactive tables.';\n",
              "          element.innerHTML = '';\n",
              "          dataTable['output_type'] = 'display_data';\n",
              "          await google.colab.output.renderOutput(dataTable, element);\n",
              "          const docLink = document.createElement('div');\n",
              "          docLink.innerHTML = docLinkHtml;\n",
              "          element.appendChild(docLink);\n",
              "        }\n",
              "      </script>\n",
              "    </div>\n",
              "  </div>\n",
              "  "
            ]
          },
          "metadata": {},
          "execution_count": 24
        }
      ]
    },
    {
      "cell_type": "code",
      "source": [
        ""
      ],
      "metadata": {
        "id": "7CdB4j59MuMG"
      },
      "execution_count": null,
      "outputs": []
    }
  ]
}