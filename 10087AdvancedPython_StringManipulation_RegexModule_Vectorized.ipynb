{
  "nbformat": 4,
  "nbformat_minor": 0,
  "metadata": {
    "colab": {
      "name": "10087AdvancedPython_StringManipulation_RegexModule_Vectorized.ipynb",
      "provenance": [],
      "collapsed_sections": [],
      "authorship_tag": "ABX9TyMyLn5MIztBI7CO6hSXTuv6",
      "include_colab_link": true
    },
    "kernelspec": {
      "name": "python3",
      "display_name": "Python 3"
    },
    "language_info": {
      "name": "python"
    }
  },
  "cells": [
    {
      "cell_type": "markdown",
      "metadata": {
        "id": "view-in-github",
        "colab_type": "text"
      },
      "source": [
        "<a href=\"https://colab.research.google.com/github/Shivaram17/100DaysOfAdvancedPythonCoding/blob/main/10087AdvancedPython_StringManipulation_RegexModule_Vectorized.ipynb\" target=\"_parent\"><img src=\"https://colab.research.google.com/assets/colab-badge.svg\" alt=\"Open In Colab\"/></a>"
      ]
    },
    {
      "cell_type": "code",
      "source": [
        "# Regex\n",
        "import re\n",
        "text = 'foo  bar\\t baz    \\tdillu'\n",
        "re.split('\\s+', text)\n",
        "# or\n",
        "regex = re.compile('\\s+')\n",
        "regex.split(text)\n",
        "# find all list of patterns\n",
        "regex.findall(text)\n",
        "#Creating a regex object with re.compile is highly recommended if you intend to\n",
        "# apply the same expression to many strings; doing so will save CPU cycles. "
      ],
      "metadata": {
        "colab": {
          "base_uri": "https://localhost:8080/"
        },
        "id": "fjNVReSHlJSO",
        "outputId": "e4fe4d0c-bcbd-4045-edbb-5dcf73824e23"
      },
      "execution_count": null,
      "outputs": [
        {
          "output_type": "execute_result",
          "data": {
            "text/plain": [
              "['  ', '\\t ', '    \\t']"
            ]
          },
          "metadata": {},
          "execution_count": 3
        }
      ]
    },
    {
      "cell_type": "code",
      "source": [
        "# Vectorized string\n",
        "import pandas as pd\n",
        "import numpy as np\n",
        "import re\n",
        "data = {'rob': 'rob@google.com', 'Dillu': 'Dillu@gmail.com',\n",
        "        'Mike': 'mike@gmail.com', 'Wes': np.nan}\n",
        "\n",
        "d = pd.Series(data)\n",
        "\n",
        "# pattern\n",
        "pattern = '([A-Z0-9_%+-]+)@([A-Z0-9.-]+)\\\\.([A-Z0-9]{2,4})'\n",
        "#compile the pattern\n",
        "regex = re.compile(pattern, flags=re.IGNORECASE)\n",
        "d.str.findall(pattern, flags=re.IGNORECASE)\n",
        "\n",
        "matches = d.str.match(regex)\n",
        "matches\n",
        "d.str[:]"
      ],
      "metadata": {
        "id": "GyiZ_y_Ubd2e",
        "colab": {
          "base_uri": "https://localhost:8080/"
        },
        "outputId": "05c05d0e-35b4-4a88-c182-b840ab3cc702"
      },
      "execution_count": 27,
      "outputs": [
        {
          "output_type": "execute_result",
          "data": {
            "text/plain": [
              "rob       rob@google.com\n",
              "Dillu    Dillu@gmail.com\n",
              "Mike      mike@gmail.com\n",
              "Wes                  NaN\n",
              "dtype: object"
            ]
          },
          "metadata": {},
          "execution_count": 27
        }
      ]
    },
    {
      "cell_type": "code",
      "source": [
        ""
      ],
      "metadata": {
        "id": "Aho00icnFQ5_"
      },
      "execution_count": null,
      "outputs": []
    }
  ]
}