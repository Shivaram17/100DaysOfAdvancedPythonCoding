{
  "nbformat": 4,
  "nbformat_minor": 0,
  "metadata": {
    "colab": {
      "name": "10059AdvancedPython_CustomizingStringFormating2.ipynb",
      "provenance": [],
      "collapsed_sections": [],
      "authorship_tag": "ABX9TyNB1V/tUU/Chm5RH6KUEi+C",
      "include_colab_link": true
    },
    "kernelspec": {
      "name": "python3",
      "display_name": "Python 3"
    },
    "language_info": {
      "name": "python"
    }
  },
  "cells": [
    {
      "cell_type": "markdown",
      "metadata": {
        "id": "view-in-github",
        "colab_type": "text"
      },
      "source": [
        "<a href=\"https://colab.research.google.com/github/Shivaram17/100DaysOfAdvancedPythonCoding/blob/main/10059AdvancedPython_CustomizingStringFormating2.ipynb\" target=\"_parent\"><img src=\"https://colab.research.google.com/assets/colab-badge.svg\" alt=\"Open In Colab\"/></a>"
      ]
    },
    {
      "cell_type": "code",
      "source": [
        "# Customizi{ng String format\n",
        "_formats = {\n",
        "    'ymd': '{d.year}-{d.month}-{d.day}',\n",
        "    'mdy': '{d.month}-{d.day}-{d.year}',\n",
        "    'dmy': '{d.day}-{d.month}-{d.year}'\n",
        "}\n",
        "\n",
        "class Date:\n",
        "  def __init__(self, year, day, month):\n",
        "    self.year = year\n",
        "    self.day = day\n",
        "    self.month = month\n",
        "\n",
        "  def __format__(self, code):\n",
        "    if code == \"\":\n",
        "      code = 'dmy'\n",
        "\n",
        "    fmt = _formats[code]\n",
        "    return fmt.format(d=self) \n",
        "\n",
        "# instantiating an object\n",
        "d = Date(2022,27,3)\n",
        "format(d)\n",
        "format(d, 'mdy')\n",
        "      "
      ],
      "metadata": {
        "colab": {
          "base_uri": "https://localhost:8080/",
          "height": 35
        },
        "id": "IWmUx4B8P2MJ",
        "outputId": "c8304072-b1ce-4e5b-e6de-f40342e1d5d0"
      },
      "execution_count": 11,
      "outputs": [
        {
          "output_type": "execute_result",
          "data": {
            "text/plain": [
              "'3-27-2022'"
            ],
            "application/vnd.google.colaboratory.intrinsic+json": {
              "type": "string"
            }
          },
          "metadata": {},
          "execution_count": 11
        }
      ]
    },
    {
      "cell_type": "code",
      "source": [
        "#customizing string method 2\n",
        "from datetime import date\n",
        "d = date(2022,3,27)\n",
        "format(d, '%A, %B, %d, %Y')\n",
        "'The dawn is {:%d %b %Y}.Goodmorning'.format(d)"
      ],
      "metadata": {
        "colab": {
          "base_uri": "https://localhost:8080/",
          "height": 35
        },
        "id": "RgQvgOp6TxS9",
        "outputId": "2b9752a7-b788-4a37-8b3b-0aeca5f95492"
      },
      "execution_count": 19,
      "outputs": [
        {
          "output_type": "execute_result",
          "data": {
            "text/plain": [
              "'The dawn is 27 Mar 2022.Hi'"
            ],
            "application/vnd.google.colaboratory.intrinsic+json": {
              "type": "string"
            }
          },
          "metadata": {},
          "execution_count": 19
        }
      ]
    },
    {
      "cell_type": "code",
      "source": [
        ""
      ],
      "metadata": {
        "id": "nC-236_2Vekr"
      },
      "execution_count": null,
      "outputs": []
    }
  ]
}