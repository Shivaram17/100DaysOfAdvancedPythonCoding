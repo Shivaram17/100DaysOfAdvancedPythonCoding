{
  "nbformat": 4,
  "nbformat_minor": 0,
  "metadata": {
    "colab": {
      "name": "10097AdvancedPython_Groupby_Array_iteratingOverGroups_selectingsubset_columns.ipynb",
      "provenance": [],
      "collapsed_sections": [],
      "authorship_tag": "ABX9TyNki4FwODHkFajTYFM5Fqn7",
      "include_colab_link": true
    },
    "kernelspec": {
      "name": "python3",
      "display_name": "Python 3"
    },
    "language_info": {
      "name": "python"
    }
  },
  "cells": [
    {
      "cell_type": "markdown",
      "metadata": {
        "id": "view-in-github",
        "colab_type": "text"
      },
      "source": [
        "<a href=\"https://colab.research.google.com/github/Shivaram17/100DaysOfAdvancedPythonCoding/blob/main/10097AdvancedPython_Groupby_Array_iteratingOverGroups_selectingsubset_columns.ipynb\" target=\"_parent\"><img src=\"https://colab.research.google.com/assets/colab-badge.svg\" alt=\"Open In Colab\"/></a>"
      ]
    },
    {
      "cell_type": "code",
      "source": [
        "# Groupby with multiple keys\n",
        "import numpy as np\n",
        "import pandas as pd\n",
        "df = pd.DataFrame({'key1': ['a', 'a', 'b', 'b', 'a'],\n",
        "                   'key2': ['one','two','one', 'one', 'two'],\n",
        "                   'data1': np.random.rand(5),\n",
        "                   'data2': np.random.randn(5)}\n",
        "                  )\n",
        "df['data1'].groupby([df['key1'], df['key2']]).mean()"
      ],
      "metadata": {
        "id": "sy6hIaaaAVQT",
        "colab": {
          "base_uri": "https://localhost:8080/"
        },
        "outputId": "13357a13-8622-463b-e668-80aeca7149f3"
      },
      "execution_count": null,
      "outputs": [
        {
          "output_type": "execute_result",
          "data": {
            "text/plain": [
              "key1  key2\n",
              "a     one     0.813838\n",
              "      two     0.302674\n",
              "b     one     0.245428\n",
              "Name: data1, dtype: float64"
            ]
          },
          "metadata": {},
          "execution_count": 11
        }
      ]
    },
    {
      "cell_type": "code",
      "source": [
        "# Groupby with multiple keys for an array\n",
        "import numpy as np\n",
        "import pandas as pd\n",
        "df = pd.DataFrame({'key1': ['a', 'a', 'b', 'b', 'a'],\n",
        "                   'key2': ['one','two','one', 'one', 'two'],\n",
        "                   'data1': np.random.rand(5),\n",
        "                   'data2': np.random.randn(5)}\n",
        "                  )\n",
        "cities = np.array(['Trichy', 'Hyd', 'Trichy','Hyd', 'Hyd'])\n",
        "years = np.array([2005, 2006,2005,2005,2006])\n",
        "\n",
        "df.groupby([cities, years]).mean()\n",
        "df['data1'].groupby([cities, years]).mean()\n",
        "\n",
        "# groupby size\n",
        "df.groupby([cities, years]).size()\n",
        "\n",
        "# iterating over groups\n",
        "# for name, group in df.groupby(['key1']):\n",
        "#   print(name)\n",
        "#   print(group)\n",
        "\n",
        "# iterating over groups with multiple keys\n",
        "for (k1,k2), group in df.groupby(['key1','key2']):\n",
        "  print(k1,k2)\n",
        "  print(group)\n",
        "\n",
        "# computing a dict of data pieces as a one - liner\n",
        "pieces = dict(list(df.groupby('key1')))\n",
        "df2 = pieces['a']\n",
        "# finding mean of data1 column with key1 as a groupby\n",
        "# selecting a column or subset of columns\n",
        "df.groupby('key1')['data1'].mean()\n",
        "df2"
      ],
      "metadata": {
        "id": "NOmTypmyrkQF",
        "colab": {
          "base_uri": "https://localhost:8080/",
          "height": 334
        },
        "outputId": "0b27b046-f471-4b53-bca5-0c93eababfc5"
      },
      "execution_count": 18,
      "outputs": [
        {
          "output_type": "stream",
          "name": "stdout",
          "text": [
            "a one\n",
            "  key1 key2     data1     data2\n",
            "0    a  one  0.839621 -0.134526\n",
            "a two\n",
            "  key1 key2     data1     data2\n",
            "1    a  two  0.724621 -0.892757\n",
            "4    a  two  0.506954 -0.114544\n",
            "b one\n",
            "  key1 key2     data1     data2\n",
            "2    b  one  0.529930  0.491837\n",
            "3    b  one  0.554292 -1.407142\n"
          ]
        },
        {
          "output_type": "execute_result",
          "data": {
            "text/plain": [
              "  key1 key2     data1     data2\n",
              "0    a  one  0.839621 -0.134526\n",
              "1    a  two  0.724621 -0.892757\n",
              "4    a  two  0.506954 -0.114544"
            ],
            "text/html": [
              "\n",
              "  <div id=\"df-e01cd1d2-dfa2-4d75-ba35-621ae429e696\">\n",
              "    <div class=\"colab-df-container\">\n",
              "      <div>\n",
              "<style scoped>\n",
              "    .dataframe tbody tr th:only-of-type {\n",
              "        vertical-align: middle;\n",
              "    }\n",
              "\n",
              "    .dataframe tbody tr th {\n",
              "        vertical-align: top;\n",
              "    }\n",
              "\n",
              "    .dataframe thead th {\n",
              "        text-align: right;\n",
              "    }\n",
              "</style>\n",
              "<table border=\"1\" class=\"dataframe\">\n",
              "  <thead>\n",
              "    <tr style=\"text-align: right;\">\n",
              "      <th></th>\n",
              "      <th>key1</th>\n",
              "      <th>key2</th>\n",
              "      <th>data1</th>\n",
              "      <th>data2</th>\n",
              "    </tr>\n",
              "  </thead>\n",
              "  <tbody>\n",
              "    <tr>\n",
              "      <th>0</th>\n",
              "      <td>a</td>\n",
              "      <td>one</td>\n",
              "      <td>0.839621</td>\n",
              "      <td>-0.134526</td>\n",
              "    </tr>\n",
              "    <tr>\n",
              "      <th>1</th>\n",
              "      <td>a</td>\n",
              "      <td>two</td>\n",
              "      <td>0.724621</td>\n",
              "      <td>-0.892757</td>\n",
              "    </tr>\n",
              "    <tr>\n",
              "      <th>4</th>\n",
              "      <td>a</td>\n",
              "      <td>two</td>\n",
              "      <td>0.506954</td>\n",
              "      <td>-0.114544</td>\n",
              "    </tr>\n",
              "  </tbody>\n",
              "</table>\n",
              "</div>\n",
              "      <button class=\"colab-df-convert\" onclick=\"convertToInteractive('df-e01cd1d2-dfa2-4d75-ba35-621ae429e696')\"\n",
              "              title=\"Convert this dataframe to an interactive table.\"\n",
              "              style=\"display:none;\">\n",
              "        \n",
              "  <svg xmlns=\"http://www.w3.org/2000/svg\" height=\"24px\"viewBox=\"0 0 24 24\"\n",
              "       width=\"24px\">\n",
              "    <path d=\"M0 0h24v24H0V0z\" fill=\"none\"/>\n",
              "    <path d=\"M18.56 5.44l.94 2.06.94-2.06 2.06-.94-2.06-.94-.94-2.06-.94 2.06-2.06.94zm-11 1L8.5 8.5l.94-2.06 2.06-.94-2.06-.94L8.5 2.5l-.94 2.06-2.06.94zm10 10l.94 2.06.94-2.06 2.06-.94-2.06-.94-.94-2.06-.94 2.06-2.06.94z\"/><path d=\"M17.41 7.96l-1.37-1.37c-.4-.4-.92-.59-1.43-.59-.52 0-1.04.2-1.43.59L10.3 9.45l-7.72 7.72c-.78.78-.78 2.05 0 2.83L4 21.41c.39.39.9.59 1.41.59.51 0 1.02-.2 1.41-.59l7.78-7.78 2.81-2.81c.8-.78.8-2.07 0-2.86zM5.41 20L4 18.59l7.72-7.72 1.47 1.35L5.41 20z\"/>\n",
              "  </svg>\n",
              "      </button>\n",
              "      \n",
              "  <style>\n",
              "    .colab-df-container {\n",
              "      display:flex;\n",
              "      flex-wrap:wrap;\n",
              "      gap: 12px;\n",
              "    }\n",
              "\n",
              "    .colab-df-convert {\n",
              "      background-color: #E8F0FE;\n",
              "      border: none;\n",
              "      border-radius: 50%;\n",
              "      cursor: pointer;\n",
              "      display: none;\n",
              "      fill: #1967D2;\n",
              "      height: 32px;\n",
              "      padding: 0 0 0 0;\n",
              "      width: 32px;\n",
              "    }\n",
              "\n",
              "    .colab-df-convert:hover {\n",
              "      background-color: #E2EBFA;\n",
              "      box-shadow: 0px 1px 2px rgba(60, 64, 67, 0.3), 0px 1px 3px 1px rgba(60, 64, 67, 0.15);\n",
              "      fill: #174EA6;\n",
              "    }\n",
              "\n",
              "    [theme=dark] .colab-df-convert {\n",
              "      background-color: #3B4455;\n",
              "      fill: #D2E3FC;\n",
              "    }\n",
              "\n",
              "    [theme=dark] .colab-df-convert:hover {\n",
              "      background-color: #434B5C;\n",
              "      box-shadow: 0px 1px 3px 1px rgba(0, 0, 0, 0.15);\n",
              "      filter: drop-shadow(0px 1px 2px rgba(0, 0, 0, 0.3));\n",
              "      fill: #FFFFFF;\n",
              "    }\n",
              "  </style>\n",
              "\n",
              "      <script>\n",
              "        const buttonEl =\n",
              "          document.querySelector('#df-e01cd1d2-dfa2-4d75-ba35-621ae429e696 button.colab-df-convert');\n",
              "        buttonEl.style.display =\n",
              "          google.colab.kernel.accessAllowed ? 'block' : 'none';\n",
              "\n",
              "        async function convertToInteractive(key) {\n",
              "          const element = document.querySelector('#df-e01cd1d2-dfa2-4d75-ba35-621ae429e696');\n",
              "          const dataTable =\n",
              "            await google.colab.kernel.invokeFunction('convertToInteractive',\n",
              "                                                     [key], {});\n",
              "          if (!dataTable) return;\n",
              "\n",
              "          const docLinkHtml = 'Like what you see? Visit the ' +\n",
              "            '<a target=\"_blank\" href=https://colab.research.google.com/notebooks/data_table.ipynb>data table notebook</a>'\n",
              "            + ' to learn more about interactive tables.';\n",
              "          element.innerHTML = '';\n",
              "          dataTable['output_type'] = 'display_data';\n",
              "          await google.colab.output.renderOutput(dataTable, element);\n",
              "          const docLink = document.createElement('div');\n",
              "          docLink.innerHTML = docLinkHtml;\n",
              "          element.appendChild(docLink);\n",
              "        }\n",
              "      </script>\n",
              "    </div>\n",
              "  </div>\n",
              "  "
            ]
          },
          "metadata": {},
          "execution_count": 18
        }
      ]
    },
    {
      "cell_type": "code",
      "source": [
        ""
      ],
      "metadata": {
        "id": "XYPlFc4Dr3Si"
      },
      "execution_count": null,
      "outputs": []
    }
  ]
}