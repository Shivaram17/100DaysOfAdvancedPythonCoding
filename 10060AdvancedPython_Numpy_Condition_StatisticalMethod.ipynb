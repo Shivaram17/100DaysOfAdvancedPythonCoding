{
  "nbformat": 4,
  "nbformat_minor": 0,
  "metadata": {
    "colab": {
      "name": "10060AdvancedPython_Numpy_Condition_StatisticalMethod.ipynb",
      "provenance": [],
      "collapsed_sections": [],
      "authorship_tag": "ABX9TyN6xLWzab7YrNzhAzZlrtn3",
      "include_colab_link": true
    },
    "kernelspec": {
      "name": "python3",
      "display_name": "Python 3"
    },
    "language_info": {
      "name": "python"
    }
  },
  "cells": [
    {
      "cell_type": "markdown",
      "metadata": {
        "id": "view-in-github",
        "colab_type": "text"
      },
      "source": [
        "<a href=\"https://colab.research.google.com/github/Shivaram17/100DaysOfAdvancedPythonCoding/blob/main/10060AdvancedPython_Numpy_Condition_StatisticalMethod.ipynb\" target=\"_parent\"><img src=\"https://colab.research.google.com/assets/colab-badge.svg\" alt=\"Open In Colab\"/></a>"
      ]
    },
    {
      "cell_type": "code",
      "source": [
        "# Customizi{ng String format\n",
        "_formats = {\n",
        "    'ymd': '{d.year}-{d.month}-{d.day}',\n",
        "    'mdy': '{d.month}-{d.day}-{d.year}',\n",
        "    'dmy': '{d.day}-{d.month}-{d.year}'\n",
        "}\n",
        "\n",
        "class Date:\n",
        "  def __init__(self, year, day, month):\n",
        "    self.year = year\n",
        "    self.day = day\n",
        "    self.month = month\n",
        "\n",
        "  def __format__(self, code):\n",
        "    if code == \"\":\n",
        "      code = 'dmy'\n",
        "\n",
        "    fmt = _formats[code]\n",
        "    return fmt.format(d=self) \n",
        "\n",
        "# instantiating an object\n",
        "d = Date(2022,27,3)\n",
        "format(d)\n",
        "format(d, 'mdy')\n",
        "      "
      ],
      "metadata": {
        "colab": {
          "base_uri": "https://localhost:8080/",
          "height": 35
        },
        "id": "IWmUx4B8P2MJ",
        "outputId": "c8304072-b1ce-4e5b-e6de-f40342e1d5d0"
      },
      "execution_count": null,
      "outputs": [
        {
          "output_type": "execute_result",
          "data": {
            "text/plain": [
              "'3-27-2022'"
            ],
            "application/vnd.google.colaboratory.intrinsic+json": {
              "type": "string"
            }
          },
          "metadata": {},
          "execution_count": 11
        }
      ]
    },
    {
      "cell_type": "code",
      "source": [
        "# np.where\n",
        "import numpy as np\n",
        "arr = np.random.randn(4,4)\n",
        "arr =np.where(arr > 0, 2,arr) # set only if positive\n",
        "arr\n",
        "arr.mean()\n",
        "# top level numpy\n",
        "np.mean(arr, axis =1)\n",
        "arr.cumprod() # cumulative product\n"
      ],
      "metadata": {
        "id": "nC-236_2Vekr",
        "colab": {
          "base_uri": "https://localhost:8080/"
        },
        "outputId": "738b2f53-d743-4716-85f3-9f16466612eb"
      },
      "execution_count": 18,
      "outputs": [
        {
          "output_type": "execute_result",
          "data": {
            "text/plain": [
              "array([ 2.        ,  4.        , -0.68043091,  0.50020604, -0.32635964,\n",
              "        0.43280906,  0.86561811, -0.82402418, -1.64804837,  0.9191635 ,\n",
              "       -0.6317128 ,  0.10402697,  0.20805393, -0.09384296, -0.18768591,\n",
              "       -0.37537182])"
            ]
          },
          "metadata": {},
          "execution_count": 18
        }
      ]
    },
    {
      "cell_type": "code",
      "source": [
        "arr"
      ],
      "metadata": {
        "colab": {
          "base_uri": "https://localhost:8080/"
        },
        "id": "bTbXOuIjW0yh",
        "outputId": "dc94d31d-f26d-4ccc-c0ce-4cd982baade8"
      },
      "execution_count": 5,
      "outputs": [
        {
          "output_type": "execute_result",
          "data": {
            "text/plain": [
              "array([[ 0.37485405, -0.79322007, -0.61767264, -0.05054248],\n",
              "       [-0.32470241,  0.04741421,  0.74123009,  0.96963947],\n",
              "       [ 0.60676162, -0.05023999, -1.41136135,  0.21304372],\n",
              "       [-1.4413989 , -1.76551446, -0.80635866,  0.18063598]])"
            ]
          },
          "metadata": {},
          "execution_count": 5
        }
      ]
    },
    {
      "cell_type": "code",
      "source": [
        ""
      ],
      "metadata": {
        "id": "4QUMXOtFXOxd"
      },
      "execution_count": null,
      "outputs": []
    }
  ]
}