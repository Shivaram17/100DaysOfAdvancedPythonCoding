{
  "nbformat": 4,
  "nbformat_minor": 0,
  "metadata": {
    "colab": {
      "name": "1007AdvancedPython_IterClass_RemoteController.ipynb",
      "provenance": [],
      "collapsed_sections": [],
      "authorship_tag": "ABX9TyPVAqoufWH/xoHoD2bvXlJL",
      "include_colab_link": true
    },
    "kernelspec": {
      "name": "python3",
      "display_name": "Python 3"
    },
    "language_info": {
      "name": "python"
    }
  },
  "cells": [
    {
      "cell_type": "markdown",
      "metadata": {
        "id": "view-in-github",
        "colab_type": "text"
      },
      "source": [
        "<a href=\"https://colab.research.google.com/github/Shivaram17/100DaysOfAdvancedPythonCoding/blob/main/1007AdvancedPython_IterClass_RemoteController.ipynb\" target=\"_parent\"><img src=\"https://colab.research.google.com/assets/colab-badge.svg\" alt=\"Open In Colab\"/></a>"
      ]
    },
    {
      "cell_type": "code",
      "source": [
        "\n",
        "# Iter class\n",
        "class RemoteControl():\n",
        "  def __init__(self):\n",
        "    self.channels = ['HBO', 'cnn', 'espn', 'neosports']\n",
        "    self.index = -1\n",
        "\n",
        "  def __iter__(self):\n",
        "    return self\n",
        "\n",
        "  def __next__(self):\n",
        "    self.index = +1\n",
        "    if self.index == len(self.channels):\n",
        "      raise StopIteration\n",
        "    return self.channels[self.index]\n",
        "\n",
        "#call the class\n",
        "r = RemoteControl()\n",
        "itr = iter(r)\n",
        "print(next(itr))\n",
        "print(next(itr))\n",
        "print(next(itr))\n",
        "print(next(itr))\n",
        "print(next(itr))\n",
        "\n",
        "\n",
        "  "
      ],
      "metadata": {
        "id": "1z2lanNsiGWw",
        "colab": {
          "base_uri": "https://localhost:8080/"
        },
        "outputId": "28d6e0af-8402-47c3-ed91-632dbe734967"
      },
      "execution_count": 15,
      "outputs": [
        {
          "output_type": "stream",
          "name": "stdout",
          "text": [
            "cnn\n",
            "cnn\n",
            "cnn\n",
            "cnn\n",
            "cnn\n"
          ]
        }
      ]
    },
    {
      "cell_type": "code",
      "source": [
        "import re\n",
        "a = input(\"enter \\ and string: \")\n",
        "# list of different types of file\n",
        "filenames = [\"ssa_December_2021.xlsx\", \"mena_December_2021.xlsx\", \n",
        "            \"we_December_2021.xlsx\", \"apac_December_2021.xlsx\"]\n",
        "  \n",
        "for file in filenames:\n",
        "    # search given pattern in the line \n",
        "    b = \".xlsx$\"\n",
        "    p = a  +  b\n",
        "    match = re.search(p, file)\n",
        "  \n",
        "    # if match is found\n",
        "    if match:\n",
        "        print(\"The file ending with .xlsx is:\",\n",
        "             file)"
      ],
      "metadata": {
        "id": "tT-J0otw7IQW",
        "colab": {
          "base_uri": "https://localhost:8080/",
          "height": 234
        },
        "outputId": "e58aa722-70a6-493a-c787-67208804ffbf"
      },
      "execution_count": 10,
      "outputs": [
        {
          "output_type": "error",
          "ename": "TypeError",
          "evalue": "ignored",
          "traceback": [
            "\u001b[0;31m---------------------------------------------------------------------------\u001b[0m",
            "\u001b[0;31mTypeError\u001b[0m                                 Traceback (most recent call last)",
            "\u001b[0;32m<ipython-input-10-a977462b4622>\u001b[0m in \u001b[0;36m<module>\u001b[0;34m()\u001b[0m\n\u001b[1;32m      1\u001b[0m \u001b[0;32mimport\u001b[0m \u001b[0mre\u001b[0m\u001b[0;34m\u001b[0m\u001b[0;34m\u001b[0m\u001b[0m\n\u001b[0;32m----> 2\u001b[0;31m \u001b[0ma\u001b[0m \u001b[0;34m=\u001b[0m \u001b[0minput\u001b[0m\u001b[0;34m(\u001b[0m\u001b[0;34m\"enter \\ and string: \"\u001b[0m\u001b[0;34m)\u001b[0m\u001b[0;34m\u001b[0m\u001b[0;34m\u001b[0m\u001b[0m\n\u001b[0m\u001b[1;32m      3\u001b[0m \u001b[0;31m# list of different types of file\u001b[0m\u001b[0;34m\u001b[0m\u001b[0;34m\u001b[0m\u001b[0;34m\u001b[0m\u001b[0m\n\u001b[1;32m      4\u001b[0m filenames = [\"ssa_December_2021.xlsx\", \"mena_December_2021.xlsx\", \n\u001b[1;32m      5\u001b[0m             \"we_December_2021.xlsx\", \"apac_December_2021.xlsx\"]\n",
            "\u001b[0;31mTypeError\u001b[0m: 'str' object is not callable"
          ]
        }
      ]
    },
    {
      "cell_type": "code",
      "source": [
        ""
      ],
      "metadata": {
        "id": "M7zoZ-U0M-p4"
      },
      "execution_count": null,
      "outputs": []
    }
  ]
}