{
  "nbformat": 4,
  "nbformat_minor": 0,
  "metadata": {
    "colab": {
      "name": "1004AdvancedPython_InheritanceVehicle.ipynb",
      "provenance": [],
      "collapsed_sections": [],
      "authorship_tag": "ABX9TyOKUJVt0RlmWATioSWnYZSg",
      "include_colab_link": true
    },
    "kernelspec": {
      "name": "python3",
      "display_name": "Python 3"
    },
    "language_info": {
      "name": "python"
    }
  },
  "cells": [
    {
      "cell_type": "markdown",
      "metadata": {
        "id": "view-in-github",
        "colab_type": "text"
      },
      "source": [
        "<a href=\"https://colab.research.google.com/github/Shivaram17/100DaysOfAdvancedPythonCoding/blob/main/1004AdvancedPython_InheritanceVehicle.ipynb\" target=\"_parent\"><img src=\"https://colab.research.google.com/assets/colab-badge.svg\" alt=\"Open In Colab\"/></a>"
      ]
    },
    {
      "cell_type": "code",
      "source": [
        "# Inheritance\n",
        "class Vehicle:\n",
        "  # def __init__(self):\n",
        "  def generalUsage(self):\n",
        "    print(\"General use: transportation\")\n",
        "\n",
        "class Car(Vehicle):\n",
        "  def __init__(self):\n",
        "    print(\"I'm Car\")\n",
        "    self.wheels = 4\n",
        "    self.roof = True\n",
        "\n",
        "  def specificUsage(self):\n",
        "    print(\"Commute to work and can go to Vacation\")\n",
        "\n",
        "class Bike(Vehicle):\n",
        "  def __init__(self):\n",
        "    print(\"I'm Bike\")\n",
        "    self.wheels = 2\n",
        "    self.roof = False\n",
        "  \n",
        "  def specificUsage(self):\n",
        "    print(\"Can go for Commute and racing\")\n",
        "\n",
        "#call the constructor\n",
        "car = Bike()\n",
        "car.specificUsage()\n"
      ],
      "metadata": {
        "id": "1z2lanNsiGWw",
        "colab": {
          "base_uri": "https://localhost:8080/"
        },
        "outputId": "79723e34-f666-4a2b-ba58-4a2cbb0ed9d7"
      },
      "execution_count": 3,
      "outputs": [
        {
          "output_type": "stream",
          "name": "stdout",
          "text": [
            "I'm Bike\n",
            "Can go for Commute and racing\n"
          ]
        }
      ]
    },
    {
      "cell_type": "code",
      "source": [
        ""
      ],
      "metadata": {
        "id": "tT-J0otw7IQW"
      },
      "execution_count": null,
      "outputs": []
    }
  ]
}