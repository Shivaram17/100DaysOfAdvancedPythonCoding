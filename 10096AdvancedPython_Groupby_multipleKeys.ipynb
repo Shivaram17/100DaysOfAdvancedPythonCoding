{
  "nbformat": 4,
  "nbformat_minor": 0,
  "metadata": {
    "colab": {
      "name": "10096AdvancedPython_Groupby_multipleKeys.ipynb",
      "provenance": [],
      "collapsed_sections": [],
      "authorship_tag": "ABX9TyNpGsAm4xim+mx6acuWjHlq",
      "include_colab_link": true
    },
    "kernelspec": {
      "name": "python3",
      "display_name": "Python 3"
    },
    "language_info": {
      "name": "python"
    }
  },
  "cells": [
    {
      "cell_type": "markdown",
      "metadata": {
        "id": "view-in-github",
        "colab_type": "text"
      },
      "source": [
        "<a href=\"https://colab.research.google.com/github/Shivaram17/100DaysOfAdvancedPythonCoding/blob/main/10096AdvancedPython_Groupby_multipleKeys.ipynb\" target=\"_parent\"><img src=\"https://colab.research.google.com/assets/colab-badge.svg\" alt=\"Open In Colab\"/></a>"
      ]
    },
    {
      "cell_type": "code",
      "source": [
        "# Groupby with multiple keys\n",
        "import numpy as np\n",
        "import pandas as pd\n",
        "df = pd.DataFrame({'key1': ['a', 'a', 'b', 'b', 'a'],\n",
        "                   'key2': ['one','two','one', 'one', 'two'],\n",
        "                   'data1': np.random.rand(5),\n",
        "                   'data2': np.random.randn(5)}\n",
        "                  )\n",
        "df['data1'].groupby([df['key1'], df['key2']]).mean()"
      ],
      "metadata": {
        "id": "sy6hIaaaAVQT",
        "colab": {
          "base_uri": "https://localhost:8080/"
        },
        "outputId": "13357a13-8622-463b-e668-80aeca7149f3"
      },
      "execution_count": 11,
      "outputs": [
        {
          "output_type": "execute_result",
          "data": {
            "text/plain": [
              "key1  key2\n",
              "a     one     0.813838\n",
              "      two     0.302674\n",
              "b     one     0.245428\n",
              "Name: data1, dtype: float64"
            ]
          },
          "metadata": {},
          "execution_count": 11
        }
      ]
    },
    {
      "cell_type": "code",
      "source": [
        ""
      ],
      "metadata": {
        "id": "NOmTypmyrkQF"
      },
      "execution_count": null,
      "outputs": []
    }
  ]
}