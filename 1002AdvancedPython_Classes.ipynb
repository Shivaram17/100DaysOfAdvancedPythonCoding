{
  "nbformat": 4,
  "nbformat_minor": 0,
  "metadata": {
    "colab": {
      "name": "1002AdvancedPython_Classes.ipynb",
      "provenance": [],
      "collapsed_sections": [],
      "authorship_tag": "ABX9TyNfbIqv46VBMnew9kWg5Xc2",
      "include_colab_link": true
    },
    "kernelspec": {
      "name": "python3",
      "display_name": "Python 3"
    },
    "language_info": {
      "name": "python"
    }
  },
  "cells": [
    {
      "cell_type": "markdown",
      "metadata": {
        "id": "view-in-github",
        "colab_type": "text"
      },
      "source": [
        "<a href=\"https://colab.research.google.com/github/Shivaram17/100DaysOfAdvancedPythonCoding/blob/main/1002AdvancedPython_Classes.ipynb\" target=\"_parent\"><img src=\"https://colab.research.google.com/assets/colab-badge.svg\" alt=\"Open In Colab\"/></a>"
      ]
    },
    {
      "cell_type": "code",
      "source": [
        "#Classes\n",
        "class Human:\n",
        "  def __init__(self,n,o):\n",
        "    self.name = n\n",
        "    self.occupation = o\n",
        "  \n",
        "  def do_work(self):\n",
        "    if self.occupation == 'Cricketer':\n",
        "      print(self.name, ' Plays cricket')\n",
        "    elif self.occupation == 'Singer':\n",
        "      print(self.name, ' Sing songs')\n",
        "\n",
        "  def speaks(self):\n",
        "    print(self.name, 'says How you doing?')\n",
        "\n",
        "#instantiating an object\n",
        "Virat = Human('Virat Kholi', 'Cricketer')\n",
        "Virat.do_work()\n",
        "Virat.speaks()\n"
      ],
      "metadata": {
        "id": "7clEkNWGYGeo",
        "colab": {
          "base_uri": "https://localhost:8080/"
        },
        "outputId": "8126fdbc-ae15-4dfb-ad6b-08e370d03396"
      },
      "execution_count": 5,
      "outputs": [
        {
          "output_type": "stream",
          "name": "stdout",
          "text": [
            "Virat Kholi  Plays cricket\n",
            "Virat Kholi says How you doing?\n"
          ]
        }
      ]
    },
    {
      "cell_type": "code",
      "source": [
        ""
      ],
      "metadata": {
        "id": "1z2lanNsiGWw"
      },
      "execution_count": null,
      "outputs": []
    }
  ]
}