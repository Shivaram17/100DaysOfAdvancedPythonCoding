{
  "nbformat": 4,
  "nbformat_minor": 0,
  "metadata": {
    "colab": {
      "name": "10072AdvancedPython_Sort_Key.ipynb",
      "provenance": [],
      "collapsed_sections": [],
      "authorship_tag": "ABX9TyNjHHH2X8jSEnby32xptMeW",
      "include_colab_link": true
    },
    "kernelspec": {
      "name": "python3",
      "display_name": "Python 3"
    },
    "language_info": {
      "name": "python"
    }
  },
  "cells": [
    {
      "cell_type": "markdown",
      "metadata": {
        "id": "view-in-github",
        "colab_type": "text"
      },
      "source": [
        "<a href=\"https://colab.research.google.com/github/Shivaram17/100DaysOfAdvancedPythonCoding/blob/main/10072AdvancedPython_Sort_Key.ipynb\" target=\"_parent\"><img src=\"https://colab.research.google.com/assets/colab-badge.svg\" alt=\"Open In Colab\"/></a>"
      ]
    },
    {
      "cell_type": "code",
      "source": [
        "# Squares of a sorted array using list comprehension\n",
        "from typing import List\n",
        "class Solution:\n",
        "    def sortedSquares(self, nums: List[int]) -> List[int]:\n",
        "        y = [(x * x) for x in nums]\n",
        "        y.sort(reverse = False)\n",
        "        return y\n",
        "\n",
        "obj = Solution()\n",
        "nums = [-4,-1,0,9,16,25]\n",
        "obj.sortedSquares(nums)"
      ],
      "metadata": {
        "id": "wJgF7quphvDF",
        "colab": {
          "base_uri": "https://localhost:8080/"
        },
        "outputId": "017637f9-a4ec-40f8-a90c-bb9375119832"
      },
      "execution_count": 2,
      "outputs": [
        {
          "output_type": "execute_result",
          "data": {
            "text/plain": [
              "[0, 1, 16, 81, 256, 625]"
            ]
          },
          "metadata": {},
          "execution_count": 2
        }
      ]
    },
    {
      "cell_type": "code",
      "source": [
        "# sort based on the len of the string using key\n",
        "def myFunc(e):\n",
        "  return len(e)\n",
        "cars = ['Ford', 'Mitsubishi', 'BMW', 'VW']\n",
        "\n",
        "cars.sort(key = myFunc)\n",
        "cars\n",
        "\n"
      ],
      "metadata": {
        "colab": {
          "base_uri": "https://localhost:8080/"
        },
        "id": "3cE_eoQfjDir",
        "outputId": "cd09da99-7ff6-47ab-b840-633a313baffb"
      },
      "execution_count": 4,
      "outputs": [
        {
          "output_type": "execute_result",
          "data": {
            "text/plain": [
              "['VW', 'BMW', 'Ford', 'Mitsubishi']"
            ]
          },
          "metadata": {},
          "execution_count": 4
        }
      ]
    },
    {
      "cell_type": "code",
      "source": [
        ""
      ],
      "metadata": {
        "id": "DHYe6Ue-lI67"
      },
      "execution_count": null,
      "outputs": []
    }
  ]
}