{
  "nbformat": 4,
  "nbformat_minor": 0,
  "metadata": {
    "colab": {
      "name": "10015AdvancedPython_SharingDatamultiprocessingLock.ipynb",
      "provenance": [],
      "collapsed_sections": [],
      "authorship_tag": "ABX9TyOXlnQ1glToQaF8f8OPpwT0",
      "include_colab_link": true
    },
    "kernelspec": {
      "name": "python3",
      "display_name": "Python 3"
    },
    "language_info": {
      "name": "python"
    }
  },
  "cells": [
    {
      "cell_type": "markdown",
      "metadata": {
        "id": "view-in-github",
        "colab_type": "text"
      },
      "source": [
        "<a href=\"https://colab.research.google.com/github/Shivaram17/100DaysOfAdvancedPythonCoding/blob/main/10015AdvancedPython_SharingDatamultiprocessingLock.ipynb\" target=\"_parent\"><img src=\"https://colab.research.google.com/assets/colab-badge.svg\" alt=\"Open In Colab\"/></a>"
      ]
    },
    {
      "cell_type": "code",
      "source": [
        "# Decorators and its use case\n",
        "import time\n",
        "def time_it(func):\n",
        "  def wrapper(*args,**kwargs):\n",
        "    start = time.time()\n",
        "    result = func(*args, **kwargs)\n",
        "    end = time.time()\n",
        "    print(func.__name__ + ' took ' + str((end-start)*1000) + 'milliseconds')\n",
        "    return result\n",
        "  return wrapper\n",
        "# use  decorator here\n",
        "@time_it\n",
        "def calc_square(numbers):\n",
        "  result = []\n",
        "  for i in numbers:\n",
        "    result.append(i*i)\n",
        "@time_it    \n",
        "def calc_cube(numbers):\n",
        "  result = []\n",
        "  for i in numbers:\n",
        "    result.append(i*i*i)\n",
        "  return result\n",
        "\n",
        "array = range(1,1000)\n",
        "calc_cube(array)\n",
        "calc_square(array)"
      ],
      "metadata": {
        "id": "1z2lanNsiGWw",
        "colab": {
          "base_uri": "https://localhost:8080/"
        },
        "outputId": "3130c4e5-70b7-4db8-afc8-517f6934ee25"
      },
      "execution_count": null,
      "outputs": [
        {
          "output_type": "stream",
          "name": "stdout",
          "text": [
            "calc_cube took 0.2655982971191406milliseconds\n",
            "calc_square took 0.14257431030273438milliseconds\n"
          ]
        }
      ]
    },
    {
      "cell_type": "code",
      "source": [
        "# Sharing data between processes using Queue\n",
        "import time \n",
        "import multiprocessing\n",
        "\n",
        "#deposit func\n",
        "def deposit(balance,lock):\n",
        "  for i in range(100):\n",
        "    time.sleep(0.01)\n",
        "    lock.acquire()\n",
        "    balance.value = balance.value + 1\n",
        "    lock.release()\n",
        "\n",
        "def withdraw(balance,lock):\n",
        "  for i in range(100):\n",
        "    time.sleep(0.01)\n",
        "    lock.acquire()\n",
        "    balance.value = balance.value - 1\n",
        "    lock.release()\n",
        "\n",
        "\n",
        "if __name__ == '__main__':\n",
        "  balance = multiprocessing.Value('i', 200)\n",
        "  lock = multiprocessing.Lock()\n",
        "\n",
        "  deposit = multiprocessing.Process(target = deposit, args=(balance, lock))\n",
        "  withdraw = multiprocessing.Process(target = withdraw, args = (balance,lock))\n",
        "\n",
        "  #start the process\n",
        "  deposit.start()\n",
        "  withdraw.start()\n",
        "  #join\n",
        "  deposit.join()\n",
        "  withdraw.join()\n",
        "\n",
        "  #print\n",
        "  print(balance.value)"
      ],
      "metadata": {
        "colab": {
          "base_uri": "https://localhost:8080/"
        },
        "id": "-i0PazbkQ1_8",
        "outputId": "260193b7-7bfb-49e6-e348-64a8886914c0"
      },
      "execution_count": 10,
      "outputs": [
        {
          "output_type": "stream",
          "name": "stdout",
          "text": [
            "300\n"
          ]
        }
      ]
    },
    {
      "cell_type": "code",
      "source": [
        "# union of datasets\n",
        "import pandas as pd\n",
        "\n",
        "clients1 = {'clientFirstName': ['Jon','Maria','Bruce','Lili'],\n",
        "            'clientLastName': ['Smith','Lam','Jones','Chang'],\n",
        "            'country': ['US','Canada','Italy','China'],\n",
        "            'c': ['UK','Germany','Brazil','Japan']\n",
        "           }\n",
        "\n",
        "df1 = pd.DataFrame(clients1, columns= ['clientFirstName', 'clientLastName','country'])\n",
        "\n",
        "\n",
        "clients2 = {'clientFirstName': ['Bill','Jack','Elizabeth','Jenny'],\n",
        "            'clientLastName': ['Jackson','Green','Gross','Sing'],\n",
        "            'c': ['UK','Germany','Brazil','Japan']\n",
        "           }\n",
        "\n",
        "df2 = pd.DataFrame(clients2, columns= ['clientFirstName', 'clientLastName','country'])\n",
        "\n",
        "union = pd.concat([df1, df2], ignore_index=True)\n",
        "print (union)"
      ],
      "metadata": {
        "id": "D7u3scU9Vq6d",
        "colab": {
          "base_uri": "https://localhost:8080/"
        },
        "outputId": "e099bd4f-e644-48cc-fa61-33fecd540250"
      },
      "execution_count": 4,
      "outputs": [
        {
          "output_type": "stream",
          "name": "stdout",
          "text": [
            "  clientFirstName clientLastName country\n",
            "0             Jon          Smith      US\n",
            "1           Maria            Lam  Canada\n",
            "2           Bruce          Jones   Italy\n",
            "3            Lili          Chang   China\n",
            "4            Bill        Jackson     NaN\n",
            "5            Jack          Green     NaN\n",
            "6       Elizabeth          Gross     NaN\n",
            "7           Jenny           Sing     NaN\n"
          ]
        }
      ]
    },
    {
      "cell_type": "code",
      "source": [
        ""
      ],
      "metadata": {
        "id": "93AJQUAcr9-4"
      },
      "execution_count": null,
      "outputs": []
    }
  ]
}