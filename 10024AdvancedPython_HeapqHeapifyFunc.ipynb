{
  "nbformat": 4,
  "nbformat_minor": 0,
  "metadata": {
    "colab": {
      "name": "10024AdvancedPython_HeapqHeapifyFunc.ipynb",
      "provenance": [],
      "collapsed_sections": [],
      "authorship_tag": "ABX9TyPyJq8DqmYY+cJvzOZhR5S9",
      "include_colab_link": true
    },
    "kernelspec": {
      "name": "python3",
      "display_name": "Python 3"
    },
    "language_info": {
      "name": "python"
    }
  },
  "cells": [
    {
      "cell_type": "markdown",
      "metadata": {
        "id": "view-in-github",
        "colab_type": "text"
      },
      "source": [
        "<a href=\"https://colab.research.google.com/github/Shivaram17/100DaysOfAdvancedPythonCoding/blob/main/10024AdvancedPython_HeapqHeapifyFunc.ipynb\" target=\"_parent\"><img src=\"https://colab.research.google.com/assets/colab-badge.svg\" alt=\"Open In Colab\"/></a>"
      ]
    },
    {
      "cell_type": "code",
      "source": [
        "# Finding N largest numbers\n",
        "import heapq\n",
        "portfolio = [\n",
        "             {'name': 'IBM', 'shares': 100, 'price':91.1},\n",
        "             {'name': 'Apple', 'shares': 50, 'price':111},\n",
        "             {'name': 'Tesla', 'shares': 120, 'price':911},\n",
        "             {'name': 'Phonpe', 'shares': 1000, 'price':9},\n",
        "             {'name': 'Paytm', 'shares': 1500, 'price':91}\n",
        "]\n",
        "\n",
        "cheap = heapq.nsmallest(3, portfolio, key = lambda s: s['price'])\n",
        "expensive = heapq.nlargest(3, portfolio, key = lambda s: s['price'])\n",
        "print(cheap)\n",
        "print(expensive)"
      ],
      "metadata": {
        "colab": {
          "base_uri": "https://localhost:8080/"
        },
        "id": "jqM1_QaZ4Q1J",
        "outputId": "a1de1f27-247e-4387-f64a-74cfe399cb23"
      },
      "execution_count": null,
      "outputs": [
        {
          "output_type": "stream",
          "name": "stdout",
          "text": [
            "[{'name': 'Phonpe', 'shares': 1000, 'price': 9}, {'name': 'Paytm', 'shares': 1500, 'price': 91}, {'name': 'IBM', 'shares': 100, 'price': 91.1}]\n",
            "[{'name': 'Tesla', 'shares': 120, 'price': 911}, {'name': 'Apple', 'shares': 50, 'price': 111}, {'name': 'IBM', 'shares': 100, 'price': 91.1}]\n"
          ]
        }
      ]
    },
    {
      "cell_type": "code",
      "source": [
        "import heapq\n",
        "nums = [1,2,4,5,8,23,-4,18,12]\n",
        "heap = list(nums)\n",
        "heapq.heapify(heap)\n",
        "heap"
      ],
      "metadata": {
        "id": "VCrkDjyaOUD5",
        "colab": {
          "base_uri": "https://localhost:8080/"
        },
        "outputId": "d21eaae2-c690-43b7-8064-68b14d99c0f6"
      },
      "execution_count": 4,
      "outputs": [
        {
          "output_type": "execute_result",
          "data": {
            "text/plain": [
              "[-4, 2, 1, 5, 8, 23, 4, 18, 12]"
            ]
          },
          "metadata": {},
          "execution_count": 4
        }
      ]
    },
    {
      "cell_type": "code",
      "source": [
        ""
      ],
      "metadata": {
        "id": "tyXo1iXXNMFQ"
      },
      "execution_count": null,
      "outputs": []
    }
  ]
}