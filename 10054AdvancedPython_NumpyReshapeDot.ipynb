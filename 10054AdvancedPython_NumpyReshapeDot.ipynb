{
  "nbformat": 4,
  "nbformat_minor": 0,
  "metadata": {
    "colab": {
      "name": "10054AdvancedPython_NumpyReshapeDot.ipynb",
      "provenance": [],
      "collapsed_sections": [],
      "authorship_tag": "ABX9TyP8paesjgWLPXu6tiErcKgy",
      "include_colab_link": true
    },
    "kernelspec": {
      "name": "python3",
      "display_name": "Python 3"
    },
    "language_info": {
      "name": "python"
    }
  },
  "cells": [
    {
      "cell_type": "markdown",
      "metadata": {
        "id": "view-in-github",
        "colab_type": "text"
      },
      "source": [
        "<a href=\"https://colab.research.google.com/github/Shivaram17/100DaysOfAdvancedPythonCoding/blob/main/10054AdvancedPython_NumpyReshapeDot.ipynb\" target=\"_parent\"><img src=\"https://colab.research.google.com/assets/colab-badge.svg\" alt=\"Open In Colab\"/></a>"
      ]
    },
    {
      "cell_type": "code",
      "source": [
        "#array slicing\n",
        "import numpy as np\n",
        "arr = np.arange(10)\n",
        "arr[5:8] = 1\n",
        "# reshaping\n",
        "a = np.arange(15).reshape(3,5)\n",
        "#transpose\n",
        "a.T\n",
        "# inner matrix product np.dot\n",
        "a1 = np.random.randn(6,3)\n",
        "np.dot(a1.T, a1)\n"
      ],
      "metadata": {
        "id": "8LcOPjoENMNq",
        "colab": {
          "base_uri": "https://localhost:8080/"
        },
        "outputId": "b4da7dc5-3bd2-4e4e-ffa7-0fe869c5fc42"
      },
      "execution_count": 16,
      "outputs": [
        {
          "output_type": "execute_result",
          "data": {
            "text/plain": [
              "array([[ 5.68225928, -1.06512328, -0.441692  ],\n",
              "       [-1.06512328, 12.10526401, -0.1659054 ],\n",
              "       [-0.441692  , -0.1659054 , 13.95840709]])"
            ]
          },
          "metadata": {},
          "execution_count": 16
        }
      ]
    },
    {
      "cell_type": "code",
      "source": [
        ""
      ],
      "metadata": {
        "id": "R_esbVdUV0IR"
      },
      "execution_count": null,
      "outputs": []
    }
  ]
}