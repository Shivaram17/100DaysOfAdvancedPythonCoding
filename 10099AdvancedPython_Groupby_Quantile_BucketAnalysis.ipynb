{
  "nbformat": 4,
  "nbformat_minor": 0,
  "metadata": {
    "colab": {
      "name": "10099AdvancedPython_Groupby_Quantile_BucketAnalysis.ipynb",
      "provenance": [],
      "collapsed_sections": [],
      "authorship_tag": "ABX9TyPyymI47cWNeAunVWZjpuj3",
      "include_colab_link": true
    },
    "kernelspec": {
      "name": "python3",
      "display_name": "Python 3"
    },
    "language_info": {
      "name": "python"
    }
  },
  "cells": [
    {
      "cell_type": "markdown",
      "metadata": {
        "id": "view-in-github",
        "colab_type": "text"
      },
      "source": [
        "<a href=\"https://colab.research.google.com/github/Shivaram17/100DaysOfAdvancedPythonCoding/blob/main/10099AdvancedPython_Groupby_Quantile_BucketAnalysis.ipynb\" target=\"_parent\"><img src=\"https://colab.research.google.com/assets/colab-badge.svg\" alt=\"Open In Colab\"/></a>"
      ]
    },
    {
      "cell_type": "code",
      "source": [
        "# Quantile and Bucket Analysis\n",
        "import numpy as np\n",
        "import pandas as pd\n",
        "frame = pd.DataFrame({'data1': np.random.rand(1000),\n",
        "                      'data2': np.random.rand(1000)\n",
        "      })\n",
        "quartiles = pd.cut(frame.data1, 4)\n",
        "quartiles"
      ],
      "metadata": {
        "colab": {
          "base_uri": "https://localhost:8080/"
        },
        "id": "9aKOcAga3Hsn",
        "outputId": "06fb6c1e-82f4-4701-eec4-4d26574ba3f8"
      },
      "execution_count": 3,
      "outputs": [
        {
          "output_type": "execute_result",
          "data": {
            "text/plain": [
              "0           (0.5, 0.749]\n",
              "1            (0.25, 0.5]\n",
              "2      (-0.000223, 0.25]\n",
              "3         (0.749, 0.999]\n",
              "4      (-0.000223, 0.25]\n",
              "             ...        \n",
              "995         (0.5, 0.749]\n",
              "996       (0.749, 0.999]\n",
              "997       (0.749, 0.999]\n",
              "998          (0.25, 0.5]\n",
              "999          (0.25, 0.5]\n",
              "Name: data1, Length: 1000, dtype: category\n",
              "Categories (4, interval[float64, right]): [(-0.000223, 0.25] < (0.25, 0.5] < (0.5, 0.749] <\n",
              "                                           (0.749, 0.999]]"
            ]
          },
          "metadata": {},
          "execution_count": 3
        }
      ]
    },
    {
      "cell_type": "code",
      "source": [
        ""
      ],
      "metadata": {
        "id": "g98A5jJ381sk"
      },
      "execution_count": null,
      "outputs": []
    }
  ]
}