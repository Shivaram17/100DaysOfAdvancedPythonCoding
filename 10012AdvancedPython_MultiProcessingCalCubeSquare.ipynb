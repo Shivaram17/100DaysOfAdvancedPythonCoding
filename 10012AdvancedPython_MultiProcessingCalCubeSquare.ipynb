{
  "nbformat": 4,
  "nbformat_minor": 0,
  "metadata": {
    "colab": {
      "name": "10012AdvancedPython_MultiProcessingCalCubeSquare.ipynb",
      "provenance": [],
      "collapsed_sections": [],
      "authorship_tag": "ABX9TyP+afp/Ocll02uXIk7LpQG3",
      "include_colab_link": true
    },
    "kernelspec": {
      "name": "python3",
      "display_name": "Python 3"
    },
    "language_info": {
      "name": "python"
    }
  },
  "cells": [
    {
      "cell_type": "markdown",
      "metadata": {
        "id": "view-in-github",
        "colab_type": "text"
      },
      "source": [
        "<a href=\"https://colab.research.google.com/github/Shivaram17/100DaysOfAdvancedPythonCoding/blob/main/10012AdvancedPython_MultiProcessingCalCubeSquare.ipynb\" target=\"_parent\"><img src=\"https://colab.research.google.com/assets/colab-badge.svg\" alt=\"Open In Colab\"/></a>"
      ]
    },
    {
      "cell_type": "code",
      "source": [
        "# Decorators and its use case\n",
        "import time\n",
        "def time_it(func):\n",
        "  def wrapper(*args,**kwargs):\n",
        "    start = time.time()\n",
        "    result = func(*args, **kwargs)\n",
        "    end = time.time()\n",
        "    print(func.__name__ + ' took ' + str((end-start)*1000) + 'milliseconds')\n",
        "    return result\n",
        "  return wrapper\n",
        "# use  decorator here\n",
        "@time_it\n",
        "def calc_square(numbers):\n",
        "  result = []\n",
        "  for i in numbers:\n",
        "    result.append(i*i)\n",
        "@time_it    \n",
        "def calc_cube(numbers):\n",
        "  result = []\n",
        "  for i in numbers:\n",
        "    result.append(i*i*i)\n",
        "  return result\n",
        "\n",
        "array = range(1,1000)\n",
        "calc_cube(array)\n",
        "calc_square(array)"
      ],
      "metadata": {
        "id": "1z2lanNsiGWw",
        "colab": {
          "base_uri": "https://localhost:8080/"
        },
        "outputId": "3130c4e5-70b7-4db8-afc8-517f6934ee25"
      },
      "execution_count": null,
      "outputs": [
        {
          "output_type": "stream",
          "name": "stdout",
          "text": [
            "calc_cube took 0.2655982971191406milliseconds\n",
            "calc_square took 0.14257431030273438milliseconds\n"
          ]
        }
      ]
    },
    {
      "cell_type": "code",
      "source": [
        "# Multiprocessing\n",
        "import time \n",
        "import multiprocessing\n",
        "def calc_sq(n):\n",
        "  result = []\n",
        "  for i in n:\n",
        "    time.sleep(0.2)\n",
        "    result.append(i*i)\n",
        "    print(i*i)\n",
        "  return result\n",
        "\n",
        "def calc_cu(n):\n",
        "  result = []\n",
        "  for i in n:\n",
        "    time.sleep(0.2)\n",
        "    result.append(i*i*i)\n",
        "    print(i*i*i)\n",
        "  return result\n",
        "\n",
        "#main \n",
        "if __name__ == \"__main__\":\n",
        "  arr = [2,3,4,5,6]\n",
        "\n",
        "  #multiprocessing\n",
        "  p1 = multiprocessing.Process(target = calc_sq, args = (arr,))\n",
        "  p2 = multiprocessing.Process(target = calc_cu, args = (arr,))\n",
        "\n",
        "  p1.start()\n",
        "  p2.start()\n",
        "\n",
        "  # join helps program to wait till execution of both process\n",
        "  p1.join()\n",
        "  p2.join()\n",
        "\n",
        "  print('done')"
      ],
      "metadata": {
        "colab": {
          "base_uri": "https://localhost:8080/"
        },
        "id": "-i0PazbkQ1_8",
        "outputId": "e89da5e7-a478-4bf8-a6fa-8ae513fae471"
      },
      "execution_count": 1,
      "outputs": [
        {
          "output_type": "stream",
          "name": "stdout",
          "text": [
            "4\n",
            "8\n",
            "9\n",
            "27\n",
            "16\n",
            "64\n",
            "25\n",
            "125\n",
            "36\n",
            "216\n",
            "done\n"
          ]
        }
      ]
    },
    {
      "cell_type": "code",
      "source": [
        "\n",
        " "
      ],
      "metadata": {
        "id": "y9JkZD-e-dTG"
      },
      "execution_count": null,
      "outputs": []
    },
    {
      "cell_type": "code",
      "source": [
        ""
      ],
      "metadata": {
        "id": "5MZOPmLo9csG"
      },
      "execution_count": null,
      "outputs": []
    }
  ]
}