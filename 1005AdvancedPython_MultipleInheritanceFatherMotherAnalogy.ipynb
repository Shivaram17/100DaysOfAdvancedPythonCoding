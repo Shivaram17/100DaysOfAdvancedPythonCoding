{
  "nbformat": 4,
  "nbformat_minor": 0,
  "metadata": {
    "colab": {
      "name": "1005AdvancedPython_MultipleInheritanceFatherMotherAnalogy.ipynb",
      "provenance": [],
      "collapsed_sections": [],
      "authorship_tag": "ABX9TyOXjWhS8FEu4BHuq4Lg4M75",
      "include_colab_link": true
    },
    "kernelspec": {
      "name": "python3",
      "display_name": "Python 3"
    },
    "language_info": {
      "name": "python"
    }
  },
  "cells": [
    {
      "cell_type": "markdown",
      "metadata": {
        "id": "view-in-github",
        "colab_type": "text"
      },
      "source": [
        "<a href=\"https://colab.research.google.com/github/Shivaram17/100DaysOfAdvancedPythonCoding/blob/main/1005AdvancedPython_MultipleInheritanceFatherMotherAnalogy.ipynb\" target=\"_parent\"><img src=\"https://colab.research.google.com/assets/colab-badge.svg\" alt=\"Open In Colab\"/></a>"
      ]
    },
    {
      "cell_type": "code",
      "source": [
        "# Multiple Inheritance\n",
        "class Father:\n",
        "  def gardening(self):\n",
        "    print(\"I enjoy gardening\")\n",
        "\n",
        "class Mother:\n",
        "  def  cooking(self):\n",
        "    print(\"I enjoy cooking and watching serials\")\n",
        "\n",
        "class Child(Father, Mother):\n",
        "  def __init__(self):\n",
        "    print('I enjoy reading')\n",
        "\n",
        "# creating an object\n",
        "c = Child()\n",
        "c.gardening()\n",
        "c.cooking()\n",
        "\n",
        "\n",
        "  "
      ],
      "metadata": {
        "id": "1z2lanNsiGWw",
        "colab": {
          "base_uri": "https://localhost:8080/"
        },
        "outputId": "39ba8cf0-3914-425f-de69-7d00645b482d"
      },
      "execution_count": 2,
      "outputs": [
        {
          "output_type": "stream",
          "name": "stdout",
          "text": [
            "I enjoy reading\n",
            "I enjoy gardening\n",
            "I enjoy cooking and watching serials\n"
          ]
        }
      ]
    },
    {
      "cell_type": "code",
      "source": [
        ""
      ],
      "metadata": {
        "id": "tT-J0otw7IQW"
      },
      "execution_count": null,
      "outputs": []
    }
  ]
}