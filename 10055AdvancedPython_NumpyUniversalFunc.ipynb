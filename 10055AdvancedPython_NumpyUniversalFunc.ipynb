{
  "nbformat": 4,
  "nbformat_minor": 0,
  "metadata": {
    "colab": {
      "name": "10055AdvancedPython_NumpyUniversalFunc.ipynb",
      "provenance": [],
      "collapsed_sections": [],
      "authorship_tag": "ABX9TyOD1EwvvwtnDxceiBYq9mPL",
      "include_colab_link": true
    },
    "kernelspec": {
      "name": "python3",
      "display_name": "Python 3"
    },
    "language_info": {
      "name": "python"
    }
  },
  "cells": [
    {
      "cell_type": "markdown",
      "metadata": {
        "id": "view-in-github",
        "colab_type": "text"
      },
      "source": [
        "<a href=\"https://colab.research.google.com/github/Shivaram17/100DaysOfAdvancedPythonCoding/blob/main/10055AdvancedPython_NumpyUniversalFunc.ipynb\" target=\"_parent\"><img src=\"https://colab.research.google.com/assets/colab-badge.svg\" alt=\"Open In Colab\"/></a>"
      ]
    },
    {
      "cell_type": "code",
      "source": [
        "#array slicing\n",
        "import numpy as np\n",
        "arr = np.arange(10)\n",
        "arr[5:8] = 1\n",
        "# reshaping\n",
        "a = np.arange(15).reshape(3,5)\n",
        "#transpose\n",
        "a.T\n",
        "# inner matrix product np.dot\n",
        "a1 = np.random.randn(6,3)\n",
        "np.dot(a1.T, a1)\n"
      ],
      "metadata": {
        "id": "8LcOPjoENMNq",
        "colab": {
          "base_uri": "https://localhost:8080/"
        },
        "outputId": "b4da7dc5-3bd2-4e4e-ffa7-0fe869c5fc42"
      },
      "execution_count": null,
      "outputs": [
        {
          "output_type": "execute_result",
          "data": {
            "text/plain": [
              "array([[ 5.68225928, -1.06512328, -0.441692  ],\n",
              "       [-1.06512328, 12.10526401, -0.1659054 ],\n",
              "       [-0.441692  , -0.1659054 , 13.95840709]])"
            ]
          },
          "metadata": {},
          "execution_count": 16
        }
      ]
    },
    {
      "cell_type": "code",
      "source": [
        "# np universal func\n",
        "import numpy as np\n",
        "arr = np.arange(10)*5\n",
        "arr1 = np.sqrt(arr)\n",
        "arr2 = np.exp(arr1)\n",
        "remainder, wholepart = np.modf(arr)\n",
        "remainder\n",
        "wholepart\n",
        "np.maximum(arr1, arr)"
      ],
      "metadata": {
        "id": "R_esbVdUV0IR",
        "colab": {
          "base_uri": "https://localhost:8080/"
        },
        "outputId": "37f0c1f5-7a17-4ecd-8e58-4b8cbb64fc40"
      },
      "execution_count": 10,
      "outputs": [
        {
          "output_type": "execute_result",
          "data": {
            "text/plain": [
              "array([ 0.,  5., 10., 15., 20., 25., 30., 35., 40., 45.])"
            ]
          },
          "metadata": {},
          "execution_count": 10
        }
      ]
    },
    {
      "cell_type": "code",
      "source": [
        "\n"
      ],
      "metadata": {
        "id": "rdybwSAu6B6G"
      },
      "execution_count": null,
      "outputs": []
    }
  ]
}