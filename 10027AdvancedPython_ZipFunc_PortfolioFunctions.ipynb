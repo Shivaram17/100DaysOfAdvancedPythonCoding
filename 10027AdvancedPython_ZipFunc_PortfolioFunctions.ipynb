{
  "nbformat": 4,
  "nbformat_minor": 0,
  "metadata": {
    "colab": {
      "name": "10027AdvancedPython_ZipFunc_PortfolioFunctions.ipynb",
      "provenance": [],
      "collapsed_sections": [],
      "authorship_tag": "ABX9TyPPV+eOFN3w3DfeutfZwygO",
      "include_colab_link": true
    },
    "kernelspec": {
      "name": "python3",
      "display_name": "Python 3"
    },
    "language_info": {
      "name": "python"
    }
  },
  "cells": [
    {
      "cell_type": "markdown",
      "metadata": {
        "id": "view-in-github",
        "colab_type": "text"
      },
      "source": [
        "<a href=\"https://colab.research.google.com/github/Shivaram17/100DaysOfAdvancedPythonCoding/blob/main/10027AdvancedPython_ZipFunc_PortfolioFunctions.ipynb\" target=\"_parent\"><img src=\"https://colab.research.google.com/assets/colab-badge.svg\" alt=\"Open In Colab\"/></a>"
      ]
    },
    {
      "cell_type": "code",
      "source": [
        "# want to perform calculations like min and max on dict using zip\n",
        "SaiKumar_Portfolio = {\n",
        "    \"Hathway\": 17,\n",
        "     \"ITC\": 220,\n",
        "     \"Idea\": 11,\n",
        "     \"Zomato\": 87,\n",
        "     \"GVFILM\": 1.30,\n",
        "     \"ICICB22\": 47,\n",
        "     \"IOC\": 121,\n",
        "     \"JPPowers\": 8,\n",
        "     \"Mothersumi\": 159\n",
        "}\n",
        "\n",
        "Sai_MinStocks = min(zip(SaiKumar_Portfolio.values(), SaiKumar_Portfolio.keys()))\n",
        "Sai_MaxStocks = max(zip(SaiKumar_Portfolio.values(), SaiKumar_Portfolio.keys()))\n",
        "Sai_MinStocks"
      ],
      "metadata": {
        "colab": {
          "base_uri": "https://localhost:8080/"
        },
        "id": "SFo7IAyv7Lr0",
        "outputId": "a61296b9-e6fe-4478-b499-a478ea1f94a8"
      },
      "execution_count": 15,
      "outputs": [
        {
          "output_type": "execute_result",
          "data": {
            "text/plain": [
              "(1.3, 'GVFILM')"
            ]
          },
          "metadata": {},
          "execution_count": 15
        }
      ]
    },
    {
      "cell_type": "code",
      "source": [
        ""
      ],
      "metadata": {
        "id": "OptniPuU9rD6"
      },
      "execution_count": null,
      "outputs": []
    }
  ]
}