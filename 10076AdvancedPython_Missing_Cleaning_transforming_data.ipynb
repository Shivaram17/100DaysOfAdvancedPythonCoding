{
  "nbformat": 4,
  "nbformat_minor": 0,
  "metadata": {
    "colab": {
      "name": "10075AdvancedPython_Missing_Cleaning_transforming_data.ipynb",
      "provenance": [],
      "collapsed_sections": [],
      "authorship_tag": "ABX9TyNa1oybNaC3xHdkBeaBdJFI",
      "include_colab_link": true
    },
    "kernelspec": {
      "name": "python3",
      "display_name": "Python 3"
    },
    "language_info": {
      "name": "python"
    }
  },
  "cells": [
    {
      "cell_type": "markdown",
      "metadata": {
        "id": "view-in-github",
        "colab_type": "text"
      },
      "source": [
        "<a href=\"https://colab.research.google.com/github/Shivaram17/100DaysOfAdvancedPythonCoding/blob/main/10076AdvancedPython_Missing_Cleaning_transforming_data.ipynb\" target=\"_parent\"><img src=\"https://colab.research.google.com/assets/colab-badge.svg\" alt=\"Open In Colab\"/></a>"
      ]
    },
    {
      "cell_type": "code",
      "source": [
        "import sqlite3\n",
        "\n",
        "query = \"\"\" CREATE TABLE TEST4\n",
        "            (a VARCHAR(20), b VARCHAR(20),\n",
        "             c REAL, d INTEGER);\"\"\"\n",
        "\n",
        "\n",
        "con = sqlite3.connect('mydata.sqlite')\n",
        "\n",
        "con.execute(query)\n",
        "\n",
        "# con.commit()\n",
        "# insert a few rows of data\n",
        "data = [('Atlanta', 'Georgia', 1.25, 6), ('Tallahassee', 'Florida', 2.6, 3),('Sacramento', 'California', 1.7, 5)]\n",
        "stmt = 'INSERT INTO TEST1 VALUES(?,?,?,?)'\n",
        "con.executemany(stmt, data)\n",
        "# con.commit()\n",
        "# fetch\n",
        "cursor = con.execute('select * from TEST1')\n",
        "rows = cursor.fetchall()\n",
        "rows"
      ],
      "metadata": {
        "id": "tFc6v55Z8XT7",
        "colab": {
          "base_uri": "https://localhost:8080/"
        },
        "outputId": "27a12a11-801d-4c44-936a-85973124a844"
      },
      "execution_count": null,
      "outputs": [
        {
          "output_type": "execute_result",
          "data": {
            "text/plain": [
              "[('Atlanta', 'Georgia', 1.25, 6),\n",
              " ('Tallahassee', 'Florida', 2.6, 3),\n",
              " ('Sacramento', 'California', 1.7, 5)]"
            ]
          },
          "metadata": {},
          "execution_count": 3
        }
      ]
    },
    {
      "cell_type": "code",
      "source": [
        "# missing data\n",
        "import pandas as pd\n",
        "string_data = pd.Series(['goc', 'euc', 'BR'])\n",
        "string_data[0] = None\n",
        "string_data.isnull()\n",
        "# filtering out missing data\n",
        "from numpy import nan as NA\n",
        "import numpy as np\n",
        "s = pd.Series([1,NA,2,6,NA,8])\n",
        "s.dropna()\n",
        "s[s.notnull()]\n",
        "\n",
        "df = pd.DataFrame(np.random.randn(7,3))\n",
        "df.iloc[:4, 2] = NA\n",
        "# df.dropna()\n",
        "# df.fillna(0, inplace = True)\n",
        "\n",
        "df.fillna(method = 'bfill', limit =2)\n",
        "s.fillna(s.mean())"
      ],
      "metadata": {
        "id": "pqRI_WASq6X-",
        "colab": {
          "base_uri": "https://localhost:8080/"
        },
        "outputId": "e5b9c0ce-149c-4168-d5ca-464f711505da"
      },
      "execution_count": 17,
      "outputs": [
        {
          "output_type": "execute_result",
          "data": {
            "text/plain": [
              "0    1.00\n",
              "1    4.25\n",
              "2    2.00\n",
              "3    6.00\n",
              "4    4.25\n",
              "5    8.00\n",
              "dtype: float64"
            ]
          },
          "metadata": {},
          "execution_count": 17
        }
      ]
    },
    {
      "cell_type": "code",
      "source": [
        ""
      ],
      "metadata": {
        "id": "d099L0kaSROd"
      },
      "execution_count": null,
      "outputs": []
    }
  ]
}