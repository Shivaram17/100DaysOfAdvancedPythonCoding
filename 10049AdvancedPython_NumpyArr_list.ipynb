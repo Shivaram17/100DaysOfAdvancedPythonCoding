{
  "nbformat": 4,
  "nbformat_minor": 0,
  "metadata": {
    "colab": {
      "name": "10049AdvancedPython_NumpyArr_list.ipynb",
      "provenance": [],
      "collapsed_sections": [],
      "authorship_tag": "ABX9TyMNstkYHag2s/B/7e+OdtoZ",
      "include_colab_link": true
    },
    "kernelspec": {
      "name": "python3",
      "display_name": "Python 3"
    },
    "language_info": {
      "name": "python"
    }
  },
  "cells": [
    {
      "cell_type": "markdown",
      "metadata": {
        "id": "view-in-github",
        "colab_type": "text"
      },
      "source": [
        "<a href=\"https://colab.research.google.com/github/Shivaram17/100DaysOfAdvancedPythonCoding/blob/main/10049AdvancedPython_NumpyArr_list.ipynb\" target=\"_parent\"><img src=\"https://colab.research.google.com/assets/colab-badge.svg\" alt=\"Open In Colab\"/></a>"
      ]
    },
    {
      "cell_type": "code",
      "source": [
        "import numpy as np\n",
        "#numpy\n",
        "my_arr = np.arange(10000000)\n",
        "\n",
        "#list \n",
        "my_list = list(range(10000000))\n",
        "\n",
        "#time calc\n",
        "%time \n",
        "for _ in range(10):\n",
        "  my_arr2 = my_arr * 2\n",
        "\n",
        "%time\n",
        "for _ in range(10):\n",
        "  my_list2 = my_list * 2\n"
      ],
      "metadata": {
        "id": "LMGDzl17sSBP",
        "colab": {
          "base_uri": "https://localhost:8080/"
        },
        "outputId": "6b00aaf9-05a8-4821-ea79-a1a7b4144fec"
      },
      "execution_count": 5,
      "outputs": [
        {
          "output_type": "stream",
          "name": "stdout",
          "text": [
            "CPU times: user 2 µs, sys: 1 µs, total: 3 µs\n",
            "Wall time: 5.48 µs\n",
            "CPU times: user 3 µs, sys: 0 ns, total: 3 µs\n",
            "Wall time: 5.72 µs\n"
          ]
        }
      ]
    },
    {
      "cell_type": "code",
      "source": [
        ""
      ],
      "metadata": {
        "id": "yat0F7i0py4k"
      },
      "execution_count": null,
      "outputs": []
    }
  ]
}