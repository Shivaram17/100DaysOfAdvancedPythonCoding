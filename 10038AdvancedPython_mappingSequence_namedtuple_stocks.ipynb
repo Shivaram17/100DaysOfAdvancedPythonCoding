{
  "nbformat": 4,
  "nbformat_minor": 0,
  "metadata": {
    "colab": {
      "name": "10038AdvancedPython_mappingSequence_namedtuple_stocks.ipynb",
      "provenance": [],
      "collapsed_sections": [],
      "authorship_tag": "ABX9TyO/31CWUjO+0ZkvK9Gf1yzp",
      "include_colab_link": true
    },
    "kernelspec": {
      "name": "python3",
      "display_name": "Python 3"
    },
    "language_info": {
      "name": "python"
    }
  },
  "cells": [
    {
      "cell_type": "markdown",
      "metadata": {
        "id": "view-in-github",
        "colab_type": "text"
      },
      "source": [
        "<a href=\"https://colab.research.google.com/github/Shivaram17/100DaysOfAdvancedPythonCoding/blob/main/10038AdvancedPython_mappingSequence_namedtuple_stocks.ipynb\" target=\"_parent\"><img src=\"https://colab.research.google.com/assets/colab-badge.svg\" alt=\"Open In Colab\"/></a>"
      ]
    },
    {
      "cell_type": "code",
      "source": [
        "#finding minimum value in a dictionary\n",
        "prices = {\n",
        "'ACME': 45.23,\n",
        "'AAPL': 612.78,\n",
        "'IBM': 205.55,\n",
        "'HPQ': 37.20,\n",
        "'FB': 10.75\n",
        "}\n",
        "\n",
        "min_value = prices[min(prices, key = lambda k: prices[k])]\n",
        "min_value"
      ],
      "metadata": {
        "id": "R88ac-92oppA",
        "colab": {
          "base_uri": "https://localhost:8080/"
        },
        "outputId": "d3dc35e2-dd7a-40e3-e076-cae067d2f6c7"
      },
      "execution_count": 1,
      "outputs": [
        {
          "output_type": "execute_result",
          "data": {
            "text/plain": [
              "10.75"
            ]
          },
          "metadata": {},
          "execution_count": 1
        }
      ]
    },
    {
      "cell_type": "code",
      "source": [
        "#mapping sequence using named tuple\n",
        "from collections import namedtuple\n",
        "stock = namedtuple('Stock', ['name', 'shares', 'price'])\n",
        "s = stock('AAPL', '100', '250')\n",
        "s.shares\n",
        "\n",
        "def compute(records):\n",
        "  total = 0.0\n",
        "  for rec in records:\n",
        "    s = stock(*records)\n",
        "    total = s.shares * s.price\n",
        "  return total\n",
        "\n",
        "records = ('AAPL', 2, 250) #, ('AL', 1, 350), ('FB', 1, 150)]\n",
        "t = compute(records)\n",
        "t"
      ],
      "metadata": {
        "colab": {
          "base_uri": "https://localhost:8080/"
        },
        "id": "pxtTcWOKr_kD",
        "outputId": "b2f39477-1286-471e-c4f9-832c5bc68cc0"
      },
      "execution_count": 11,
      "outputs": [
        {
          "output_type": "execute_result",
          "data": {
            "text/plain": [
              "500"
            ]
          },
          "metadata": {},
          "execution_count": 11
        }
      ]
    },
    {
      "cell_type": "code",
      "source": [
        "\n"
      ],
      "metadata": {
        "id": "VuPyrpjSuVx6"
      },
      "execution_count": null,
      "outputs": []
    }
  ]
}