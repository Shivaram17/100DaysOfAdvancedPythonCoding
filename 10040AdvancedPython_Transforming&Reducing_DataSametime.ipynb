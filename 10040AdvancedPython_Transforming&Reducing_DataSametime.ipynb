{
  "nbformat": 4,
  "nbformat_minor": 0,
  "metadata": {
    "colab": {
      "name": "10040AdvancedPython_Transforming&Reducing_DataSametime.ipynb",
      "provenance": [],
      "collapsed_sections": [],
      "authorship_tag": "ABX9TyMI2XS67vSK41Mcbmg1qCqG",
      "include_colab_link": true
    },
    "kernelspec": {
      "name": "python3",
      "display_name": "Python 3"
    },
    "language_info": {
      "name": "python"
    }
  },
  "cells": [
    {
      "cell_type": "markdown",
      "metadata": {
        "id": "view-in-github",
        "colab_type": "text"
      },
      "source": [
        "<a href=\"https://colab.research.google.com/github/Shivaram17/100DaysOfAdvancedPythonCoding/blob/main/10040AdvancedPython_Transforming%26Reducing_DataSametime.ipynb\" target=\"_parent\"><img src=\"https://colab.research.google.com/assets/colab-badge.svg\" alt=\"Open In Colab\"/></a>"
      ]
    },
    {
      "cell_type": "code",
      "source": [
        "# function to create a stock from a dict\n",
        "from collections import namedtuple\n",
        "from datetime import datetime\n",
        "Stock = namedtuple(\"Stock\", ['name', 'shares', 'price', 'date', 'time'])\n",
        "stock_prototype = Stock('', 0, 0.0, None, None)\n",
        "# function \n",
        "def dict_to_stock(s):\n",
        "  return stock_prototype._replace(**s)\n",
        "d =  datetime.now()\n",
        "a = {'name':'AAPL', 'shares': 100, 'price': 100, 'date': d  }\n",
        "b = dict_to_stock(a)\n",
        "b"
      ],
      "metadata": {
        "colab": {
          "base_uri": "https://localhost:8080/"
        },
        "id": "e4gb2dP2hRqE",
        "outputId": "c3b8e11a-7abe-44a5-a957-2cd59c4ab554"
      },
      "execution_count": 12,
      "outputs": [
        {
          "output_type": "execute_result",
          "data": {
            "text/plain": [
              "Stock(name='AAPL', shares=100, price=100, date=datetime.datetime(2022, 3, 3, 13, 34, 37, 492143), time=None)"
            ]
          },
          "metadata": {},
          "execution_count": 12
        }
      ]
    },
    {
      "cell_type": "code",
      "source": [
        "#Transforming and Reducing data at the same time \n",
        "# calculate the sum of the squares\n",
        "nums = [1,2,3,4,5]\n",
        "s = sum(i*i for i in nums)\n",
        "\n",
        "# Determine if any .py file exists in the directory\n",
        "import os\n",
        "files = os.listdir('/content/')\n",
        "if any(name.endswith('.xlsx') for name in files):\n",
        "  print('Excel file is present')\n",
        "else:\n",
        "  print('No excelf file')\n",
        "\n",
        "# output a tuple to a csv\n",
        "p = {'name':'AAPL', 'shares':100}\n",
        "print(','.join(str(x) for x in p))"
      ],
      "metadata": {
        "colab": {
          "base_uri": "https://localhost:8080/"
        },
        "id": "nA3CO-ga-TmV",
        "outputId": "d11ef492-0f81-4981-eedc-8b464a402b1f"
      },
      "execution_count": 22,
      "outputs": [
        {
          "output_type": "stream",
          "name": "stdout",
          "text": [
            "Excel file is present\n",
            "name,shares\n"
          ]
        }
      ]
    },
    {
      "cell_type": "code",
      "source": [
        ""
      ],
      "metadata": {
        "id": "Ey-SsZCpAiF0"
      },
      "execution_count": null,
      "outputs": []
    }
  ]
}