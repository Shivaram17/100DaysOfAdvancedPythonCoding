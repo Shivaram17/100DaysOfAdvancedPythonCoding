{
  "nbformat": 4,
  "nbformat_minor": 0,
  "metadata": {
    "colab": {
      "name": "10051AdvancedPython_ComplexMath_cmath.ipynb",
      "provenance": [],
      "collapsed_sections": [],
      "authorship_tag": "ABX9TyMu2J9/dOou7W2Spp3VBuPO",
      "include_colab_link": true
    },
    "kernelspec": {
      "name": "python3",
      "display_name": "Python 3"
    },
    "language_info": {
      "name": "python"
    }
  },
  "cells": [
    {
      "cell_type": "markdown",
      "metadata": {
        "id": "view-in-github",
        "colab_type": "text"
      },
      "source": [
        "<a href=\"https://colab.research.google.com/github/Shivaram17/100DaysOfAdvancedPythonCoding/blob/main/10051AdvancedPython_ComplexMath_cmath.ipynb\" target=\"_parent\"><img src=\"https://colab.research.google.com/assets/colab-badge.svg\" alt=\"Open In Colab\"/></a>"
      ]
    },
    {
      "cell_type": "code",
      "source": [
        "# complex function\n",
        "a = complex(3,4)\n",
        "a.real\n",
        "a.imag\n",
        "b = a.conjugate()\n",
        "d = a*b\n",
        "d"
      ],
      "metadata": {
        "id": "dRA8fs5QQPYJ",
        "colab": {
          "base_uri": "https://localhost:8080/"
        },
        "outputId": "6cf35fdc-283e-4b89-d4f7-93c8e28a531c"
      },
      "execution_count": 9,
      "outputs": [
        {
          "output_type": "execute_result",
          "data": {
            "text/plain": [
              "(25+0j)"
            ]
          },
          "metadata": {},
          "execution_count": 9
        }
      ]
    },
    {
      "cell_type": "code",
      "source": [
        "# cmath complex math\n",
        "import cmath\n",
        "c = cmath.cos(a)\n",
        "d = cmath.sin(a)\n",
        "d"
      ],
      "metadata": {
        "colab": {
          "base_uri": "https://localhost:8080/"
        },
        "id": "btEYn-WRIVls",
        "outputId": "1ef51ab2-0f90-4965-a81f-9422e0bb9a46"
      },
      "execution_count": 12,
      "outputs": [
        {
          "output_type": "execute_result",
          "data": {
            "text/plain": [
              "(3.853738037919377-27.016813258003932j)"
            ]
          },
          "metadata": {},
          "execution_count": 12
        }
      ]
    },
    {
      "cell_type": "code",
      "source": [
        ""
      ],
      "metadata": {
        "id": "ckUEJFuyJUaB"
      },
      "execution_count": null,
      "outputs": []
    }
  ]
}