{
  "nbformat": 4,
  "nbformat_minor": 0,
  "metadata": {
    "colab": {
      "name": "10072AdvancedPython_Sort_Key.ipynb",
      "provenance": [],
      "collapsed_sections": [],
      "authorship_tag": "ABX9TyMeTO2EIlAY1HMKc0Gpz24X",
      "include_colab_link": true
    },
    "kernelspec": {
      "name": "python3",
      "display_name": "Python 3"
    },
    "language_info": {
      "name": "python"
    }
  },
  "cells": [
    {
      "cell_type": "markdown",
      "metadata": {
        "id": "view-in-github",
        "colab_type": "text"
      },
      "source": [
        "<a href=\"https://colab.research.google.com/github/Shivaram17/100DaysOfAdvancedPythonCoding/blob/main/10073AdvancedPython_JSON_TO_PYTHON_DICT.ipynb\" target=\"_parent\"><img src=\"https://colab.research.google.com/assets/colab-badge.svg\" alt=\"Open In Colab\"/></a>"
      ]
    },
    {
      "cell_type": "code",
      "source": [
        "# sort based on the len of the string using key\n",
        "def myFunc(e):\n",
        "  return len(e)\n",
        "cars = ['Ford', 'Mitsubishi', 'BMW', 'VW']\n",
        "\n",
        "cars.sort(key = myFunc)\n",
        "cars\n",
        "\n"
      ],
      "metadata": {
        "colab": {
          "base_uri": "https://localhost:8080/"
        },
        "id": "3cE_eoQfjDir",
        "outputId": "cd09da99-7ff6-47ab-b840-633a313baffb"
      },
      "execution_count": 4,
      "outputs": [
        {
          "output_type": "execute_result",
          "data": {
            "text/plain": [
              "['VW', 'BMW', 'Ford', 'Mitsubishi']"
            ]
          },
          "metadata": {},
          "execution_count": 4
        }
      ]
    },
    {
      "cell_type": "code",
      "source": [
        "import json\n",
        "# JSON string\n",
        "obj = '{\"name\": \"Lalu\", \"age\":12, \"sport\": \"Gully Cricket\"}'\n",
        "# coverting into a python object dict\n",
        "result = json.loads(obj)\n",
        "# converting into a json string \n",
        "result1 = json.dumps(result)\n",
        "result1"
      ],
      "metadata": {
        "colab": {
          "base_uri": "https://localhost:8080/",
          "height": 35
        },
        "id": "DHYe6Ue-lI67",
        "outputId": "22f1a0f5-6a8e-4799-c93e-175a49f4389f"
      },
      "execution_count": 6,
      "outputs": [
        {
          "output_type": "execute_result",
          "data": {
            "text/plain": [
              "'{\"name\": \"Lalu\", \"age\": 12, \"sport\": \"Gully Cricket\"}'"
            ],
            "application/vnd.google.colaboratory.intrinsic+json": {
              "type": "string"
            }
          },
          "metadata": {},
          "execution_count": 6
        }
      ]
    },
    {
      "cell_type": "code",
      "source": [
        ""
      ],
      "metadata": {
        "id": "mjbeP74DXdHZ"
      },
      "execution_count": null,
      "outputs": []
    }
  ]
}