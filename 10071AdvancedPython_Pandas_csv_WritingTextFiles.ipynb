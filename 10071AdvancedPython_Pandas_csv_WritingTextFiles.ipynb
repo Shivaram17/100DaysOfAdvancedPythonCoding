{
  "nbformat": 4,
  "nbformat_minor": 0,
  "metadata": {
    "colab": {
      "name": "10071AdvancedPython_Pandas_csv_WritingTextFiles.ipynb",
      "provenance": [],
      "collapsed_sections": [],
      "authorship_tag": "ABX9TyNb8FmDfiDgtRaM29n8mFBi",
      "include_colab_link": true
    },
    "kernelspec": {
      "name": "python3",
      "display_name": "Python 3"
    },
    "language_info": {
      "name": "python"
    }
  },
  "cells": [
    {
      "cell_type": "markdown",
      "metadata": {
        "id": "view-in-github",
        "colab_type": "text"
      },
      "source": [
        "<a href=\"https://colab.research.google.com/github/Shivaram17/100DaysOfAdvancedPythonCoding/blob/main/10071AdvancedPython_Pandas_csv_WritingTextFiles.ipynb\" target=\"_parent\"><img src=\"https://colab.research.google.com/assets/colab-badge.svg\" alt=\"Open In Colab\"/></a>"
      ]
    },
    {
      "cell_type": "code",
      "source": [
        "# how to write into a csv file using \n",
        "import pandas as pd\n",
        "import csv\n",
        "class My_Dialect():\n",
        "  delimiter = ','\n",
        "  linelimiter = '\\n'\n",
        "  quotechar = '\"'\n",
        "  quoting = csv.QUOTE_MINIMAL\n",
        "\n",
        "with open('writer_2.csv', 'w') as f:\n",
        "  writer = csv.writer(f, dialect = My_Dialect)\n",
        "  writer.writerow(('one', 'two', 'three'))\n",
        "  writer.writerow(('1', '2', '3'))\n",
        "  writer.writerow(('4', '5', '6'))\n",
        "  writer.writerow(('7', '8', '9'))\n",
        "\n"
      ],
      "metadata": {
        "id": "kb0702l1SG12"
      },
      "execution_count": 7,
      "outputs": []
    },
    {
      "cell_type": "code",
      "source": [
        ""
      ],
      "metadata": {
        "id": "Ff583e6MXHPm"
      },
      "execution_count": null,
      "outputs": []
    }
  ]
}