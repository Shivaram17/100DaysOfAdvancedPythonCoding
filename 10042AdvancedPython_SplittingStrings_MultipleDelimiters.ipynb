{
  "nbformat": 4,
  "nbformat_minor": 0,
  "metadata": {
    "colab": {
      "name": "10042AdvancedPython_SplittingStrings_MultipleDelimiters.ipynb",
      "provenance": [],
      "collapsed_sections": [],
      "authorship_tag": "ABX9TyOpDoibyulwDeg148KDBhIz",
      "include_colab_link": true
    },
    "kernelspec": {
      "name": "python3",
      "display_name": "Python 3"
    },
    "language_info": {
      "name": "python"
    }
  },
  "cells": [
    {
      "cell_type": "markdown",
      "metadata": {
        "id": "view-in-github",
        "colab_type": "text"
      },
      "source": [
        "<a href=\"https://colab.research.google.com/github/Shivaram17/100DaysOfAdvancedPythonCoding/blob/main/10042AdvancedPython_SplittingStrings_MultipleDelimiters.ipynb\" target=\"_parent\"><img src=\"https://colab.research.google.com/assets/colab-badge.svg\" alt=\"Open In Colab\"/></a>"
      ]
    },
    {
      "cell_type": "code",
      "source": [
        "# splitting a string on any multiple delimiters\n",
        "import re\n",
        "line = 'asdf fjdk; afed, - fdad, dasa.'\n",
        "re.split(r'[;,\\s]\\s*', line)\n"
      ],
      "metadata": {
        "colab": {
          "base_uri": "https://localhost:8080/"
        },
        "id": "sc5Is7fFGG3S",
        "outputId": "0f719a38-fd7e-41c0-b92b-489f284f9e0e"
      },
      "execution_count": 2,
      "outputs": [
        {
          "output_type": "execute_result",
          "data": {
            "text/plain": [
              "['asdf', 'fjdk', 'afed', '-', 'fdad', 'dasa.']"
            ]
          },
          "metadata": {},
          "execution_count": 2
        }
      ]
    },
    {
      "cell_type": "code",
      "source": [
        ""
      ],
      "metadata": {
        "id": "4Bb8aVk5Ir3p"
      },
      "execution_count": null,
      "outputs": []
    }
  ]
}