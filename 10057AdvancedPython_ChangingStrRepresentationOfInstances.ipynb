{
  "nbformat": 4,
  "nbformat_minor": 0,
  "metadata": {
    "colab": {
      "name": "10057AdvancedPython_ChangingStrRepresentationOfInstances.ipynb",
      "provenance": [],
      "collapsed_sections": [],
      "authorship_tag": "ABX9TyOnHkEnfGWtZub8EIe16pqa",
      "include_colab_link": true
    },
    "kernelspec": {
      "name": "python3",
      "display_name": "Python 3"
    },
    "language_info": {
      "name": "python"
    }
  },
  "cells": [
    {
      "cell_type": "markdown",
      "metadata": {
        "id": "view-in-github",
        "colab_type": "text"
      },
      "source": [
        "<a href=\"https://colab.research.google.com/github/Shivaram17/100DaysOfAdvancedPythonCoding/blob/main/10057AdvancedPython_ChangingStrRepresentationOfInstances.ipynb\" target=\"_parent\"><img src=\"https://colab.research.google.com/assets/colab-badge.svg\" alt=\"Open In Colab\"/></a>"
      ]
    },
    {
      "cell_type": "code",
      "source": [
        "class Pair:\n",
        "  def __init__(self, x, y):\n",
        "    self.x = x\n",
        "    self.y = y\n",
        "\n",
        "  def __repr__(self):\n",
        "    return 'Pair ({0.x!r}, {0.y!r})'.format(self)\n",
        "  \n",
        "  def __str__(self):\n",
        "    return '({0.x!s}, {0.y!s})'.format(self)\n",
        "\n",
        "# calling the class\n",
        "p = Pair(3,5)\n",
        "p.__repr__() # p is in repr form\n",
        "print(p) # p is in str form"
      ],
      "metadata": {
        "id": "_3X7BQEigYBE",
        "colab": {
          "base_uri": "https://localhost:8080/"
        },
        "outputId": "e6559386-ee24-4c4c-f1c0-97f492983404"
      },
      "execution_count": 4,
      "outputs": [
        {
          "output_type": "stream",
          "name": "stdout",
          "text": [
            "(3, 5)\n"
          ]
        }
      ]
    },
    {
      "cell_type": "code",
      "source": [
        ""
      ],
      "metadata": {
        "id": "IWmUx4B8P2MJ"
      },
      "execution_count": null,
      "outputs": []
    }
  ]
}