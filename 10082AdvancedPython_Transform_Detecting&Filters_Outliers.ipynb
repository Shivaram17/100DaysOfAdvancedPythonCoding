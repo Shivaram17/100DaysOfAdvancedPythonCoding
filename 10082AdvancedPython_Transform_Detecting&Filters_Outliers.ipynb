{
  "nbformat": 4,
  "nbformat_minor": 0,
  "metadata": {
    "colab": {
      "name": "10082AdvancedPython_Transform_Detecting&Filters_Outliers.ipynb",
      "provenance": [],
      "collapsed_sections": [],
      "authorship_tag": "ABX9TyNqdjbs7fjm8AJM7UXEwZBf",
      "include_colab_link": true
    },
    "kernelspec": {
      "name": "python3",
      "display_name": "Python 3"
    },
    "language_info": {
      "name": "python"
    }
  },
  "cells": [
    {
      "cell_type": "markdown",
      "metadata": {
        "id": "view-in-github",
        "colab_type": "text"
      },
      "source": [
        "<a href=\"https://colab.research.google.com/github/Shivaram17/100DaysOfAdvancedPythonCoding/blob/main/10082AdvancedPython_Transform_Detecting%26Filters_Outliers.ipynb\" target=\"_parent\"><img src=\"https://colab.research.google.com/assets/colab-badge.svg\" alt=\"Open In Colab\"/></a>"
      ]
    },
    {
      "cell_type": "code",
      "source": [
        "# discretization and binning\n",
        "import pandas as pd\n",
        "ages = [20,21,22,25,27,28,29,30,32,34]\n",
        "\n",
        "bins = [18, 25, 28, 32, 34]\n",
        "\n",
        "cats = pd.cut(ages, bins)\n",
        "\n",
        "cats.codes\n",
        "cats.categories\n",
        "pd.value_counts(cats)\n"
      ],
      "metadata": {
        "id": "EKXSz2gBjBrE",
        "colab": {
          "base_uri": "https://localhost:8080/"
        },
        "outputId": "6666fa0f-e4c8-407a-e98c-4089a4936f10"
      },
      "execution_count": 5,
      "outputs": [
        {
          "output_type": "execute_result",
          "data": {
            "text/plain": [
              "(18, 25]    4\n",
              "(28, 32]    3\n",
              "(25, 28]    2\n",
              "(32, 34]    1\n",
              "dtype: int64"
            ]
          },
          "metadata": {},
          "execution_count": 5
        }
      ]
    },
    {
      "cell_type": "code",
      "source": [
        "# Detecting and filters outliers\n",
        "import numpy as np\n",
        "data = pd.DataFrame(np.random.randn(1000,4))\n",
        "data.describe()\n",
        "col = data[2]\n",
        "col[np.abs(col) > 0.6].max()"
      ],
      "metadata": {
        "colab": {
          "base_uri": "https://localhost:8080/"
        },
        "id": "5jnasw9soUSW",
        "outputId": "fef93830-84c2-4f82-9f5c-be90cdafb8b2"
      },
      "execution_count": 13,
      "outputs": [
        {
          "output_type": "execute_result",
          "data": {
            "text/plain": [
              "2.8233200619822263"
            ]
          },
          "metadata": {},
          "execution_count": 13
        }
      ]
    },
    {
      "cell_type": "code",
      "source": [
        ""
      ],
      "metadata": {
        "id": "e4m2MRjdr47r"
      },
      "execution_count": null,
      "outputs": []
    }
  ]
}