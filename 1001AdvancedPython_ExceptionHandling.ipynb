{
  "nbformat": 4,
  "nbformat_minor": 0,
  "metadata": {
    "colab": {
      "name": "1001AdvancedPython_ExceptionHandling.ipynb",
      "provenance": [],
      "collapsed_sections": [],
      "authorship_tag": "ABX9TyN18k3p8ARr9jBUJ3HzDC5T",
      "include_colab_link": true
    },
    "kernelspec": {
      "name": "python3",
      "display_name": "Python 3"
    },
    "language_info": {
      "name": "python"
    }
  },
  "cells": [
    {
      "cell_type": "markdown",
      "metadata": {
        "id": "view-in-github",
        "colab_type": "text"
      },
      "source": [
        "<a href=\"https://colab.research.google.com/github/Shivaram17/100DaysOfAdvancedPythonCoding/blob/main/1001AdvancedPython_ExceptionHandling.ipynb\" target=\"_parent\"><img src=\"https://colab.research.google.com/assets/colab-badge.svg\" alt=\"Open In Colab\"/></a>"
      ]
    },
    {
      "cell_type": "code",
      "source": [
        "# Exception handling for finding the type of exception\n",
        "x = input(\"Enter first number\")\n",
        "y = input(\"Enter Second number\")\n",
        "\n",
        "try:\n",
        "  z = x / int(y)\n",
        "except ZeroDivisionError as e:\n",
        "  print('ZeroDivision Error: ', e)\n",
        "  z = None\n",
        "except Exception as e:\n",
        "  print('Exception is ', type(e).__name__)\n",
        "  z = None\n",
        "print(z)\n",
        "\n"
      ],
      "metadata": {
        "id": "7clEkNWGYGeo",
        "colab": {
          "base_uri": "https://localhost:8080/"
        },
        "outputId": "170dec5f-d9e1-456f-e2df-074f3c543855"
      },
      "execution_count": 5,
      "outputs": [
        {
          "output_type": "stream",
          "name": "stdout",
          "text": [
            "Enter first number3\n",
            "Enter Second number0\n",
            "Exception is  TypeError\n",
            "None\n"
          ]
        }
      ]
    },
    {
      "cell_type": "code",
      "source": [
        ""
      ],
      "metadata": {
        "id": "1z2lanNsiGWw"
      },
      "execution_count": null,
      "outputs": []
    }
  ]
}