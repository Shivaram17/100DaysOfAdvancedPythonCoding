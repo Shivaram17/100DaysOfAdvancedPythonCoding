{
  "nbformat": 4,
  "nbformat_minor": 0,
  "metadata": {
    "colab": {
      "name": "1003AdvancedPython_FuntoolsReduceToFindMax.ipynb",
      "provenance": [],
      "collapsed_sections": [],
      "authorship_tag": "ABX9TyMtDHAt7X5dinXu7wKYDhe9",
      "include_colab_link": true
    },
    "kernelspec": {
      "name": "python3",
      "display_name": "Python 3"
    },
    "language_info": {
      "name": "python"
    }
  },
  "cells": [
    {
      "cell_type": "markdown",
      "metadata": {
        "id": "view-in-github",
        "colab_type": "text"
      },
      "source": [
        "<a href=\"https://colab.research.google.com/github/Shivaram17/100DaysOfAdvancedPythonCoding/blob/main/1003AdvancedPython_FuntoolsReduceToFindMax.ipynb\" target=\"_parent\"><img src=\"https://colab.research.google.com/assets/colab-badge.svg\" alt=\"Open In Colab\"/></a>"
      ]
    },
    {
      "cell_type": "code",
      "source": [
        "#functools reduce \n",
        "from functools import reduce\n",
        "# find maximum number from the list\n",
        "l = [1,3,646,56,4,3]\n",
        "m = reduce(lambda a,b: a if a>b else b, l)\n",
        "print(m)"
      ],
      "metadata": {
        "id": "7clEkNWGYGeo",
        "colab": {
          "base_uri": "https://localhost:8080/"
        },
        "outputId": "ada4ac5a-f86e-4ede-f656-cd0c7915bce6"
      },
      "execution_count": 25,
      "outputs": [
        {
          "output_type": "stream",
          "name": "stdout",
          "text": [
            "646\n"
          ]
        }
      ]
    },
    {
      "cell_type": "code",
      "source": [
        "import numpy as np\n",
        "import pandas as pd\n",
        "df = pd.DataFrame([[2, 2], [3, 6]], columns = [\"col1\", \"col2\"])\n",
        "df1 = pd.DataFrame([[2, 2], [4, 6]], columns = [\"col1\", \"col2\"])\n",
        "# com_col = np.where(df.colums[0] == df.columns[0])\n",
        "# df.columns[0] == df1.columns[0]\n",
        "l1 = []\n",
        "l2 = []\n",
        "# for k in range(len(df.columns)):\n",
        "#   if df.columns[k] == df1.columns[k]:\n",
        "#     c1 = df.iloc[:,k]\n",
        "#     c2 = df1.iloc[:,k]\n",
        "#     # print(c1.shape[k])\n",
        "#     for i in range(c1.shape[k-1]):\n",
        "#       if c1[i] == c2[i]:\n",
        "#         l1.append(c1[i])\n",
        "#       elif c1[i] != c2[i]:\n",
        "#         l2.append(c2[i])\n",
        "#       else:\n",
        "#         l1.append(c1[i])\n",
        "# l1\n",
        "a = np.intersect1d(df.columns,df1.columns)\n",
        "a\n"
      ],
      "metadata": {
        "id": "1z2lanNsiGWw",
        "colab": {
          "base_uri": "https://localhost:8080/"
        },
        "outputId": "de601170-5591-4327-afd4-58b86d75b3e8"
      },
      "execution_count": 24,
      "outputs": [
        {
          "output_type": "execute_result",
          "data": {
            "text/plain": [
              "array(['col1', 'col2'], dtype=object)"
            ]
          },
          "metadata": {},
          "execution_count": 24
        }
      ]
    },
    {
      "cell_type": "code",
      "source": [
        ""
      ],
      "metadata": {
        "id": "tT-J0otw7IQW"
      },
      "execution_count": null,
      "outputs": []
    }
  ]
}