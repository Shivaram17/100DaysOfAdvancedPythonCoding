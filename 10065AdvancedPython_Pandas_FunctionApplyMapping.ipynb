{
  "nbformat": 4,
  "nbformat_minor": 0,
  "metadata": {
    "colab": {
      "name": "10065AdvancedPython_Pandas_FunctionApplyMapping.ipynb",
      "provenance": [],
      "collapsed_sections": [],
      "authorship_tag": "ABX9TyMG8zhccKXu735xWsCLPabs",
      "include_colab_link": true
    },
    "kernelspec": {
      "name": "python3",
      "display_name": "Python 3"
    },
    "language_info": {
      "name": "python"
    }
  },
  "cells": [
    {
      "cell_type": "markdown",
      "metadata": {
        "id": "view-in-github",
        "colab_type": "text"
      },
      "source": [
        "<a href=\"https://colab.research.google.com/github/Shivaram17/100DaysOfAdvancedPythonCoding/blob/main/10065AdvancedPython_Pandas_FunctionApplyMapping.ipynb\" target=\"_parent\"><img src=\"https://colab.research.google.com/assets/colab-badge.svg\" alt=\"Open In Colab\"/></a>"
      ]
    },
    {
      "cell_type": "code",
      "source": [
        "# function application and mapping\n",
        "import pandas as pd\n",
        "import numpy as np\n",
        "frame = pd.DataFrame(np.random.rand(4,4), columns = list('abcd'),\n",
        "                     index = ['Bas', 'Chin', 'San', 'Sai'])\n",
        "frame\n",
        "# apply func\n",
        "f = lambda x: x.max() - x.min()\n",
        "frame.apply(f)"
      ],
      "metadata": {
        "id": "K3jrRAS8idaU",
        "colab": {
          "base_uri": "https://localhost:8080/"
        },
        "outputId": "42a1aa40-546a-42e2-ef69-ab295e13916a"
      },
      "execution_count": 7,
      "outputs": [
        {
          "output_type": "execute_result",
          "data": {
            "text/plain": [
              "a    0.780898\n",
              "b    0.142648\n",
              "c    0.649601\n",
              "d    0.476047\n",
              "dtype: float64"
            ]
          },
          "metadata": {},
          "execution_count": 7
        }
      ]
    },
    {
      "cell_type": "code",
      "source": [
        ""
      ],
      "metadata": {
        "id": "XfjXLcM6OSGo"
      },
      "execution_count": null,
      "outputs": []
    }
  ]
}