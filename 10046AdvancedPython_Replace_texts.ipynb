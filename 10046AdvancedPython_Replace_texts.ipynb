{
  "nbformat": 4,
  "nbformat_minor": 0,
  "metadata": {
    "colab": {
      "name": "10046AdvancedPython_Replace_texts.ipynb",
      "provenance": [],
      "collapsed_sections": [],
      "authorship_tag": "ABX9TyOPIekLK6vyhULlXfeAegbG",
      "include_colab_link": true
    },
    "kernelspec": {
      "name": "python3",
      "display_name": "Python 3"
    },
    "language_info": {
      "name": "python"
    }
  },
  "cells": [
    {
      "cell_type": "markdown",
      "metadata": {
        "id": "view-in-github",
        "colab_type": "text"
      },
      "source": [
        "<a href=\"https://colab.research.google.com/github/Shivaram17/100DaysOfAdvancedPythonCoding/blob/main/10046AdvancedPython_Replace_texts.ipynb\" target=\"_parent\"><img src=\"https://colab.research.google.com/assets/colab-badge.svg\" alt=\"Open In Colab\"/></a>"
      ]
    },
    {
      "cell_type": "code",
      "source": [
        "import pandas as pd\n",
        "df = pd.DataFrame(\n",
        "    [[\"bar\", \"one\", 1], [\"bar\", \"two\", 2], [\"foo\", \"one\", 3], [\"foo\", \"two\", 4]],\n",
        "    columns=[\"first\", \"second\", 'third'],\n",
        ")\n",
        "\n",
        "\n",
        "df1 = pd.MultiIndex.from_frame(df) \n",
        "df1"
      ],
      "metadata": {
        "id": "iarkrx2vyH-o",
        "colab": {
          "base_uri": "https://localhost:8080/"
        },
        "outputId": "2a6c0e68-aa09-4fb6-c65b-86e5cd1328f2"
      },
      "execution_count": 8,
      "outputs": [
        {
          "output_type": "execute_result",
          "data": {
            "text/plain": [
              "MultiIndex([('bar', 'one', 1),\n",
              "            ('bar', 'two', 2),\n",
              "            ('foo', 'one', 3),\n",
              "            ('foo', 'two', 4)],\n",
              "           names=['first', 'second', 'third'])"
            ]
          },
          "metadata": {},
          "execution_count": 8
        }
      ]
    },
    {
      "cell_type": "code",
      "source": [
        "text = 'yeah bro and yeah bro and yeah yeah'\n",
        "t = text.replace('yeah', 'Hi')\n",
        "t"
      ],
      "metadata": {
        "colab": {
          "base_uri": "https://localhost:8080/",
          "height": 35
        },
        "id": "AQYyA5XG0ghn",
        "outputId": "ab86038b-65c4-406f-f8a1-b004a76217c9"
      },
      "execution_count": 9,
      "outputs": [
        {
          "output_type": "execute_result",
          "data": {
            "application/vnd.google.colaboratory.intrinsic+json": {
              "type": "string"
            },
            "text/plain": [
              "'Hi bro and Hi bro and Hi Hi'"
            ]
          },
          "metadata": {},
          "execution_count": 9
        }
      ]
    },
    {
      "cell_type": "code",
      "source": [
        ""
      ],
      "metadata": {
        "id": "TGGX7fRm7OMY"
      },
      "execution_count": null,
      "outputs": []
    }
  ]
}