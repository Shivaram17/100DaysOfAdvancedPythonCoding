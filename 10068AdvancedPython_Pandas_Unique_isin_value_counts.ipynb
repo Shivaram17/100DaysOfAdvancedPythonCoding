{
  "nbformat": 4,
  "nbformat_minor": 0,
  "metadata": {
    "colab": {
      "name": "10068AdvancedPython_Pandas_Unique_isin_value_counts.ipynb",
      "provenance": [],
      "collapsed_sections": [],
      "authorship_tag": "ABX9TyPsy43L+GcDc/8PWXY43IRf",
      "include_colab_link": true
    },
    "kernelspec": {
      "name": "python3",
      "display_name": "Python 3"
    },
    "language_info": {
      "name": "python"
    }
  },
  "cells": [
    {
      "cell_type": "markdown",
      "metadata": {
        "id": "view-in-github",
        "colab_type": "text"
      },
      "source": [
        "<a href=\"https://colab.research.google.com/github/Shivaram17/100DaysOfAdvancedPythonCoding/blob/main/10068AdvancedPython_Pandas_Unique_isin_value_counts.ipynb\" target=\"_parent\"><img src=\"https://colab.research.google.com/assets/colab-badge.svg\" alt=\"Open In Colab\"/></a>"
      ]
    },
    {
      "cell_type": "code",
      "source": [
        "# unique elements in a series\n",
        "import pandas as pd\n",
        "obj = pd.Series(['a', 'c', 'c', 'd', 'e', 'f', 'g'])\n",
        "uni = obj.unique()\n",
        "obj.value_counts()\n",
        "# ascending\n",
        "obj1 = pd.value_counts(obj.values, sort = False)\n",
        "obj1\n",
        "# isin performs vectorized set membership check\n",
        "mask = obj.isin(['c','f'])\n",
        "obj[mask]"
      ],
      "metadata": {
        "id": "YOCICNth0o01",
        "colab": {
          "base_uri": "https://localhost:8080/"
        },
        "outputId": "4ac8e2fa-fd26-4bdc-914b-2544e54b2682"
      },
      "execution_count": 10,
      "outputs": [
        {
          "output_type": "execute_result",
          "data": {
            "text/plain": [
              "1    c\n",
              "2    c\n",
              "5    f\n",
              "dtype: object"
            ]
          },
          "metadata": {},
          "execution_count": 10
        }
      ]
    },
    {
      "cell_type": "code",
      "source": [
        ""
      ],
      "metadata": {
        "id": "ScHL15OaC0pw"
      },
      "execution_count": null,
      "outputs": []
    }
  ]
}