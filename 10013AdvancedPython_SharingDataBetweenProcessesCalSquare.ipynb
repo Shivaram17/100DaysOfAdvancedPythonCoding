{
  "nbformat": 4,
  "nbformat_minor": 0,
  "metadata": {
    "colab": {
      "name": "10013AdvancedPython_SharingDataBetweenProcessesCalSquare.ipynb",
      "provenance": [],
      "collapsed_sections": [],
      "authorship_tag": "ABX9TyMnLxXZ/XnZWzelhjMdOcyv",
      "include_colab_link": true
    },
    "kernelspec": {
      "name": "python3",
      "display_name": "Python 3"
    },
    "language_info": {
      "name": "python"
    }
  },
  "cells": [
    {
      "cell_type": "markdown",
      "metadata": {
        "id": "view-in-github",
        "colab_type": "text"
      },
      "source": [
        "<a href=\"https://colab.research.google.com/github/Shivaram17/100DaysOfAdvancedPythonCoding/blob/main/10013AdvancedPython_SharingDataBetweenProcessesCalSquare.ipynb\" target=\"_parent\"><img src=\"https://colab.research.google.com/assets/colab-badge.svg\" alt=\"Open In Colab\"/></a>"
      ]
    },
    {
      "cell_type": "code",
      "source": [
        "# Decorators and its use case\n",
        "import time\n",
        "def time_it(func):\n",
        "  def wrapper(*args,**kwargs):\n",
        "    start = time.time()\n",
        "    result = func(*args, **kwargs)\n",
        "    end = time.time()\n",
        "    print(func.__name__ + ' took ' + str((end-start)*1000) + 'milliseconds')\n",
        "    return result\n",
        "  return wrapper\n",
        "# use  decorator here\n",
        "@time_it\n",
        "def calc_square(numbers):\n",
        "  result = []\n",
        "  for i in numbers:\n",
        "    result.append(i*i)\n",
        "@time_it    \n",
        "def calc_cube(numbers):\n",
        "  result = []\n",
        "  for i in numbers:\n",
        "    result.append(i*i*i)\n",
        "  return result\n",
        "\n",
        "array = range(1,1000)\n",
        "calc_cube(array)\n",
        "calc_square(array)"
      ],
      "metadata": {
        "id": "1z2lanNsiGWw",
        "colab": {
          "base_uri": "https://localhost:8080/"
        },
        "outputId": "3130c4e5-70b7-4db8-afc8-517f6934ee25"
      },
      "execution_count": null,
      "outputs": [
        {
          "output_type": "stream",
          "name": "stdout",
          "text": [
            "calc_cube took 0.2655982971191406milliseconds\n",
            "calc_square took 0.14257431030273438milliseconds\n"
          ]
        }
      ]
    },
    {
      "cell_type": "code",
      "source": [
        "# Sharing data between processes using array and values\n",
        "import time \n",
        "import multiprocessing\n",
        "# calculate square\n",
        "def calc_square(arr, result):\n",
        "  for idx, n in enumerate(arr):\n",
        "    result[idx] = n*n\n",
        "\n",
        "#main \n",
        "if __name__ == \"__main__\":\n",
        "  numbers = [2,4,6]\n",
        "  result = multiprocessing.Array('i',3)\n",
        "  p = multiprocessing.Process(target = calc_square, args = (numbers, result))\n",
        "\n",
        "  p.start()\n",
        "  p.join()\n",
        "  print(result[:])\n",
        "\n",
        "\n",
        "  #multiprocessing\n",
        "  \n",
        "\n",
        "  print('done')"
      ],
      "metadata": {
        "colab": {
          "base_uri": "https://localhost:8080/"
        },
        "id": "-i0PazbkQ1_8",
        "outputId": "c33924a1-01bd-47ca-dbaa-bdafd2ab10bd"
      },
      "execution_count": 4,
      "outputs": [
        {
          "output_type": "stream",
          "name": "stdout",
          "text": [
            "[4, 16, 36]\n",
            "done\n"
          ]
        }
      ]
    },
    {
      "cell_type": "code",
      "source": [
        ""
      ],
      "metadata": {
        "id": "D7u3scU9Vq6d"
      },
      "execution_count": null,
      "outputs": []
    }
  ]
}