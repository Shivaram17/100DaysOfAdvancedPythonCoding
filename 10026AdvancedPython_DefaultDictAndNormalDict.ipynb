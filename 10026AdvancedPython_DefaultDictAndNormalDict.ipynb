{
  "nbformat": 4,
  "nbformat_minor": 0,
  "metadata": {
    "colab": {
      "name": "10026AdvancedPython_DefaultDictAndNormalDict.ipynb",
      "provenance": [],
      "collapsed_sections": [],
      "authorship_tag": "ABX9TyNcwsyOqC5lQzTI67dKjM/p",
      "include_colab_link": true
    },
    "kernelspec": {
      "name": "python3",
      "display_name": "Python 3"
    },
    "language_info": {
      "name": "python"
    }
  },
  "cells": [
    {
      "cell_type": "markdown",
      "metadata": {
        "id": "view-in-github",
        "colab_type": "text"
      },
      "source": [
        "<a href=\"https://colab.research.google.com/github/Shivaram17/100DaysOfAdvancedPythonCoding/blob/main/10026AdvancedPython_DefaultDictAndNormalDict.ipynb\" target=\"_parent\"><img src=\"https://colab.research.google.com/assets/colab-badge.svg\" alt=\"Open In Colab\"/></a>"
      ]
    },
    {
      "cell_type": "code",
      "source": [
        "# heapq priority queue\n",
        "import heapq\n",
        "\n",
        "class PriorityQueue:\n",
        "  def __init__(self):\n",
        "    self._queue = []\n",
        "    self._index = 0\n",
        "\n",
        "  def push(self, item, priority):\n",
        "    heapq.heappush(self._queue, (-priority, self._index, item))\n",
        "    self._index +=1\n",
        "  \n",
        "  def pop(self):\n",
        "    heapq.heappop(self._queue)[-1]\n",
        "\n",
        "# call the object of the class \n",
        "class Item:\n",
        "  def __init__(self,name):\n",
        "    self.name = name\n",
        "  def __repr__(self):\n",
        "    return 'Item({!r})'.format(self.name)\n",
        "\n",
        "q = PriorityQueue()\n",
        "q.push(Item('foo'),1)\n",
        "q.push(Item('harsha'),5)\n",
        "q.push(Item('Balu'),6)\n",
        "q.push(Item('Rahul'),2)\n",
        "q.pop()\n",
        "\n",
        "\n"
      ],
      "metadata": {
        "id": "sGYZPccytsx8"
      },
      "execution_count": null,
      "outputs": []
    },
    {
      "cell_type": "code",
      "source": [
        "#defaultdict and normal dict implementation\n",
        "from collections import defaultdict\n",
        "d = defaultdict(list)\n",
        "d['a'].append(1)\n",
        "d['a'].append(2)\n",
        "d['b'].append(3)\n",
        "\n",
        "e = {}\n",
        "e.setdefault('a',[]).append(6)\n",
        "e.setdefault('a',[]).append(7)\n",
        "e.setdefault('c',[]).append(8)\n",
        "e"
      ],
      "metadata": {
        "id": "4wuyV6c2ug4n",
        "colab": {
          "base_uri": "https://localhost:8080/"
        },
        "outputId": "66f2789b-0446-4743-b8a0-bc5449bf9805"
      },
      "execution_count": 6,
      "outputs": [
        {
          "output_type": "execute_result",
          "data": {
            "text/plain": [
              "{'a': [6, 7], 'c': [8]}"
            ]
          },
          "metadata": {},
          "execution_count": 6
        }
      ]
    },
    {
      "cell_type": "code",
      "source": [
        ""
      ],
      "metadata": {
        "id": "tga-Z5fn1vDR"
      },
      "execution_count": null,
      "outputs": []
    }
  ]
}