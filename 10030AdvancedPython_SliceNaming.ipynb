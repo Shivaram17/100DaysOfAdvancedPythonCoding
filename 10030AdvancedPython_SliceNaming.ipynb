{
  "nbformat": 4,
  "nbformat_minor": 0,
  "metadata": {
    "colab": {
      "name": "10030AdvancedPython_SliceNaming.ipynb",
      "provenance": [],
      "collapsed_sections": [],
      "authorship_tag": "ABX9TyMKSwpPtdelOWnwngDEezMH",
      "include_colab_link": true
    },
    "kernelspec": {
      "name": "python3",
      "display_name": "Python 3"
    },
    "language_info": {
      "name": "python"
    }
  },
  "cells": [
    {
      "cell_type": "markdown",
      "metadata": {
        "id": "view-in-github",
        "colab_type": "text"
      },
      "source": [
        "<a href=\"https://colab.research.google.com/github/Shivaram17/100DaysOfAdvancedPythonCoding/blob/main/10030AdvancedPython_SliceNaming.ipynb\" target=\"_parent\"><img src=\"https://colab.research.google.com/assets/colab-badge.svg\" alt=\"Open In Colab\"/></a>"
      ]
    },
    {
      "cell_type": "code",
      "source": [
        "items = [1, 2, 3, 4, 5, 6, 7, 8]\n",
        "a = slice(2,4)\n",
        "# items[2:4]\n",
        "# items[a]\n",
        "items[a] = [10, 11] \n",
        "del items[a]\n",
        "items\n"
      ],
      "metadata": {
        "id": "BjukQalAx-3t",
        "colab": {
          "base_uri": "https://localhost:8080/"
        },
        "outputId": "a078e549-71d0-4092-91ce-25e44cfa09f6"
      },
      "execution_count": 5,
      "outputs": [
        {
          "output_type": "execute_result",
          "data": {
            "text/plain": [
              "[1, 2, 5, 6, 7, 8]"
            ]
          },
          "metadata": {},
          "execution_count": 5
        }
      ]
    },
    {
      "cell_type": "code",
      "source": [
        ""
      ],
      "metadata": {
        "id": "MKgi5ZoM6Gef"
      },
      "execution_count": null,
      "outputs": []
    }
  ]
}