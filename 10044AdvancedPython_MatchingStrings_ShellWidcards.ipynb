{
  "nbformat": 4,
  "nbformat_minor": 0,
  "metadata": {
    "colab": {
      "name": "10044AdvancedPython_MatchingStrings_ShellWidcards.ipynb",
      "provenance": [],
      "collapsed_sections": [],
      "authorship_tag": "ABX9TyPPTf87BCmzTPNdWcXlgVR2",
      "include_colab_link": true
    },
    "kernelspec": {
      "name": "python3",
      "display_name": "Python 3"
    },
    "language_info": {
      "name": "python"
    }
  },
  "cells": [
    {
      "cell_type": "markdown",
      "metadata": {
        "id": "view-in-github",
        "colab_type": "text"
      },
      "source": [
        "<a href=\"https://colab.research.google.com/github/Shivaram17/100DaysOfAdvancedPythonCoding/blob/main/10044AdvancedPython_MatchingStrings_ShellWidcards.ipynb\" target=\"_parent\"><img src=\"https://colab.research.google.com/assets/colab-badge.svg\" alt=\"Open In Colab\"/></a>"
      ]
    },
    {
      "cell_type": "code",
      "source": [
        "# splitting a string on any multiple delimiters\n",
        "import re\n",
        "line = 'asdf fjdk; afed, - fdad, dasa.'\n",
        "re.split(r'(;|,\\s)\\s*', line)\n"
      ],
      "metadata": {
        "colab": {
          "base_uri": "https://localhost:8080/"
        },
        "id": "sc5Is7fFGG3S",
        "outputId": "70b599f1-8082-40cd-b0dc-25839e315fa5"
      },
      "execution_count": null,
      "outputs": [
        {
          "output_type": "execute_result",
          "data": {
            "text/plain": [
              "['asdf fjdk', ';', 'afed', ', ', '- fdad', ', ', 'dasa.']"
            ]
          },
          "metadata": {},
          "execution_count": 6
        }
      ]
    },
    {
      "cell_type": "code",
      "source": [
        "# Matching text \n",
        "import os\n",
        "filename = 'same.txt'\n",
        "filename.endswith('.txt')\n",
        "filename.startswith('file:')\n",
        "\n",
        "#\n",
        "url = 'http/:python.org'\n",
        "url.capitalize()\n",
        "file = ['make.py', 'cake.c', 'bake.c', 'harikrupa.rahul']\n",
        "\n",
        "a = [ name for name in file if name.endswith(('.c', '.rahul'))]\n",
        "b = any(name.endswith('.py') for name in a)\n",
        "b"
      ],
      "metadata": {
        "id": "4Bb8aVk5Ir3p",
        "colab": {
          "base_uri": "https://localhost:8080/"
        },
        "outputId": "ad7f03b0-a281-425f-da09-12bcf53b6874"
      },
      "execution_count": null,
      "outputs": [
        {
          "output_type": "execute_result",
          "data": {
            "text/plain": [
              "False"
            ]
          },
          "metadata": {},
          "execution_count": 13
        }
      ]
    },
    {
      "cell_type": "code",
      "source": [
        "# matching using shell wildcards\n",
        "from fnmatch import fnmatch\n",
        "names = [ 'dat1.csv', 'dat2.csv', 'da.csv']\n",
        "[name for name in names if fnmatch(name, 'dat*.csv')]"
      ],
      "metadata": {
        "id": "WVZDkoYwh5oK",
        "colab": {
          "base_uri": "https://localhost:8080/"
        },
        "outputId": "68b21613-5e32-424e-c00b-e1369fed9bba"
      },
      "execution_count": 3,
      "outputs": [
        {
          "output_type": "execute_result",
          "data": {
            "text/plain": [
              "['dat1.csv', 'dat2.csv']"
            ]
          },
          "metadata": {},
          "execution_count": 3
        }
      ]
    },
    {
      "cell_type": "code",
      "source": [
        ""
      ],
      "metadata": {
        "id": "FvLXhmNDPYd3"
      },
      "execution_count": null,
      "outputs": []
    }
  ]
}