{
  "nbformat": 4,
  "nbformat_minor": 0,
  "metadata": {
    "colab": {
      "name": "10018AdvancedPython_ExtendedIterableUnpacking.ipynb",
      "provenance": [],
      "collapsed_sections": [],
      "authorship_tag": "ABX9TyOUaJyCn8jihJ7KzA1C/cOK",
      "include_colab_link": true
    },
    "kernelspec": {
      "name": "python3",
      "display_name": "Python 3"
    },
    "language_info": {
      "name": "python"
    }
  },
  "cells": [
    {
      "cell_type": "markdown",
      "metadata": {
        "id": "view-in-github",
        "colab_type": "text"
      },
      "source": [
        "<a href=\"https://colab.research.google.com/github/Shivaram17/100DaysOfAdvancedPythonCoding/blob/main/10018AdvancedPython_ExtendedIterableUnpacking.ipynb\" target=\"_parent\"><img src=\"https://colab.research.google.com/assets/colab-badge.svg\" alt=\"Open In Colab\"/></a>"
      ]
    },
    {
      "cell_type": "code",
      "source": [
        "#extended iterable unpacking\n",
        "def do_foo(x,y):\n",
        "  print('foo',x,y)\n",
        "\n",
        "def do_bar(s):\n",
        "  print('bar',s)\n",
        "\n",
        "records = [('foo',10,12), \n",
        "           ('bar','hello'),\n",
        "           ('foo', 123,124)]\n",
        "\n",
        "for tag, *args in records:\n",
        "  if tag == 'foo':\n",
        "    do_foo(*args)\n",
        "  elif tag == 'bar':\n",
        "    do_bar(*args)\n"
      ],
      "metadata": {
        "colab": {
          "base_uri": "https://localhost:8080/"
        },
        "id": "yXSU2BHw5Z7b",
        "outputId": "9b173ea1-2800-4831-9988-484157bc8296"
      },
      "execution_count": 4,
      "outputs": [
        {
          "output_type": "stream",
          "name": "stdout",
          "text": [
            "foo 10 12\n",
            "bar hello\n",
            "foo 123 124\n"
          ]
        }
      ]
    },
    {
      "cell_type": "code",
      "source": [
        ""
      ],
      "metadata": {
        "id": "18JEELTK8mMi"
      },
      "execution_count": null,
      "outputs": []
    }
  ]
}