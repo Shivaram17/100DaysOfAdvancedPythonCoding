{
  "nbformat": 4,
  "nbformat_minor": 0,
  "metadata": {
    "colab": {
      "name": "10017AdvancedPython_UnpackingAndDropFirst_last.ipynb",
      "provenance": [],
      "collapsed_sections": [],
      "authorship_tag": "ABX9TyO/R6ZVk8bqWrnmpurgctq/",
      "include_colab_link": true
    },
    "kernelspec": {
      "name": "python3",
      "display_name": "Python 3"
    },
    "language_info": {
      "name": "python"
    }
  },
  "cells": [
    {
      "cell_type": "markdown",
      "metadata": {
        "id": "view-in-github",
        "colab_type": "text"
      },
      "source": [
        "<a href=\"https://colab.research.google.com/github/Shivaram17/100DaysOfAdvancedPythonCoding/blob/main/10017AdvancedPython_UnpackingAndDropFirst_last.ipynb\" target=\"_parent\"><img src=\"https://colab.research.google.com/assets/colab-badge.svg\" alt=\"Open In Colab\"/></a>"
      ]
    },
    {
      "cell_type": "code",
      "source": [
        "# unpackisng elements from iterables of arbitrary length\n",
        "def drop_first_last(grades):\n",
        "  first, *middle, last = grades\n",
        "  return middle\n",
        "grades = [8,9,9,9,10,9]\n",
        "drop_first_last(grades)\n"
      ],
      "metadata": {
        "id": "r6GQ2uLEgqsm",
        "colab": {
          "base_uri": "https://localhost:8080/"
        },
        "outputId": "05f1c367-efe1-4824-e64c-30746ade2a28"
      },
      "execution_count": 3,
      "outputs": [
        {
          "output_type": "execute_result",
          "data": {
            "text/plain": [
              "[9, 9, 9, 10]"
            ]
          },
          "metadata": {},
          "execution_count": 3
        }
      ]
    },
    {
      "cell_type": "code",
      "source": [
        ""
      ],
      "metadata": {
        "id": "yXSU2BHw5Z7b"
      },
      "execution_count": null,
      "outputs": []
    }
  ]
}