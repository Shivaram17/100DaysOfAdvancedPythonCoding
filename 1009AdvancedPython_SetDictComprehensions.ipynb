{
  "nbformat": 4,
  "nbformat_minor": 0,
  "metadata": {
    "colab": {
      "name": "1009AdvancedPython_SetDictComprehensions.ipynb",
      "provenance": [],
      "collapsed_sections": [],
      "authorship_tag": "ABX9TyPm+cpu+HUIP48rZUvhdsvH",
      "include_colab_link": true
    },
    "kernelspec": {
      "name": "python3",
      "display_name": "Python 3"
    },
    "language_info": {
      "name": "python"
    }
  },
  "cells": [
    {
      "cell_type": "markdown",
      "metadata": {
        "id": "view-in-github",
        "colab_type": "text"
      },
      "source": [
        "<a href=\"https://colab.research.google.com/github/Shivaram17/100DaysOfAdvancedPythonCoding/blob/main/1009AdvancedPython_SetDictComprehensions.ipynb\" target=\"_parent\"><img src=\"https://colab.research.google.com/assets/colab-badge.svg\" alt=\"Open In Colab\"/></a>"
      ]
    },
    {
      "cell_type": "code",
      "source": [
        "# Set and dictionary comprehensions\n",
        "s = set([2,24,45,56,64,2])\n",
        "even = {i for i in s if i%2 == 0 }\n",
        "#dict comprehension\n",
        "cities = ['Mumbai', 'New york', 'Paris']\n",
        "country = ['India', 'USA', 'France']\n",
        "z = zip(cities, country)\n",
        "# bruteforce\n",
        "# for a in z:\n",
        "#   print(a)\n",
        "\n",
        "# easy\n",
        "c = {city:country for city,country in z}\n",
        "c"
      ],
      "metadata": {
        "id": "1z2lanNsiGWw",
        "colab": {
          "base_uri": "https://localhost:8080/"
        },
        "outputId": "7cd1f493-6878-4107-abe4-e9519dd8ddd8"
      },
      "execution_count": 7,
      "outputs": [
        {
          "output_type": "execute_result",
          "data": {
            "text/plain": [
              "{'Mumbai': 'India', 'New york': 'USA', 'Paris': 'France'}"
            ]
          },
          "metadata": {},
          "execution_count": 7
        }
      ]
    },
    {
      "cell_type": "code",
      "source": [
        "import re\n",
        "a = input(\"enter \\ and string: \")\n",
        "# list of different types of file\n",
        "filenames = [\"ssa_December_2021.xlsx\", \"mena_December_2021.xlsx\", \n",
        "            \"we_December_2021.xlsx\", \"apac_December_2021.xlsx\"]\n",
        "  \n",
        "for file in filenames:\n",
        "    # search given pattern in the line \n",
        "    b = \".xlsx$\"\n",
        "    p = a  +  b\n",
        "    match = re.search(p, file)\n",
        "  \n",
        "    # if match is found\n",
        "    if match:\n",
        "        print(\"The file ending with .xlsx is:\",\n",
        "             file)"
      ],
      "metadata": {
        "id": "tT-J0otw7IQW",
        "colab": {
          "base_uri": "https://localhost:8080/",
          "height": 234
        },
        "outputId": "e58aa722-70a6-493a-c787-67208804ffbf"
      },
      "execution_count": null,
      "outputs": [
        {
          "output_type": "error",
          "ename": "TypeError",
          "evalue": "ignored",
          "traceback": [
            "\u001b[0;31m---------------------------------------------------------------------------\u001b[0m",
            "\u001b[0;31mTypeError\u001b[0m                                 Traceback (most recent call last)",
            "\u001b[0;32m<ipython-input-10-a977462b4622>\u001b[0m in \u001b[0;36m<module>\u001b[0;34m()\u001b[0m\n\u001b[1;32m      1\u001b[0m \u001b[0;32mimport\u001b[0m \u001b[0mre\u001b[0m\u001b[0;34m\u001b[0m\u001b[0;34m\u001b[0m\u001b[0m\n\u001b[0;32m----> 2\u001b[0;31m \u001b[0ma\u001b[0m \u001b[0;34m=\u001b[0m \u001b[0minput\u001b[0m\u001b[0;34m(\u001b[0m\u001b[0;34m\"enter \\ and string: \"\u001b[0m\u001b[0;34m)\u001b[0m\u001b[0;34m\u001b[0m\u001b[0;34m\u001b[0m\u001b[0m\n\u001b[0m\u001b[1;32m      3\u001b[0m \u001b[0;31m# list of different types of file\u001b[0m\u001b[0;34m\u001b[0m\u001b[0;34m\u001b[0m\u001b[0;34m\u001b[0m\u001b[0m\n\u001b[1;32m      4\u001b[0m filenames = [\"ssa_December_2021.xlsx\", \"mena_December_2021.xlsx\", \n\u001b[1;32m      5\u001b[0m             \"we_December_2021.xlsx\", \"apac_December_2021.xlsx\"]\n",
            "\u001b[0;31mTypeError\u001b[0m: 'str' object is not callable"
          ]
        }
      ]
    },
    {
      "cell_type": "code",
      "source": [
        ""
      ],
      "metadata": {
        "id": "M7zoZ-U0M-p4"
      },
      "execution_count": null,
      "outputs": []
    }
  ]
}