{
  "nbformat": 4,
  "nbformat_minor": 0,
  "metadata": {
    "colab": {
      "name": "10035AdvancedPython_Extracting_Subset_Dict.ipynb",
      "provenance": [],
      "collapsed_sections": [],
      "authorship_tag": "ABX9TyOxipndgAR7I4cBfISvWmWE",
      "include_colab_link": true
    },
    "kernelspec": {
      "name": "python3",
      "display_name": "Python 3"
    },
    "language_info": {
      "name": "python"
    }
  },
  "cells": [
    {
      "cell_type": "markdown",
      "metadata": {
        "id": "view-in-github",
        "colab_type": "text"
      },
      "source": [
        "<a href=\"https://colab.research.google.com/github/Shivaram17/100DaysOfAdvancedPythonCoding/blob/main/10035AdvancedPython_Extracting_Subset_Dict.ipynb\" target=\"_parent\"><img src=\"https://colab.research.google.com/assets/colab-badge.svg\" alt=\"Open In Colab\"/></a>"
      ]
    },
    {
      "cell_type": "code",
      "source": [
        "import pandas as pd\n",
        "import datetime\n",
        "dt = pd.to_datetime('today')\n",
        "r = dt.strftime('%d-%b-%Y')\n",
        "print(r)"
      ],
      "metadata": {
        "id": "FufECx5oPyrj",
        "colab": {
          "base_uri": "https://localhost:8080/"
        },
        "outputId": "539ec746-9a97-4487-ea81-b7d53148b9bf"
      },
      "execution_count": 7,
      "outputs": [
        {
          "output_type": "stream",
          "name": "stdout",
          "text": [
            "28-Feb-2022\n"
          ]
        }
      ]
    },
    {
      "cell_type": "code",
      "source": [
        "# Extracting a subset of Dictionary\n",
        "prices = {\n",
        "    'ACME': 45.23,\n",
        "    'AAPL': 612.78,\n",
        "    'IBM': 205.5,\n",
        "    'HPQ': 37.20,\n",
        "    'FB': 10.75\n",
        "}\n",
        "\n",
        "# Make a dict of all prices over 200\n",
        "p1 = {key: value for key,value in prices.items() if value > 200}\n",
        "\n",
        "#make a dict of tech stocks\n",
        "tech_sme =  ('AAPL', 'IBM', 'HPQ', 'FB')\n",
        "p2 = {key: value for key,value in prices.items() if key in tech_sme}\n",
        "p2"
      ],
      "metadata": {
        "colab": {
          "base_uri": "https://localhost:8080/"
        },
        "id": "uIrTIv1ugboM",
        "outputId": "2ee5cec4-8383-4340-f9aa-43991e216858"
      },
      "execution_count": 4,
      "outputs": [
        {
          "output_type": "execute_result",
          "data": {
            "text/plain": [
              "{'AAPL': 612.78, 'FB': 10.75, 'HPQ': 37.2, 'IBM': 205.5}"
            ]
          },
          "metadata": {},
          "execution_count": 4
        }
      ]
    },
    {
      "cell_type": "code",
      "source": [
        ""
      ],
      "metadata": {
        "id": "qGQat_cGabm7"
      },
      "execution_count": null,
      "outputs": []
    }
  ]
}