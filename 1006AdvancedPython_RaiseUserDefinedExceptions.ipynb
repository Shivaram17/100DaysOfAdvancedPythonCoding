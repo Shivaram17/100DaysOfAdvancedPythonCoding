{
  "nbformat": 4,
  "nbformat_minor": 0,
  "metadata": {
    "colab": {
      "name": "1006AdvancedPython_RaiseUserDefinedExceptions.ipynb",
      "provenance": [],
      "collapsed_sections": [],
      "authorship_tag": "ABX9TyOxU8biYcVdxj5cWxEEF8ax",
      "include_colab_link": true
    },
    "kernelspec": {
      "name": "python3",
      "display_name": "Python 3"
    },
    "language_info": {
      "name": "python"
    }
  },
  "cells": [
    {
      "cell_type": "markdown",
      "metadata": {
        "id": "view-in-github",
        "colab_type": "text"
      },
      "source": [
        "<a href=\"https://colab.research.google.com/github/Shivaram17/100DaysOfAdvancedPythonCoding/blob/main/1006AdvancedPython_RaiseUserDefinedExceptions.ipynb\" target=\"_parent\"><img src=\"https://colab.research.google.com/assets/colab-badge.svg\" alt=\"Open In Colab\"/></a>"
      ]
    },
    {
      "cell_type": "code",
      "source": [
        "\n",
        "# Raise Exceptions\n",
        "class Accident(Exception):\n",
        "  def __init__(self, msg):\n",
        "    self.msg = msg\n",
        "  \n",
        "  def print_exception(self):\n",
        "    print('User defined exception', self.msg)\n",
        "\n",
        "\n",
        "# raising an exception\n",
        "try:\n",
        "  raise Accident('Accident between two cars')\n",
        "except Accident as e:\n",
        "  e.print_exception()\n",
        "finally:\n",
        "  print(\"I am coding\")\n",
        "\n",
        "  "
      ],
      "metadata": {
        "id": "1z2lanNsiGWw",
        "colab": {
          "base_uri": "https://localhost:8080/"
        },
        "outputId": "3059366a-81a7-4d17-b034-6cc37c83c6a9"
      },
      "execution_count": 2,
      "outputs": [
        {
          "output_type": "stream",
          "name": "stdout",
          "text": [
            "User defined exception Accident between two cars\n",
            "I am coding\n"
          ]
        }
      ]
    },
    {
      "cell_type": "code",
      "source": [
        ""
      ],
      "metadata": {
        "id": "tT-J0otw7IQW"
      },
      "execution_count": null,
      "outputs": []
    }
  ]
}