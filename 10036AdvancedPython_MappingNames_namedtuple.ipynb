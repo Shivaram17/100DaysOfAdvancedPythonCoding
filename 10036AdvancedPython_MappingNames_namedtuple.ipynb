{
  "nbformat": 4,
  "nbformat_minor": 0,
  "metadata": {
    "colab": {
      "name": "10036AdvancedPython_MappingNames_namedtuple.ipynb",
      "provenance": [],
      "collapsed_sections": [],
      "authorship_tag": "ABX9TyPqhwR/icEEBRwttKb3lBtv",
      "include_colab_link": true
    },
    "kernelspec": {
      "name": "python3",
      "display_name": "Python 3"
    },
    "language_info": {
      "name": "python"
    }
  },
  "cells": [
    {
      "cell_type": "markdown",
      "metadata": {
        "id": "view-in-github",
        "colab_type": "text"
      },
      "source": [
        "<a href=\"https://colab.research.google.com/github/Shivaram17/100DaysOfAdvancedPythonCoding/blob/main/10036AdvancedPython_MappingNames_namedtuple.ipynb\" target=\"_parent\"><img src=\"https://colab.research.google.com/assets/colab-badge.svg\" alt=\"Open In Colab\"/></a>"
      ]
    },
    {
      "cell_type": "code",
      "source": [
        "#Mapping Names to Sequence elements\n",
        "#You have code that accesses list or tuple elements by position, but this makes the code\n",
        "# somewhat difficult to read at times. You’d also like to be less dependent on position in\n",
        "# the structure, by accessing the elements by name\n",
        "from collections import namedtuple\n",
        "Subscriber = namedtuple('Subscriber', ['addr', 'joined'])\n",
        "sub  = Subscriber('digitalmonk17@gmail.com', '01-03-2022')\n",
        "sub.addr"
      ],
      "metadata": {
        "id": "qGQat_cGabm7",
        "colab": {
          "base_uri": "https://localhost:8080/",
          "height": 35
        },
        "outputId": "51e1c3e6-3c2b-4a26-845a-ae2bc0962753"
      },
      "execution_count": 7,
      "outputs": [
        {
          "output_type": "execute_result",
          "data": {
            "application/vnd.google.colaboratory.intrinsic+json": {
              "type": "string"
            },
            "text/plain": [
              "'digitalmonk17@gmail.com'"
            ]
          },
          "metadata": {},
          "execution_count": 7
        }
      ]
    },
    {
      "cell_type": "code",
      "source": [
        ""
      ],
      "metadata": {
        "id": "nJTthVGNrNtu"
      },
      "execution_count": null,
      "outputs": []
    }
  ]
}