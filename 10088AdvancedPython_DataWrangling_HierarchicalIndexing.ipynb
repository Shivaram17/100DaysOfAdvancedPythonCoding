{
  "nbformat": 4,
  "nbformat_minor": 0,
  "metadata": {
    "colab": {
      "name": "10088AdvancedPython_DataWrangling_HierarchicalIndexing.ipynb",
      "provenance": [],
      "collapsed_sections": [],
      "authorship_tag": "ABX9TyMyCoPC7ZYL1M6d6ZnWpLrC",
      "include_colab_link": true
    },
    "kernelspec": {
      "name": "python3",
      "display_name": "Python 3"
    },
    "language_info": {
      "name": "python"
    }
  },
  "cells": [
    {
      "cell_type": "markdown",
      "metadata": {
        "id": "view-in-github",
        "colab_type": "text"
      },
      "source": [
        "<a href=\"https://colab.research.google.com/github/Shivaram17/100DaysOfAdvancedPythonCoding/blob/main/10088AdvancedPython_DataWrangling_HierarchicalIndexing.ipynb\" target=\"_parent\"><img src=\"https://colab.research.google.com/assets/colab-badge.svg\" alt=\"Open In Colab\"/></a>"
      ]
    },
    {
      "cell_type": "code",
      "source": [
        "# Vectorized string\n",
        "import pandas as pd\n",
        "import numpy as np\n",
        "import re\n",
        "data = {'rob': 'rob@google.com', 'Dillu': 'Dillu@gmail.com',\n",
        "        'Mike': 'mike@gmail.com', 'Wes': np.nan}\n",
        "\n",
        "d = pd.Series(data)\n",
        "\n",
        "# pattern\n",
        "pattern = '([A-Z0-9_%+-]+)@([A-Z0-9.-]+)\\\\.([A-Z0-9]{2,4})'\n",
        "#compile the pattern\n",
        "regex = re.compile(pattern, flags=re.IGNORECASE)\n",
        "d.str.findall(pattern, flags=re.IGNORECASE)\n",
        "\n",
        "matches = d.str.match(regex)\n",
        "matches\n",
        "d.str[:]"
      ],
      "metadata": {
        "id": "GyiZ_y_Ubd2e",
        "colab": {
          "base_uri": "https://localhost:8080/"
        },
        "outputId": "05c05d0e-35b4-4a88-c182-b840ab3cc702"
      },
      "execution_count": 27,
      "outputs": [
        {
          "output_type": "execute_result",
          "data": {
            "text/plain": [
              "rob       rob@google.com\n",
              "Dillu    Dillu@gmail.com\n",
              "Mike      mike@gmail.com\n",
              "Wes                  NaN\n",
              "dtype: object"
            ]
          },
          "metadata": {},
          "execution_count": 27
        }
      ]
    },
    {
      "cell_type": "code",
      "source": [
        "# Hierarchical indexing\n",
        "data1 = pd.Series(np.random.rand(9), index = [['a', 'a', 'a', 'b', 'b', 'b','c','c','d'],\n",
        "                                            [1,2,3,4,5,6,7,8,9]])\n",
        "data1['b']\n",
        "data1[4:]\n",
        "data1['b':'d']\n",
        "data1.loc[['b','d']]\n",
        "data1.loc['b':,:]\n",
        "# Hierarchical data is useful in reshaping the data   and group based operations like forming a pivot table\\\n",
        "data1.unstack().stack()"
      ],
      "metadata": {
        "colab": {
          "base_uri": "https://localhost:8080/"
        },
        "id": "Aho00icnFQ5_",
        "outputId": "3420c3c0-674f-4f5d-dcaf-7c1f45080b00"
      },
      "execution_count": 51,
      "outputs": [
        {
          "output_type": "execute_result",
          "data": {
            "text/plain": [
              "a  1    0.779624\n",
              "   2    0.728688\n",
              "   3    0.046360\n",
              "b  4    0.240540\n",
              "   5    0.788365\n",
              "   6    0.606997\n",
              "c  7    0.567579\n",
              "   8    0.366556\n",
              "d  9    0.023182\n",
              "dtype: float64"
            ]
          },
          "metadata": {},
          "execution_count": 51
        }
      ]
    },
    {
      "cell_type": "code",
      "source": [
        ""
      ],
      "metadata": {
        "id": "rfZSmtNENu08"
      },
      "execution_count": null,
      "outputs": []
    }
  ]
}