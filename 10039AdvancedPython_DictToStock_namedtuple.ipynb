{
  "nbformat": 4,
  "nbformat_minor": 0,
  "metadata": {
    "colab": {
      "name": "10039AdvancedPython_DictToStock_namedtuple.ipynb",
      "provenance": [],
      "collapsed_sections": [],
      "authorship_tag": "ABX9TyOceaevasaSCbIYUM15V2sE",
      "include_colab_link": true
    },
    "kernelspec": {
      "name": "python3",
      "display_name": "Python 3"
    },
    "language_info": {
      "name": "python"
    }
  },
  "cells": [
    {
      "cell_type": "markdown",
      "metadata": {
        "id": "view-in-github",
        "colab_type": "text"
      },
      "source": [
        "<a href=\"https://colab.research.google.com/github/Shivaram17/100DaysOfAdvancedPythonCoding/blob/main/10039AdvancedPython_DictToStock_namedtuple.ipynb\" target=\"_parent\"><img src=\"https://colab.research.google.com/assets/colab-badge.svg\" alt=\"Open In Colab\"/></a>"
      ]
    },
    {
      "cell_type": "code",
      "source": [
        "# function to create a stock from a dict\n",
        "from collections import namedtuple\n",
        "from datetime import datetime\n",
        "Stock = namedtuple(\"Stock\", ['name', 'shares', 'price', 'date', 'time'])\n",
        "stock_prototype = Stock('', 0, 0.0, None, None)\n",
        "# function \n",
        "def dict_to_stock(s):\n",
        "  return stock_prototype._replace(**s)\n",
        "d =  datetime.now()\n",
        "a = {'name':'AAPL', 'shares': 100, 'price': 100, 'date': d  }\n",
        "b = dict_to_stock(a)\n",
        "b"
      ],
      "metadata": {
        "colab": {
          "base_uri": "https://localhost:8080/"
        },
        "id": "e4gb2dP2hRqE",
        "outputId": "c3b8e11a-7abe-44a5-a957-2cd59c4ab554"
      },
      "execution_count": 12,
      "outputs": [
        {
          "output_type": "execute_result",
          "data": {
            "text/plain": [
              "Stock(name='AAPL', shares=100, price=100, date=datetime.datetime(2022, 3, 3, 13, 34, 37, 492143), time=None)"
            ]
          },
          "metadata": {},
          "execution_count": 12
        }
      ]
    },
    {
      "cell_type": "code",
      "source": [
        ""
      ],
      "metadata": {
        "id": "nA3CO-ga-TmV"
      },
      "execution_count": null,
      "outputs": []
    }
  ]
}